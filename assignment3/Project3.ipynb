{
 "cells": [
  {
   "cell_type": "markdown",
   "metadata": {},
   "source": [
    "# Import Libraries"
   ]
  },
  {
   "cell_type": "code",
   "execution_count": 1,
   "metadata": {
    "collapsed": true
   },
   "outputs": [],
   "source": [
    "from pylab import *\n",
    "import numpy as np\n",
    "import matplotlib.pyplot as plt\n",
    "import matplotlib.cbook as cbook\n",
    "import time\n",
    "from scipy.misc import imread\n",
    "from scipy.misc import imresize\n",
    "import matplotlib.image as mpimg\n",
    "from scipy.ndimage import filters\n",
    "import urllib\n",
    "from numpy import random\n",
    "import copy\n",
    "\n",
    "import cPickle\n",
    "\n",
    "import os\n",
    "from scipy.io import loadmat"
   ]
  },
  {
   "cell_type": "code",
   "execution_count": 2,
   "metadata": {
    "collapsed": true
   },
   "outputs": [],
   "source": [
    "#plt.show() in jupyter notebook\n",
    "%matplotlib inline"
   ]
  },
  {
   "cell_type": "markdown",
   "metadata": {},
   "source": [
    "# Part 1"
   ]
  },
  {
   "cell_type": "markdown",
   "metadata": {},
   "source": [
    "#### Analysis Data"
   ]
  },
  {
   "cell_type": "code",
   "execution_count": 12,
   "metadata": {
    "collapsed": true
   },
   "outputs": [],
   "source": [
    "def Counts(d):\n",
    "    '''\n",
    "    input: a list of lists of strings that represents one new title\n",
    "    output: a dictionary that contains every word appeared and its count. To be precise, key is word and value is count.\n",
    "    '''\n",
    "    wordsCounts = {}\n",
    "    for i in d:\n",
    "        for j in i:\n",
    "            if j not in wordsCounts:\n",
    "                wordsCounts[j] = 1\n",
    "            else:\n",
    "                wordsCounts[j] += 1\n",
    "                \n",
    "    return wordsCounts"
   ]
  },
  {
   "cell_type": "code",
   "execution_count": 13,
   "metadata": {
    "scrolled": true
   },
   "outputs": [
    {
     "name": "stdout",
     "output_type": "stream",
     "text": [
      "the 1-th most prevealing word in fake news is trump :1328\n",
      "the 2-th most prevealing word in fake news is the :439\n",
      "the 3-th most prevealing word in fake news is to :409\n",
      "the 4-th most prevealing word in fake news is in :231\n",
      "the 5-th most prevealing word in fake news is donald :228\n",
      "the 6-th most prevealing word in fake news is of :212\n",
      "the 7-th most prevealing word in fake news is for :205\n",
      "the 8-th most prevealing word in fake news is a :192\n",
      "the 9-th most prevealing word in fake news is and :180\n",
      "the 10-th most prevealing word in fake news is on :166\n",
      "\n",
      "\n",
      "the 1-th most prevealing word in real news is trump :1744\n",
      "the 2-th most prevealing word in real news is donald :829\n",
      "the 3-th most prevealing word in real news is to :413\n",
      "the 4-th most prevealing word in real news is us :230\n",
      "the 5-th most prevealing word in real news is trumps :219\n",
      "the 6-th most prevealing word in real news is in :214\n",
      "the 7-th most prevealing word in real news is on :205\n",
      "the 8-th most prevealing word in real news is of :186\n",
      "the 9-th most prevealing word in real news is says :178\n",
      "the 10-th most prevealing word in real news is for :174\n"
     ]
    },
    {
     "data": {
      "image/png": "[encoded data removed]",
      "text/plain": [
       "<matplotlib.figure.Figure at 0xbce4f98>"
      ]
     },
     "metadata": {},
     "output_type": "display_data"
    }
   ],
   "source": [
    "#import fakeData and realData from text files\n",
    "fakeData = [line.rstrip('\\n').split(' ') for line in open('clean_fake.txt')]\n",
    "realData = [line.rstrip('\\n').split(' ') for line in open('clean_real.txt')]\n",
    "\n",
    "#count words in realData and fakeData\n",
    "fakeWordsCounts = Counts(fakeData)\n",
    "realWordsCounts = Counts(realData)\n",
    "            \n",
    "#sort words according to how often they appear\n",
    "fakeWordsInOrder = sorted(fakeWordsCounts, key = fakeWordsCounts.__getitem__, reverse=True)\n",
    "realWordsInOrder = sorted(realWordsCounts, key = realWordsCounts.__getitem__, reverse=True)\n",
    "\n",
    "#plot\n",
    "fig = plt.figure(11)\n",
    "plt.plot(range(20), [fakeWordsCounts[fakeWordsInOrder[i]] for i in range(20)], label = \"fake\")\n",
    "plt.plot(range(20), [realWordsCounts[realWordsInOrder[i]] for i in range(20)], label = \"real\")\n",
    "plt.ylabel(\"number of appearance\")\n",
    "plt.xlabel(\"the i-th most prevailing word\")\n",
    "plt.legend(loc = \"best\")\n",
    "\n",
    "#print the most prevailing words:\n",
    "for i in range(10):\n",
    "    print \"the %i-th most prevealing word in fake news is %s :%i\"%(i+1,fakeWordsInOrder[i],fakeWordsCounts[fakeWordsInOrder[i]])\n",
    "print('\\n')\n",
    "for i in range(10):\n",
    "    print \"the %i-th most prevealing word in real news is %s :%i\"%(i+1,realWordsInOrder[i],realWordsCounts[realWordsInOrder[i]])"
   ]
  },
  {
   "cell_type": "markdown",
   "metadata": {},
   "source": [
    "#### Spliting data\n"
   ]
  },
  {
   "cell_type": "code",
   "execution_count": 4,
   "metadata": {
    "collapsed": true
   },
   "outputs": [],
   "source": [
    "random.seed(0)\n",
    "fakeDataCopy = copy.deepcopy(fakeData)\n",
    "realDataCopy = copy.deepcopy(realData)\n",
    "random.shuffle(fakeDataCopy)\n",
    "random.shuffle(realDataCopy)\n",
    "\n",
    "fakeTrain = fakeDataCopy[:int(len(fakeDataCopy)*0.7)]\n",
    "fakeVali = fakeDataCopy[int(len(fakeDataCopy)*0.7):int(len(fakeDataCopy)*0.85)]\n",
    "fakeTest = fakeDataCopy[int(len(fakeDataCopy)*0.85):]\n",
    "\n",
    "realTrain = realDataCopy[:int(len(realDataCopy)*0.7)]\n",
    "realVali = realDataCopy[int(len(realDataCopy)*0.7):int(len(realDataCopy)*0.85)]\n",
    "realTest = realDataCopy[int(len(realDataCopy)*0.85):]"
   ]
  },
  {
   "cell_type": "markdown",
   "metadata": {},
   "source": [
    "# Part 2"
   ]
  },
  {
   "cell_type": "code",
   "execution_count": 16,
   "metadata": {
    "collapsed": true
   },
   "outputs": [],
   "source": [
    "#construct wordList that contains all the words appeared\n",
    "temp = copy.copy(fakeWordsInOrder)\n",
    "temp.extend(realWordsInOrder)\n",
    "wordList = sorted(set(temp), key=temp.index)\n",
    "\n",
    "m = 0.1\n",
    "pHat = 0.1\n",
    "\n",
    "#Getting parameter:\n",
    "fakeWordsCountsTrain = Counts(fakeTrain)\n",
    "realWordsCountsTrain = Counts(realTrain)\n",
    "wordListPrediction={} #a dictionary whose key is word and value is a list: the first element in sublist is P(xi=1|fake), the second element is sublist is P(xi=1|real).\n",
    "for i in wordList:\n",
    "    if i in fakeWordsCountsTrain:\n",
    "        p_x_fake = (fakeWordsCountsTrain[i] + m*pHat)/(len(fakeTrain) + m)\n",
    "    else:\n",
    "        p_x_fake = (m*pHat)/(len(fakeTrain) + m)\n",
    "    if i in realWordsCountsTrain:\n",
    "        p_x_real = (realWordsCountsTrain[i] + m*pHat)/(len(realTrain) + m)\n",
    "    else:\n",
    "        p_x_real = (m*pHat)/(len(realTrain) + m)\n",
    "    wordListPredicition[] = [p_x_fake,p_real]\n",
    "        \n",
    "P_fake = len(realTrain)/(len(realTrain) + len(fakeTrain))\n",
    "\n",
    "#performance on validation set\n",
    "correct = 0\n",
    "for i in fakeVali:\n",
    "    for j in wordList:\n",
    "        if \n",
    "\n",
    "#performance on test set"
   ]
  }
 ],
 "metadata": {
  "kernelspec": {
   "display_name": "Python 2",
   "language": "python",
   "name": "python2"
  },
  "language_info": {
   "codemirror_mode": {
    "name": "ipython",
    "version": 2
   },
   "file_extension": ".py",
   "mimetype": "text/x-python",
   "name": "python",
   "nbconvert_exporter": "python",
   "pygments_lexer": "ipython2",
   "version": "2.7.14"
  }
 },
 "nbformat": 4,
 "nbformat_minor": 2
}
