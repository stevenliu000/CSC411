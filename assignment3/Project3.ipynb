{
 "cells": [
  {
   "cell_type": "markdown",
   "metadata": {},
   "source": [
    "# Import Libraries"
   ]
  },
  {
   "cell_type": "code",
   "execution_count": 82,
   "metadata": {
    "collapsed": true
   },
   "outputs": [],
   "source": [
    "from pylab import *\n",
    "import numpy as np\n",
    "import matplotlib.pyplot as plt\n",
    "import matplotlib.cbook as cbook\n",
    "import time\n",
    "from scipy.misc import imread\n",
    "from scipy.misc import imresize\n",
    "import matplotlib.image as mpimg\n",
    "from scipy.ndimage import filters\n",
    "import urllib\n",
    "from numpy import random\n",
    "import copy\n",
    "import math\n",
    "from __future__ import division\n",
    "from sklearn.feature_extraction.text import ENGLISH_STOP_WORDS\n",
    "from sklearn import tree\n",
    "import graphviz\n",
    "\n",
    "import cPickle\n",
    "\n",
    "import os\n",
    "from scipy.io import loadmat"
   ]
  },
  {
   "cell_type": "code",
   "execution_count": 83,
   "metadata": {
    "collapsed": true
   },
   "outputs": [],
   "source": [
    "#plt.show() in jupyter notebook\n",
    "%matplotlib inline"
   ]
  },
  {
   "cell_type": "markdown",
   "metadata": {},
   "source": [
    "# Part 1"
   ]
  },
  {
   "cell_type": "markdown",
   "metadata": {},
   "source": [
    "#### Analysis Data"
   ]
  },
  {
   "cell_type": "code",
   "execution_count": 4,
   "metadata": {
    "collapsed": true
   },
   "outputs": [],
   "source": [
    "def Counts(d):\n",
    "    '''\n",
    "    input: a list of lists of strings that represents one new title\n",
    "    output: a dictionary that contains every word appeared and its count. \n",
    "    To be precise, key is word and value is count.\n",
    "    Note that if one word occurs multiple times in a headline, it is counted as appeard once\n",
    "    '''\n",
    "    wordsCounts = {}\n",
    "    for i in d:\n",
    "        temp = []\n",
    "        for j in i:\n",
    "            if j in temp:\n",
    "                continue\n",
    "            else:\n",
    "                temp.append(j)\n",
    "                if j not in wordsCounts:\n",
    "                    wordsCounts[j] = 1.0\n",
    "                else:\n",
    "                    wordsCounts[j] += 1.0\n",
    "\n",
    "    return wordsCounts"
   ]
  },
  {
   "cell_type": "code",
   "execution_count": 5,
   "metadata": {
    "scrolled": true
   },
   "outputs": [
    {
     "name": "stdout",
     "output_type": "stream",
     "text": [
      "the 1-th most prevealing word in fake news is trump :1282\n",
      "the 2-th most prevealing word in fake news is to :366\n",
      "the 3-th most prevealing word in fake news is the :363\n",
      "the 4-th most prevealing word in fake news is donald :228\n",
      "the 5-th most prevealing word in fake news is in :218\n",
      "the 6-th most prevealing word in fake news is of :197\n",
      "the 7-th most prevealing word in fake news is for :196\n",
      "the 8-th most prevealing word in fake news is a :172\n",
      "the 9-th most prevealing word in fake news is and :166\n",
      "the 10-th most prevealing word in fake news is on :160\n",
      "\n",
      "\n",
      "the 1-th most prevealing word in real news is trump :1739\n",
      "the 2-th most prevealing word in real news is donald :828\n",
      "the 3-th most prevealing word in real news is to :380\n",
      "the 4-th most prevealing word in real news is us :230\n",
      "the 5-th most prevealing word in real news is trumps :219\n",
      "the 6-th most prevealing word in real news is in :213\n",
      "the 7-th most prevealing word in real news is on :204\n",
      "the 8-th most prevealing word in real news is of :181\n",
      "the 9-th most prevealing word in real news is says :178\n",
      "the 10-th most prevealing word in real news is for :171\n",
      "\n",
      "\n",
      "Number of appearance of donald: 228 in fake, 828 in real, 600 in difference\n",
      "Number of appearance of trump: 1282 in fake, 1739 in real, 457 in difference\n",
      "Number of appearance of trumps: 4 in fake, 219 in real, 215 in difference\n",
      "Number of appearance of the: 363 in fake, 156 in real, 207 in difference\n",
      "Number of appearance of us: 38 in fake, 230 in real, 192 in difference\n",
      "Number of appearance of says: 46 in fake, 178 in real, 132 in difference\n",
      "Number of appearance of hillary: 150 in fake, 24 in real, 126 in difference\n",
      "Number of appearance of north: 2 in fake, 83 in real, 81 in difference\n",
      "Number of appearance of a: 172 in fake, 92 in real, 80 in difference\n",
      "Number of appearance of korea: 0 in fake, 79 in real, 79 in difference\n",
      "Number of appearance of ban: 1 in fake, 75 in real, 74 in difference\n",
      "Number of appearance of is: 148 in fake, 78 in real, 70 in difference\n",
      "Number of appearance of just: 71 in fake, 9 in real, 62 in difference\n",
      "Number of appearance of turnbull: 0 in fake, 55 in real, 55 in difference\n",
      "Number of appearance of travel: 0 in fake, 52 in real, 52 in difference\n",
      "Number of appearance of and: 166 in fake, 115 in real, 51 in difference\n",
      "Number of appearance of you: 57 in fake, 8 in real, 49 in difference\n",
      "Number of appearance of clinton: 131 in fake, 83 in real, 48 in difference\n",
      "Number of appearance of on: 160 in fake, 204 in real, 44 in difference\n",
      "Number of appearance of are: 54 in fake, 10 in real, 44 in difference\n",
      "Number of appearance of if: 57 in fake, 14 in real, 43 in difference\n",
      "Number of appearance of wall: 10 in fake, 51 in real, 41 in difference\n",
      "Number of appearance of that: 51 in fake, 12 in real, 39 in difference\n",
      "Number of appearance of deal: 15 in fake, 51 in real, 36 in difference\n",
      "Number of appearance of australia: 0 in fake, 34 in real, 34 in difference\n",
      "Number of appearance of america: 54 in fake, 20 in real, 34 in difference\n",
      "Number of appearance of he: 74 in fake, 40 in real, 34 in difference\n",
      "Number of appearance of russia: 29 in fake, 61 in real, 32 in difference\n",
      "Number of appearance of by: 83 in fake, 51 in real, 32 in difference\n",
      "Number of appearance of climate: 2 in fake, 34 in real, 32 in difference\n",
      "Number of appearance of it: 58 in fake, 26 in real, 32 in difference\n",
      "Number of appearance of black: 33 in fake, 1 in real, 32 in difference\n",
      "Number of appearance of watch: 34 in fake, 2 in real, 32 in difference\n",
      "Number of appearance of china: 4 in fake, 35 in real, 31 in difference\n",
      "Number of appearance of comments: 1 in fake, 30 in real, 29 in difference\n",
      "Number of appearance of supporter: 31 in fake, 2 in real, 29 in difference\n",
      "Number of appearance of comment: 32 in fake, 3 in real, 29 in difference\n",
      "Number of appearance of trade: 2 in fake, 30 in real, 28 in difference\n",
      "Number of appearance of voter: 32 in fake, 4 in real, 28 in difference\n",
      "Number of appearance of comey: 3 in fake, 31 in real, 28 in difference\n",
      "Number of appearance of house: 21 in fake, 49 in real, 28 in difference\n",
      "Number of appearance of tax: 1 in fake, 29 in real, 28 in difference\n",
      "Number of appearance of this: 33 in fake, 6 in real, 27 in difference\n",
      "Number of appearance of win: 50 in fake, 23 in real, 27 in difference\n",
      "Number of appearance of new: 66 in fake, 39 in real, 27 in difference\n",
      "Number of appearance of breaking: 27 in fake, 0 in real, 27 in difference\n",
      "Number of appearance of his: 55 in fake, 28 in real, 27 in difference\n",
      "Number of appearance of will: 94 in fake, 67 in real, 27 in difference\n",
      "Number of appearance of voting: 28 in fake, 2 in real, 26 in difference\n",
      "Number of appearance of i: 31 in fake, 5 in real, 26 in difference\n"
     ]
    },
    {
     "data": {
      "image/png": "[encoded data removed]",
      "text/plain": [
       "<matplotlib.figure.Figure at 0xcc3cef0>"
      ]
     },
     "metadata": {},
     "output_type": "display_data"
    }
   ],
   "source": [
    "#import fakeData and realData from text files\n",
    "fakeData = [line.rstrip('\\n').split(' ') for line in open('clean_fake.txt')]\n",
    "realData = [line.rstrip('\\n').split(' ') for line in open('clean_real.txt')]\n",
    "\n",
    "#count words in realData and fakeData\n",
    "fakeWordsCounts = Counts(fakeData)\n",
    "realWordsCounts = Counts(realData)\n",
    "            \n",
    "#sort words according to how often they appear\n",
    "fakeWordsInOrder = sorted(fakeWordsCounts, key = fakeWordsCounts.__getitem__, reverse=True)\n",
    "realWordsInOrder = sorted(realWordsCounts, key = realWordsCounts.__getitem__, reverse=True)\n",
    "\n",
    "#plot the i-th most prevailing word vs. its number of appearance\n",
    "fig = plt.figure(11)\n",
    "plt.plot(range(20), [fakeWordsCounts[fakeWordsInOrder[i]] for i in range(20)], label = \"fake\")\n",
    "plt.plot(range(20), [realWordsCounts[realWordsInOrder[i]] for i in range(20)], label = \"real\")\n",
    "plt.ylabel(\"number of appearance\")\n",
    "plt.xlabel(\"the i-th most prevailing word\")\n",
    "plt.legend(loc = \"best\")\n",
    "fig.savefig(\"part1\")\n",
    "\n",
    "#print the most prevailing words:\n",
    "for i in range(10):\n",
    "    print \"the %i-th most prevealing word in fake news is %s :%i\"%(i+1,fakeWordsInOrder[i],fakeWordsCounts[fakeWordsInOrder[i]])\n",
    "print('\\n')\n",
    "for i in range(10):\n",
    "    print \"the %i-th most prevealing word in real news is %s :%i\"%(i+1,realWordsInOrder[i],realWordsCounts[realWordsInOrder[i]])\n",
    "print('\\n')\n",
    "\n",
    "##construct wordListTotal that contains all the words appeared\n",
    "wordListTotal = []\n",
    "for i in fakeWordsCounts:\n",
    "    wordListTotal.append(i)\n",
    "for i in realWordsCounts:\n",
    "    wordListTotal.append(i)\n",
    "wordListTotal = sorted(set(wordListTotal), key=wordListTotal.index)\n",
    "\n",
    "# Find the difference in times of appearance of each words in real news and fake news\n",
    "wordsCountsDiff = {}\n",
    "for i in wordListTotal:\n",
    "    if i in fakeWordsCounts:\n",
    "        fakeWordCount = fakeWordsCounts[i]\n",
    "    else:\n",
    "        fakeWordCount = 0\n",
    "    if i in realWordsCounts:\n",
    "        realWordCount = realWordsCounts[i]\n",
    "    else:\n",
    "        realWordCount = 0 \n",
    "    wordsCountsDiff[i] = abs(fakeWordCount-realWordCount)\n",
    "    \n",
    "# Sort the difference from largest to smallest, and print the first 50 largest differences\n",
    "wordsCountsDiffInOrder = sorted(wordsCountsDiff, key = wordsCountsDiff.__getitem__, reverse=True)\n",
    "for i in range(0,50):\n",
    "    word = wordsCountsDiffInOrder[i]\n",
    "    if word in fakeWordsCounts:\n",
    "        fakeWordCount = fakeWordsCounts[word]\n",
    "    else:\n",
    "        fakeWordCount = 0\n",
    "    if word in realWordsCounts:\n",
    "        realWordCount = realWordsCounts[word]\n",
    "    else:\n",
    "        realWordCount = 0 \n",
    "    print \"Number of appearance of %s: %i in fake, %i in real, %i in difference\"%(word,fakeWordCount,realWordCount,wordsCountsDiff[word] )"
   ]
  },
  {
   "cell_type": "markdown",
   "metadata": {},
   "source": [
    "#### Spliting data\n"
   ]
  },
  {
   "cell_type": "code",
   "execution_count": 5,
   "metadata": {},
   "outputs": [
    {
     "data": {
      "text/plain": [
       "'\\nnp.random.seed(1)\\nfakeDataCopy = copy.deepcopy(fakeData)\\nrealDataCopy = copy.deepcopy(realData)\\nfakeDataArray = np.array(fakeDataCopy)\\nrealDataArray = np.array(realDataCopy)\\nnp.random.shuffle(fakeDataArray)\\nnp.random.shuffle(realDataArray)\\n\\nfakeTrain = fakeDataArray[:int(len(fakeDataArray)*0.7)]\\nfakeVali = fakeDataArray[int(len(fakeDataArray)*0.7):int(len(fakeDataArray)*0.85)]\\nfakeTest = fakeDataArray[int(len(fakeDataArray)*0.85):]\\n\\nrealTrain = realDataArray[:int(len(realDataArray)*0.7)]\\nrealVali = realDataArray[int(len(realDataArray)*0.7):int(len(realDataArray)*0.85)]\\nrealTest = realDataArray[int(len(realDataArray)*0.85):]\\n\\nfakeTrain = fakeTrain.tolist()\\nfakeVali = fakeVali.tolist()\\nfakeTest = fakeTest.tolist()\\n\\nrealTrain = realTrain.tolist()\\nrealVali = realVali.tolist()\\nrealTest = realTest.tolist()\\n'"
      ]
     },
     "execution_count": 5,
     "metadata": {},
     "output_type": "execute_result"
    }
   ],
   "source": [
    "# Since we use np.random.seed() to randomize the data\n",
    "# We convert our input into array\n",
    "# But we use list manipulation later on, so we convet array back to list after shuffle\n",
    "'''\n",
    "np.random.seed(1)\n",
    "fakeDataCopy = copy.deepcopy(fakeData)\n",
    "realDataCopy = copy.deepcopy(realData)\n",
    "fakeDataArray = np.array(fakeDataCopy)\n",
    "realDataArray = np.array(realDataCopy)\n",
    "np.random.shuffle(fakeDataArray)\n",
    "np.random.shuffle(realDataArray)\n",
    "\n",
    "fakeTrain = fakeDataArray[:int(len(fakeDataArray)*0.7)]\n",
    "fakeVali = fakeDataArray[int(len(fakeDataArray)*0.7):int(len(fakeDataArray)*0.85)]\n",
    "fakeTest = fakeDataArray[int(len(fakeDataArray)*0.85):]\n",
    "\n",
    "realTrain = realDataArray[:int(len(realDataArray)*0.7)]\n",
    "realVali = realDataArray[int(len(realDataArray)*0.7):int(len(realDataArray)*0.85)]\n",
    "realTest = realDataArray[int(len(realDataArray)*0.85):]\n",
    "\n",
    "fakeTrain = fakeTrain.tolist()\n",
    "fakeVali = fakeVali.tolist()\n",
    "fakeTest = fakeTest.tolist()\n",
    "\n",
    "realTrain = realTrain.tolist()\n",
    "realVali = realVali.tolist()\n",
    "realTest = realTest.tolist()\n",
    "'''"
   ]
  },
  {
   "cell_type": "code",
   "execution_count": 13,
   "metadata": {
    "collapsed": true
   },
   "outputs": [],
   "source": [
    "random.seed(0)\n",
    "fakeDataCopy = copy.deepcopy(fakeData)\n",
    "realDataCopy = copy.deepcopy(realData)\n",
    "random.shuffle(fakeDataCopy)\n",
    "random.shuffle(realDataCopy)\n",
    "\n",
    "fakeTrain = fakeDataCopy[:int(len(fakeDataCopy)*0.7)]\n",
    "fakeVali = fakeDataCopy[int(len(fakeDataCopy)*0.7):int(len(fakeDataCopy)*0.85)]\n",
    "fakeTest = fakeDataCopy[int(len(fakeDataCopy)*0.85):]\n",
    "\n",
    "realTrain = realDataCopy[:int(len(realDataCopy)*0.7)]\n",
    "realVali = realDataCopy[int(len(realDataCopy)*0.7):int(len(realDataCopy)*0.85)]\n",
    "realTest = realDataCopy[int(len(realDataCopy)*0.85):]"
   ]
  },
  {
   "cell_type": "markdown",
   "metadata": {},
   "source": [
    "# Part 2"
   ]
  },
  {
   "cell_type": "markdown",
   "metadata": {},
   "source": [
    "#### Contruct Data and define helper functions"
   ]
  },
  {
   "cell_type": "code",
   "execution_count": 14,
   "metadata": {
    "collapsed": true
   },
   "outputs": [],
   "source": [
    "#construct wordList that contains all the words appeared in training sets\n",
    "wordList = []\n",
    "for i in fakeTrain:\n",
    "    wordList.extend(i)\n",
    "for i in realTrain:\n",
    "    wordList.extend(i)\n",
    "wordList = sorted(set(wordList), key=wordList.index)\n",
    "\n",
    "#Getting parameter:\n",
    "fakeWordsCountsTrain = Counts(fakeTrain)\n",
    "realWordsCountsTrain = Counts(realTrain)"
   ]
  },
  {
   "cell_type": "code",
   "execution_count": 8,
   "metadata": {
    "collapsed": true
   },
   "outputs": [],
   "source": [
    "def Performance(wordsProb, p_fake, fakeData, realData):\n",
    "    '''\n",
    "    input:\n",
    "        wordsProb: a dictionary whose key is the word xi and value is a list: \n",
    "            the first element in sublist is P(xi=1|fake), \n",
    "            the second element is sublist is P(xi=1|real).\n",
    "        \n",
    "        fakeData: a list of lists of words, each sublist is a single news. \n",
    "        realData: a list of lists of words, each sublist is a single news. \n",
    "        p_fake: P(fake)\n",
    "    output:\n",
    "        percentage performance on fakeData and real Data\n",
    "\n",
    "    Note that in here, when we are comparing whether a news is characterized as \n",
    "    fake or real based on this log of the probability (or numerator of the Naive Bayes law)\n",
    "    because if we do not take logarithm, we will have underflow\n",
    "    '''\n",
    "    correct = 0.0\n",
    "    for i in fakeData:\n",
    "        fakeProb = 0.0\n",
    "        realProb = 0.0\n",
    "        for j in wordsProb:\n",
    "            if j in i:\n",
    "                fakeProb += math.log(wordsProb[j][0])\n",
    "                realProb += math.log(wordsProb[j][1])\n",
    "            else:\n",
    "                fakeProb += math.log(1-wordsProb[j][0])\n",
    "                realProb += math.log(1-wordsProb[j][1])\n",
    "        fakeProb += math.log(p_fake)\n",
    "        realProb += math.log(1-p_fake)\n",
    "        \n",
    "        if fakeProb >= realProb:\n",
    "            correct += 1\n",
    "\n",
    "    for i in realData:\n",
    "        fakeProb = 0.0\n",
    "        realProb = 0.0\n",
    "        for j in wordsProb:\n",
    "            if j in i:\n",
    "                fakeProb += math.log(wordsProb[j][0])\n",
    "                realProb += math.log(wordsProb[j][1])\n",
    "            else:\n",
    "                fakeProb += math.log(1-wordsProb[j][0])\n",
    "                realProb += math.log(1-wordsProb[j][1])\n",
    "        fakeProb += math.log(p_fake)\n",
    "        realProb += math.log(1-p_fake)\n",
    "\n",
    "        if fakeProb <= realProb:\n",
    "            correct += 1        \n",
    "\n",
    "    perf = float(correct)/float(len(fakeData)+len(realData))\n",
    "    return perf"
   ]
  },
  {
   "cell_type": "code",
   "execution_count": 10,
   "metadata": {
    "collapsed": true
   },
   "outputs": [],
   "source": [
    "def NaiveBayes(m, pHat, ifprint = True, ifreturnProb = False):\n",
    "    '''\n",
    "    Given m and pHat, return the performance on Training set, Validation set and Test set.\n",
    "    '''\n",
    "    if ifprint:\n",
    "        print \"running NaiveBayes with m = %05.5f, pHat = %05.5f\"%(m, pHat)\n",
    "\n",
    "    wordsProb={} \n",
    "    #a dictionary whose key is the word xi and value is a list: the first element in sublist is P(xi=1|fake), the second element is sublist is P(xi=1|real).\n",
    "    for i in wordList:\n",
    "        if i in fakeWordsCountsTrain:\n",
    "            p_x_fake = float(fakeWordsCountsTrain[i] + m*pHat)/float(len(fakeTrain) + m)\n",
    "        else:\n",
    "            p_x_fake = float(m*pHat)/float(len(fakeTrain) + m)\n",
    "        if i in realWordsCountsTrain:\n",
    "            p_x_real = float(realWordsCountsTrain[i] + m*pHat)/float(len(realTrain) + m)\n",
    "        else:\n",
    "            p_x_real = float(m*pHat)/float(len(realTrain) + m)\n",
    "        wordsProb[i] = [p_x_fake,p_x_real]\n",
    "\n",
    "    p_fake = float(len(fakeTrain))/float(len(realTrain) + len(fakeTrain)) #P(fake)\n",
    "    \n",
    "    perfTrain = Performance(wordsProb, p_fake, fakeTrain, realTrain)\n",
    "    perfVali = Performance(wordsProb, p_fake, fakeVali, realVali)\n",
    "    perfTest = Performance(wordsProb, p_fake, fakeTest, realTest)\n",
    "    \n",
    "    if ifreturnProb:\n",
    "        return perfTrain, perfVali, perfTest, wordsProb, p_fake\n",
    "    else:\n",
    "        return perfTrain, perfVali, perfTest"
   ]
  },
  {
   "cell_type": "markdown",
   "metadata": {},
   "source": [
    "#### Tune m and pHat using validation sets"
   ]
  },
  {
   "cell_type": "code",
   "execution_count": 10,
   "metadata": {
    "scrolled": true
   },
   "outputs": [
    {
     "name": "stdout",
     "output_type": "stream",
     "text": [
      "When m = 3.1623, pHat = 0.10000, the performance on validation set is highest:0.88571\n"
     ]
    },
    {
     "data": {
      "image/png": "[encoded data removed]",
      "text/plain": [
       "<matplotlib.figure.Figure at 0xd035240>"
      ]
     },
     "metadata": {},
     "output_type": "display_data"
    }
   ],
   "source": [
    "perfValiArray = []\n",
    "m_ = [10**exp for exp in np.arange(0,2.5,0.5, dtype=float)]\n",
    "pHat_ = [10**exp for exp in np.arange(-5,0, dtype=float)]\n",
    "bestPerf = -10000000\n",
    "for m in m_:\n",
    "    temp = []\n",
    "    for pHat in pHat_:\n",
    "        temp0, temp1, temp2 = NaiveBayes(int(m),pHat,ifprint = False)\n",
    "        temp.append(temp1)\n",
    "        if temp1 > bestPerf:\n",
    "            bestM = m\n",
    "            bestPHat = pHat\n",
    "            bestPerf = temp1\n",
    "        # print m, pHat\n",
    "    perfValiArray.append(temp)\n",
    "    \n",
    "    \n",
    "    \n",
    "M_,PHat_ = np.meshgrid(m_,pHat_)\n",
    "ax1 = subplot(111) \n",
    "CS = ax1.contour(M_,PHat_,perfValiArray)\n",
    "plt.clabel(CS, inline=1, fontsize=10)\n",
    "\n",
    "plt.ylabel(\"pHat\")\n",
    "plt.xlabel(\"m\")\n",
    "plt.title(\"performance on Validation Set\")\n",
    "plt.savefig(\"part2\")\n",
    "\n",
    "print \"When m = %04.4f, pHat = %05.5f, the performance on validation set is highest:%05.5f\"%(bestM, bestPHat,bestPerf)"
   ]
  },
  {
   "cell_type": "markdown",
   "metadata": {},
   "source": [
    "#### Performance on chosen m and pHat"
   ]
  },
  {
   "cell_type": "code",
   "execution_count": 11,
   "metadata": {},
   "outputs": [
    {
     "name": "stdout",
     "output_type": "stream",
     "text": [
      "Performance on Training Set is 0.96193\n",
      "Performance on Validation Set is 0.88776\n",
      "Performance on Test Set is 0.84725\n"
     ]
    }
   ],
   "source": [
    "perfTrain, perfVali, perfTest = NaiveBayes(3.1623, 0.10000, ifprint = False)\n",
    "print \"Performance on Training Set is %05.5f\"%perfTrain\n",
    "print \"Performance on Validation Set is %05.5f\"%perfVali\n",
    "print \"Performance on Test Set is %05.5f\"%perfTest"
   ]
  },
  {
   "cell_type": "markdown",
   "metadata": {},
   "source": [
    "# Part 3"
   ]
  },
  {
   "cell_type": "markdown",
   "metadata": {},
   "source": [
    "### Part 3a"
   ]
  },
  {
   "cell_type": "code",
   "execution_count": 100,
   "metadata": {
    "scrolled": true
   },
   "outputs": [
    {
     "name": "stdout",
     "output_type": "stream",
     "text": [
      "the 1-th strongly predicts real news with its presence is korea, with P(fake|x=presence)=0.00759, P(real|x=presence)=0.99241\n",
      "the 2-th strongly predicts real news with its presence is turnbull, with P(fake|x=presence)=0.00862, P(real|x=presence)=0.99138\n",
      "the 3-th strongly predicts real news with its presence is travel, with P(fake|x=presence)=0.00999, P(real|x=presence)=0.99001\n",
      "the 4-th strongly predicts real news with its presence is australia, with P(fake|x=presence)=0.01143, P(real|x=presence)=0.98857\n",
      "the 5-th strongly predicts real news with its presence is trade, with P(fake|x=presence)=0.01531, P(real|x=presence)=0.98469\n",
      "the 6-th strongly predicts real news with its presence is refugee, with P(fake|x=presence)=0.01609, P(real|x=presence)=0.98391\n",
      "the 7-th strongly predicts real news with its presence is tax, with P(fake|x=presence)=0.01695, P(real|x=presence)=0.98305\n",
      "the 8-th strongly predicts real news with its presence is debate, with P(fake|x=presence)=0.01695, P(real|x=presence)=0.98305\n",
      "the 9-th strongly predicts real news with its presence is paris, with P(fake|x=presence)=0.01695, P(real|x=presence)=0.98305\n",
      "the 10-th strongly predicts real news with its presence is defends, with P(fake|x=presence)=0.02021, P(real|x=presence)=0.97979\n",
      "\n",
      "\n",
      "the 1-th strongly predicts real news with its absence is trump, with P(fake|x=absence)=0.07345, P(real|x=absence)=0.92655\n",
      "the 2-th strongly predicts real news with its absence is the, with P(fake|x=absence)=0.34385, P(real|x=absence)=0.65615\n",
      "the 3-th strongly predicts real news with its absence is to, with P(fake|x=absence)=0.37124, P(real|x=absence)=0.62876\n",
      "the 4-th strongly predicts real news with its absence is hillary, with P(fake|x=absence)=0.37430, P(real|x=absence)=0.62570\n",
      "the 5-th strongly predicts real news with its absence is a, with P(fake|x=absence)=0.37488, P(real|x=absence)=0.62512\n",
      "the 6-th strongly predicts real news with its absence is is, with P(fake|x=absence)=0.37723, P(real|x=absence)=0.62277\n",
      "the 7-th strongly predicts real news with its absence is for, with P(fake|x=absence)=0.37864, P(real|x=absence)=0.62136\n",
      "the 8-th strongly predicts real news with its absence is and, with P(fake|x=absence)=0.37938, P(real|x=absence)=0.62062\n",
      "the 9-th strongly predicts real news with its absence is clinton, with P(fake|x=absence)=0.38302, P(real|x=absence)=0.61698\n",
      "the 10-th strongly predicts real news with its absence is of, with P(fake|x=absence)=0.38360, P(real|x=absence)=0.61640\n",
      "\n",
      "\n",
      "the 1-th strongly predicts fake news with its presence is breaking, with P(fake|x=presence)=0.98097, P(real|x=presence)=0.01903\n",
      "the 2-th strongly predicts fake news with its presence is 3, with P(fake|x=presence)=0.97836, P(real|x=presence)=0.02164\n",
      "the 3-th strongly predicts fake news with its presence is soros, with P(fake|x=presence)=0.97678, P(real|x=presence)=0.02322\n",
      "the 4-th strongly predicts fake news with its presence is u, with P(fake|x=presence)=0.97678, P(real|x=presence)=0.02322\n",
      "the 5-th strongly predicts fake news with its presence is daily, with P(fake|x=presence)=0.97278, P(real|x=presence)=0.02722\n",
      "the 6-th strongly predicts fake news with its presence is woman, with P(fake|x=presence)=0.97278, P(real|x=presence)=0.02722\n",
      "the 7-th strongly predicts fake news with its presence is steal, with P(fake|x=presence)=0.97022, P(real|x=presence)=0.02978\n",
      "the 8-th strongly predicts fake news with its presence is reason, with P(fake|x=presence)=0.97022, P(real|x=presence)=0.02978\n",
      "the 9-th strongly predicts fake news with its presence is endingfed, with P(fake|x=presence)=0.96713, P(real|x=presence)=0.03287\n",
      "the 10-th strongly predicts fake news with its presence is these, with P(fake|x=presence)=0.96713, P(real|x=presence)=0.03287\n",
      "\n",
      "\n",
      "the 1-th strongly predicts fake news with its absence is donald, with P(fake|x=absence)=0.48743, P(real|x=absence)=0.51257\n",
      "the 2-th strongly predicts fake news with its absence is trumps, with P(fake|x=absence)=0.42459, P(real|x=absence)=0.57541\n",
      "the 3-th strongly predicts fake news with its absence is us, with P(fake|x=absence)=0.41975, P(real|x=absence)=0.58025\n",
      "the 4-th strongly predicts fake news with its absence is says, with P(fake|x=absence)=0.41191, P(real|x=absence)=0.58809\n",
      "the 5-th strongly predicts fake news with its absence is ban, with P(fake|x=absence)=0.40613, P(real|x=absence)=0.59387\n",
      "the 6-th strongly predicts fake news with its absence is north, with P(fake|x=absence)=0.40505, P(real|x=absence)=0.59495\n",
      "the 7-th strongly predicts fake news with its absence is korea, with P(fake|x=absence)=0.40459, P(real|x=absence)=0.59541\n",
      "the 8-th strongly predicts fake news with its absence is turnbull, with P(fake|x=absence)=0.40369, P(real|x=absence)=0.59631\n",
      "the 9-th strongly predicts fake news with its absence is travel, with P(fake|x=absence)=0.40280, P(real|x=absence)=0.59720\n",
      "the 10-th strongly predicts fake news with its absence is australia, with P(fake|x=absence)=0.40209, P(real|x=absence)=0.59791\n",
      "\n",
      "\n"
     ]
    }
   ],
   "source": [
    "perfTrain, perfVali, perfTest, wordsProb, p_fake = NaiveBayes(3.1623, 0.10000, ifprint = False, ifreturnProb = True)\n",
    "presenceFakeWordsProb = {}\n",
    "presenceRealWordsProb = {}\n",
    "absenceFakeWordsProb = {}\n",
    "absenceRealWordsProb = {}\n",
    "presenceWordsProbDiff = {}\n",
    "absenceWordsProbDiff = {}\n",
    "for i in wordsProb:\n",
    "    p_presence_fake_p_fake = wordsProb[i][0]*p_fake\n",
    "    p_presence_real_p_real = wordsProb[i][1]*(1-p_fake)\n",
    "    presenceFakeWordsProb[i] = p_presence_fake_p_fake/(p_presence_fake_p_fake+p_presence_real_p_real)\n",
    "    presenceRealWordsProb[i] = p_presence_real_p_real/(p_presence_fake_p_fake+p_presence_real_p_real)\n",
    "    presenceWordsProbDiff[i] = presenceFakeWordsProb[i]-presenceRealWordsProb[i]\n",
    "    \n",
    "    p_absence_fake_p_fake = (1-wordsProb[i][0])*p_fake\n",
    "    p_absence_real_p_real = (1-wordsProb[i][1])*(1-p_fake)\n",
    "    absenceFakeWordsProb[i] = p_absence_fake_p_fake/(p_absence_fake_p_fake+p_absence_real_p_real)\n",
    "    absenceRealWordsProb[i] = p_absence_real_p_real/(p_absence_fake_p_fake+p_absence_real_p_real)\n",
    "    absenceWordsProbDiff[i] = absenceFakeWordsProb[i]-absenceRealWordsProb[i] \n",
    "    \n",
    "presenceWordsProbDiffOrdered = sorted(presenceWordsProbDiff, key = presenceWordsProbDiff.__getitem__, reverse=True)\n",
    "absenceWordsProbDiffOrdered = sorted(absenceWordsProbDiff, key = absenceWordsProbDiff.__getitem__, reverse=True)\n",
    "\n",
    "\n",
    "\n",
    "for i in np.arange(-1,-11,-1):\n",
    "    word = presenceWordsProbDiffOrdered[i]\n",
    "    print \"the %i-th strongly predicts real news with its presence is %s, with P(fake|x=presence)=%05.5f, P(real|x=presence)=%05.5f\"%(-i,word,presenceFakeWordsProb[word],presenceRealWordsProb[word])\n",
    "print \"\\n\"\n",
    "for i in np.arange(-1,-11,-1):\n",
    "    word = absenceWordsProbDiffOrdered[i]\n",
    "    print \"the %i-th strongly predicts real news with its absence is %s, with P(fake|x=absence)=%05.5f, P(real|x=absence)=%05.5f\"%(-i,word,absenceFakeWordsProb[word],absenceRealWordsProb[word])\n",
    "print \"\\n\"\n",
    "\n",
    "for i in range(0,10):\n",
    "    word = presenceWordsProbDiffOrdered[i]\n",
    "    print \"the %i-th strongly predicts fake news with its presence is %s, with P(fake|x=presence)=%05.5f, P(real|x=presence)=%05.5f\"%(i+1,word,presenceFakeWordsProb[word],presenceRealWordsProb[word])\n",
    "print \"\\n\"  \n",
    "for i in range(0,10):\n",
    "    word = absenceWordsProbDiffOrdered[i]\n",
    "    print \"the %i-th strongly predicts fake news with its absence is %s, with P(fake|x=absence)=%05.5f, P(real|x=absence)=%05.5f\"%(i+1,word,absenceFakeWordsProb[word],absenceRealWordsProb[word])\n",
    "print \"\\n\""
   ]
  },
  {
   "cell_type": "code",
   "execution_count": 94,
   "metadata": {
    "scrolled": false
   },
   "outputs": [
    {
     "name": "stdout",
     "output_type": "stream",
     "text": [
      "\\hline word & P(fake|x=presence) & P(real|x=presence) & Difference \\\\ \\hline\n",
      "korea & 0.0075868 & 0.9924132 & 0.9848263 \\\\ \\hline\n",
      "turnbull & 0.0086224 & 0.9913776 & 0.9827552 \\\\ \\hline\n",
      "travel & 0.0099853 & 0.9900147 & 0.9800294 \\\\ \\hline\n",
      "australia & 0.0114308 & 0.9885692 & 0.9771384 \\\\ \\hline\n",
      "trade & 0.0153090 & 0.9846910 & 0.9693820 \\\\ \\hline\n",
      "refugee & 0.0160888 & 0.9839112 & 0.9678225 \\\\ \\hline\n",
      "tax & 0.0169523 & 0.9830477 & 0.9660955 \\\\ \\hline\n",
      "debate & 0.0169523 & 0.9830477 & 0.9660955 \\\\ \\hline\n",
      "paris & 0.0169523 & 0.9830477 & 0.9660955 \\\\ \\hline\n",
      "defends & 0.0202056 & 0.9797944 & 0.9595887 \\\\ \\hline\n",
      "\n",
      "\n",
      "\\hline word & P(fake|x=absence) & P(real|x=absence) & Difference \\\\ \\hline\n",
      "trump & 0.0734549 & 0.9265451 & 0.8530901 \\\\ \\hline\n",
      "the & 0.3438503 & 0.6561497 & 0.3122995 \\\\ \\hline\n",
      "to & 0.3712430 & 0.6287570 & 0.2575139 \\\\ \\hline\n",
      "hillary & 0.3743025 & 0.6256975 & 0.2513950 \\\\ \\hline\n",
      "a & 0.3748828 & 0.6251172 & 0.2502344 \\\\ \\hline\n",
      "is & 0.3772314 & 0.6227686 & 0.2455372 \\\\ \\hline\n",
      "for & 0.3786403 & 0.6213597 & 0.2427193 \\\\ \\hline\n",
      "and & 0.3793777 & 0.6206223 & 0.2412445 \\\\ \\hline\n",
      "clinton & 0.3830213 & 0.6169787 & 0.2339573 \\\\ \\hline\n",
      "of & 0.3835959 & 0.6164041 & 0.2328082 \\\\ \\hline\n",
      "\n",
      "\n",
      "\\hline word & P(fake|x=presence) & P(real|x=presence) & Difference \\\\ \\hline\n",
      "breaking & 0.9809651 & 0.0190349 & 0.9619302 \\\\ \\hline\n",
      "3 & 0.9783634 & 0.0216366 & 0.9567269 \\\\ \\hline\n",
      "soros & 0.9767763 & 0.0232237 & 0.9535527 \\\\ \\hline\n",
      "u & 0.9767763 & 0.0232237 & 0.9535527 \\\\ \\hline\n",
      "daily & 0.9727836 & 0.0272164 & 0.9455671 \\\\ \\hline\n",
      "woman & 0.9727836 & 0.0272164 & 0.9455671 \\\\ \\hline\n",
      "steal & 0.9702239 & 0.0297761 & 0.9404478 \\\\ \\hline\n",
      "reason & 0.9702239 & 0.0297761 & 0.9404478 \\\\ \\hline\n",
      "endingfed & 0.9671328 & 0.0328672 & 0.9342656 \\\\ \\hline\n",
      "these & 0.9671328 & 0.0328672 & 0.9342656 \\\\ \\hline\n",
      "\n",
      "\n",
      "\\hline word & P(fake|x=absence) & P(real|x=absence) & Difference \\\\ \\hline\n",
      "donald & 0.4874281 & 0.5125719 & 0.0251437 \\\\ \\hline\n",
      "trumps & 0.4245949 & 0.5754051 & 0.1508102 \\\\ \\hline\n",
      "us & 0.4197479 & 0.5802521 & 0.1605042 \\\\ \\hline\n",
      "says & 0.4119073 & 0.5880927 & 0.1761853 \\\\ \\hline\n",
      "ban & 0.4061333 & 0.5938667 & 0.1877335 \\\\ \\hline\n",
      "north & 0.4050472 & 0.5949528 & 0.1899057 \\\\ \\hline\n",
      "korea & 0.4045909 & 0.5954091 & 0.1908182 \\\\ \\hline\n",
      "turnbull & 0.4036933 & 0.5963067 & 0.1926135 \\\\ \\hline\n",
      "travel & 0.4027996 & 0.5972004 & 0.1944008 \\\\ \\hline\n",
      "australia & 0.4020875 & 0.5979125 & 0.1958250 \\\\ \\hline\n",
      "\n",
      "\n"
     ]
    }
   ],
   "source": [
    "print r\"\\hline word & P(fake|x=presence) & P(real|x=presence) & Difference \\\\ \\hline\"\n",
    "for i in np.arange(-1,-11,-1):\n",
    "    word = presenceWordsProbDiffOrdered[i]\n",
    "    print r\"%s & %07.7f & %07.7f & %07.7f \\\\ \\hline\"%(word,presenceFakeWordsProb[word],presenceRealWordsProb[word],abs(presenceWordsProbDiff[word]))\n",
    "print \"\\n\"\n",
    "print r\"\\hline word & P(fake|x=absence) & P(real|x=absence) & Difference \\\\ \\hline\"\n",
    "for i in np.arange(-1,-11,-1):\n",
    "    word = absenceWordsProbDiffOrdered[i]\n",
    "    print r\"%s & %07.7f & %07.7f & %07.7f \\\\ \\hline\"%(word,absenceFakeWordsProb[word],absenceRealWordsProb[word],abs(absenceWordsProbDiff[word]))\n",
    "print \"\\n\"\n",
    "\n",
    "print r\"\\hline word & P(fake|x=presence) & P(real|x=presence) & Difference \\\\ \\hline\"\n",
    "for i in range(0,10):\n",
    "    word = presenceWordsProbDiffOrdered[i]\n",
    "    print r\"%s & %07.7f & %07.7f & %07.7f \\\\ \\hline\"%(word,presenceFakeWordsProb[word],presenceRealWordsProb[word],abs(presenceWordsProbDiff[word]))\n",
    "print \"\\n\"  \n",
    "print r\"\\hline word & P(fake|x=absence) & P(real|x=absence) & Difference \\\\ \\hline\"\n",
    "for i in range(0,10):\n",
    "    word = absenceWordsProbDiffOrdered[i]\n",
    "    print r\"%s & %07.7f & %07.7f & %07.7f \\\\ \\hline\"%(word,absenceFakeWordsProb[word],absenceRealWordsProb[word],abs(absenceWordsProbDiff[word]))\n",
    "print \"\\n\""
   ]
  },
  {
   "cell_type": "markdown",
   "metadata": {},
   "source": [
    "### Part 3b"
   ]
  },
  {
   "cell_type": "code",
   "execution_count": 13,
   "metadata": {
    "scrolled": true
   },
   "outputs": [
    {
     "name": "stdout",
     "output_type": "stream",
     "text": [
      "the 1-th strongly predicts real news with its presence is korea, with P(fake|x=presence)=0.00759, P(real|x=presence)=0.99241\n",
      "the 2-th strongly predicts real news with its presence is turnbull, with P(fake|x=presence)=0.00862, P(real|x=presence)=0.99138\n",
      "the 3-th strongly predicts real news with its presence is travel, with P(fake|x=presence)=0.00999, P(real|x=presence)=0.99001\n",
      "the 4-th strongly predicts real news with its presence is australia, with P(fake|x=presence)=0.01143, P(real|x=presence)=0.98857\n",
      "the 5-th strongly predicts real news with its presence is trade, with P(fake|x=presence)=0.01531, P(real|x=presence)=0.98469\n",
      "the 6-th strongly predicts real news with its presence is refugee, with P(fake|x=presence)=0.01609, P(real|x=presence)=0.98391\n",
      "the 7-th strongly predicts real news with its presence is tax, with P(fake|x=presence)=0.01695, P(real|x=presence)=0.98305\n",
      "the 8-th strongly predicts real news with its presence is debate, with P(fake|x=presence)=0.01695, P(real|x=presence)=0.98305\n",
      "the 9-th strongly predicts real news with its presence is paris, with P(fake|x=presence)=0.01695, P(real|x=presence)=0.98305\n",
      "the 10-th strongly predicts real news with its presence is defends, with P(fake|x=presence)=0.02021, P(real|x=presence)=0.97979\n",
      "\n",
      "\n",
      "the 1-th strongly predicts real news with its absence is trump, with P(fake|x=absence)=0.07345, P(real|x=absence)=0.92655\n",
      "the 2-th strongly predicts real news with its absence is hillary, with P(fake|x=absence)=0.37430, P(real|x=absence)=0.62570\n",
      "the 3-th strongly predicts real news with its absence is clinton, with P(fake|x=absence)=0.38302, P(real|x=absence)=0.61698\n",
      "the 4-th strongly predicts real news with its absence is just, with P(fake|x=absence)=0.38566, P(real|x=absence)=0.61434\n",
      "the 5-th strongly predicts real news with its absence is obama, with P(fake|x=absence)=0.38954, P(real|x=absence)=0.61046\n",
      "the 6-th strongly predicts real news with its absence is new, with P(fake|x=absence)=0.39052, P(real|x=absence)=0.60948\n",
      "the 7-th strongly predicts real news with its absence is news, with P(fake|x=absence)=0.39079, P(real|x=absence)=0.60921\n",
      "the 8-th strongly predicts real news with its absence is america, with P(fake|x=absence)=0.39105, P(real|x=absence)=0.60895\n",
      "the 9-th strongly predicts real news with its absence is supporter, with P(fake|x=absence)=0.39114, P(real|x=absence)=0.60886\n",
      "the 10-th strongly predicts real news with its absence is campaign, with P(fake|x=absence)=0.39124, P(real|x=absence)=0.60876\n",
      "\n",
      "\n",
      "the 1-th strongly predicts fake news with its presence is breaking, with P(fake|x=presence)=0.98097, P(real|x=presence)=0.01903\n",
      "the 2-th strongly predicts fake news with its presence is 3, with P(fake|x=presence)=0.97836, P(real|x=presence)=0.02164\n",
      "the 3-th strongly predicts fake news with its presence is soros, with P(fake|x=presence)=0.97678, P(real|x=presence)=0.02322\n",
      "the 4-th strongly predicts fake news with its presence is u, with P(fake|x=presence)=0.97678, P(real|x=presence)=0.02322\n",
      "the 5-th strongly predicts fake news with its presence is daily, with P(fake|x=presence)=0.97278, P(real|x=presence)=0.02722\n",
      "the 6-th strongly predicts fake news with its presence is woman, with P(fake|x=presence)=0.97278, P(real|x=presence)=0.02722\n",
      "the 7-th strongly predicts fake news with its presence is steal, with P(fake|x=presence)=0.97022, P(real|x=presence)=0.02978\n",
      "the 8-th strongly predicts fake news with its presence is reason, with P(fake|x=presence)=0.97022, P(real|x=presence)=0.02978\n",
      "the 9-th strongly predicts fake news with its presence is endingfed, with P(fake|x=presence)=0.96713, P(real|x=presence)=0.03287\n",
      "the 10-th strongly predicts fake news with its presence is d, with P(fake|x=presence)=0.96713, P(real|x=presence)=0.03287\n",
      "\n",
      "\n",
      "the 1-th strongly predicts fake news with its absence is donald, with P(fake|x=absence)=0.48743, P(real|x=absence)=0.51257\n",
      "the 2-th strongly predicts fake news with its absence is trumps, with P(fake|x=absence)=0.42459, P(real|x=absence)=0.57541\n",
      "the 3-th strongly predicts fake news with its absence is says, with P(fake|x=absence)=0.41191, P(real|x=absence)=0.58809\n",
      "the 4-th strongly predicts fake news with its absence is ban, with P(fake|x=absence)=0.40613, P(real|x=absence)=0.59387\n",
      "the 5-th strongly predicts fake news with its absence is north, with P(fake|x=absence)=0.40505, P(real|x=absence)=0.59495\n",
      "the 6-th strongly predicts fake news with its absence is korea, with P(fake|x=absence)=0.40459, P(real|x=absence)=0.59541\n",
      "the 7-th strongly predicts fake news with its absence is turnbull, with P(fake|x=absence)=0.40369, P(real|x=absence)=0.59631\n",
      "the 8-th strongly predicts fake news with its absence is travel, with P(fake|x=absence)=0.40280, P(real|x=absence)=0.59720\n",
      "the 9-th strongly predicts fake news with its absence is australia, with P(fake|x=absence)=0.40209, P(real|x=absence)=0.59791\n",
      "the 10-th strongly predicts fake news with its absence is china, with P(fake|x=absence)=0.40112, P(real|x=absence)=0.59888\n",
      "\n",
      "\n"
     ]
    }
   ],
   "source": [
    "i = 0\n",
    "index = -1\n",
    "while i < 10:\n",
    "    word = presenceWordsProbDiffOrdered[index]\n",
    "    if word not in ENGLISH_STOP_WORDS:\n",
    "        print \"the %i-th strongly predicts real news with its presence is %s, with P(fake|x=presence)=%05.5f, P(real|x=presence)=%05.5f\"%(i+1,word,presenceFakeWordsProb[word],presenceRealWordsProb[word])\n",
    "        i += 1\n",
    "    index -= 1\n",
    "print \"\\n\"\n",
    "\n",
    "i = 0\n",
    "index = -1\n",
    "while i < 10:\n",
    "    word = absenceWordsProbDiffOrdered[index]\n",
    "    if word not in ENGLISH_STOP_WORDS:\n",
    "        print \"the %i-th strongly predicts real news with its absence is %s, with P(fake|x=absence)=%05.5f, P(real|x=absence)=%05.5f\"%(i+1,word,absenceFakeWordsProb[word],absenceRealWordsProb[word])\n",
    "        i +=1\n",
    "    index -= 1\n",
    "print \"\\n\"\n",
    "        \n",
    "i = 0\n",
    "index = 0\n",
    "while i < 10:\n",
    "    word = presenceWordsProbDiffOrdered[index]\n",
    "    if word not in ENGLISH_STOP_WORDS:\n",
    "        print \"the %i-th strongly predicts fake news with its presence is %s, with P(fake|x=presence)=%05.5f, P(real|x=presence)=%05.5f\"%(i+1,word,presenceFakeWordsProb[word],presenceRealWordsProb[word])\n",
    "        i += 1\n",
    "    index += 1\n",
    "print \"\\n\"\n",
    "\n",
    "i = 0\n",
    "index = 0\n",
    "while i < 10:\n",
    "    word = absenceWordsProbDiffOrdered[index]\n",
    "    if word not in ENGLISH_STOP_WORDS:\n",
    "        print \"the %i-th strongly predicts fake news with its absence is %s, with P(fake|x=absence)=%05.5f, P(real|x=absence)=%05.5f\"%(i+1,word,absenceFakeWordsProb[word],absenceRealWordsProb[word])\n",
    "        i +=1\n",
    "    index += 1\n",
    "print \"\\n\""
   ]
  },
  {
   "cell_type": "markdown",
   "metadata": {},
   "source": [
    "### Part 3c"
   ]
  },
  {
   "cell_type": "markdown",
   "metadata": {},
   "source": [
    "See Report"
   ]
  },
  {
   "cell_type": "markdown",
   "metadata": {},
   "source": [
    "# Part 4"
   ]
  },
  {
   "cell_type": "markdown",
   "metadata": {},
   "source": [
    "#### Define help functions"
   ]
  },
  {
   "cell_type": "code",
   "execution_count": 15,
   "metadata": {
    "collapsed": true
   },
   "outputs": [],
   "source": [
    "def sigmoid(x):\n",
    "    return 1/(1+np.exp(-x))\n",
    "\n",
    "def f(x, y, theta, lamb):\n",
    "    x = vstack((ones((1, x.shape[1])), x))\n",
    "    output = sigmoid(np.dot(theta.T,x))\n",
    "    return -sum(y*log(output)+(1-y)*log((1-output))) + lamb*np.dot(theta.T,theta)\n",
    "\n",
    "\n",
    "def df(x, y, theta, lamb):\n",
    "    x = vstack((ones((1, x.shape[1])), x))\n",
    "    output = sigmoid(np.dot(theta.T,x))\n",
    "    return np.dot(x,(output-y).T)+2*lamb*theta\n",
    "\n",
    "def performance(X, Y, theta):\n",
    "    X = vstack((np.ones((1, X.shape[1])), X))\n",
    "    h = dot(theta.T, X)\n",
    "    cor = 0\n",
    "    for i in range(Y.shape[1]):\n",
    "        if Y[0,i] == 1 and h[0,i] > 0:\n",
    "            cor += 1\n",
    "        elif Y[0,i] == 0 and h[0,i] < 0:\n",
    "            cor += 1\n",
    "    return float(cor) / Y.shape[1]\n",
    "\n",
    "\n",
    "def grad_descent(f, df, x, y, init_t, alpha, lamb, EPS=1e-5, max_iter=80000, ifpart6 = False):\n",
    "    prev_t = init_t - 10 * EPS\n",
    "    t = init_t.copy()\n",
    "    iter = 0\n",
    "    perfTrain = []\n",
    "    perfVali = []\n",
    "    perfTest = []\n",
    "    iter_ = []\n",
    "    while norm(t - prev_t) > EPS and iter < max_iter:\n",
    "        prev_t = t.copy()\n",
    "        t -= alpha * df(x, y, t, lamb)\n",
    "        if iter % 20 == 0:\n",
    "            iter_.append(iter)\n",
    "            if ifpart6:\n",
    "                perfTrain.append(performance(XTrain_part6b,YTrain_part6b,t))\n",
    "                perfVali.append(performance(XVali_part6b,YVali_part6b,t))\n",
    "                perfTest.append(performance(XTest_part6b,YTest_part6b,t))\n",
    "            else:\n",
    "                perfTrain.append(performance(XTrain,YTrain,t))\n",
    "                perfVali.append(performance(XVali,YVali,t))\n",
    "                perfTest.append(performance(XTest,YTest,t))\n",
    "        if iter % 500 == 0:\n",
    "            print \"Iter\", iter\n",
    "            print \"Cost\", f(x, y, t, lamb)\n",
    "            print \"Gradient: \", df(x, y, t, lamb), \"\\n\"\n",
    "        iter += 1\n",
    "        \n",
    "    return t, perfTrain, perfVali, perfTest, iter_\n",
    "\n",
    "def GetDataPart4(Data):\n",
    "    dim = len(wordList)\n",
    "    X = np.empty((dim, 0))\n",
    "    for new in Data:\n",
    "        temp = np.zeros((dim,1))\n",
    "        for index in range(len(wordList)):\n",
    "            word = wordList[index]\n",
    "            if word in new:\n",
    "                temp[index,0] = 1\n",
    "        X = np.hstack((X, temp))\n",
    "    return X\n",
    "\n",
    "def part4(lamb, alpha= 0.00050, st_devi = 0.0001, max_iteration = 3000):\n",
    "    np.random.seed(0)\n",
    "    theta0 = np.random.normal(scale=st_devi, size=(len(wordList)+1,1))\n",
    "    theta, perfTrain, perfVali, perfTest, iter_ = grad_descent(f, df, XTrain, YTrain, theta0, alpha, lamb, max_iter = max_iteration)\n",
    "\n",
    "    return theta, perfTrain, perfVali, perfTest, iter_"
   ]
  },
  {
   "cell_type": "markdown",
   "metadata": {},
   "source": [
    "#### contruct data"
   ]
  },
  {
   "cell_type": "code",
   "execution_count": 16,
   "metadata": {
    "collapsed": true
   },
   "outputs": [],
   "source": [
    "XTrain = np.hstack((GetDataPart4(fakeTrain), GetDataPart4(realTrain)))\n",
    "YTrain = np.hstack((np.ones((1,len(fakeTrain))), np.zeros((1,len(realTrain)))))\n",
    "XVali = np.hstack((GetDataPart4(fakeVali), GetDataPart4(realVali)))\n",
    "YVali = np.hstack((np.ones((1,len(fakeVali))), np.zeros((1,len(realVali)))))\n",
    "XTest = np.hstack((GetDataPart4(fakeTest), GetDataPart4(realTest)))\n",
    "YTest = np.hstack((np.ones((1,len(fakeTest))), np.zeros((1,len(realTest)))))"
   ]
  },
  {
   "cell_type": "markdown",
   "metadata": {},
   "source": [
    "#### run experiment"
   ]
  },
  {
   "cell_type": "code",
   "execution_count": 68,
   "metadata": {
    "scrolled": true
   },
   "outputs": [
    {
     "name": "stdout",
     "output_type": "stream",
     "text": [
      "0.001\n",
      "Iter 0\n",
      "Cost [[ 1518.37490441]]\n",
      "Gradient:  [[ 107.01037165]\n",
      " [  -0.55222381]\n",
      " [  40.61995164]\n",
      " ..., \n",
      " [   0.44482702]\n",
      " [   0.44482718]\n",
      " [   0.44482718]] \n",
      "\n",
      "Iter 500\n",
      "Cost [[ 563.12259049]]\n",
      "Gradient:  [[ 1.49265136]\n",
      " [-0.27911385]\n",
      " [-0.29679884]\n",
      " ..., \n",
      " [ 0.04651904]\n",
      " [ 0.04651919]\n",
      " [ 0.0465192 ]] \n",
      "\n",
      "Iter 1000\n",
      "Cost [[ 416.70606664]]\n",
      "Gradient:  [[ 0.52055217]\n",
      " [-0.16526726]\n",
      " [ 0.07203075]\n",
      " ..., \n",
      " [ 0.02146051]\n",
      " [ 0.02146066]\n",
      " [ 0.02146066]] \n",
      "\n",
      "Iter 1500\n",
      "Cost [[ 335.38384143]]\n",
      "Gradient:  [[ 0.26244156]\n",
      " [-0.11983   ]\n",
      " [ 0.13707289]\n",
      " ..., \n",
      " [ 0.01295262]\n",
      " [ 0.01295278]\n",
      " [ 0.01295278]] \n",
      "\n",
      "Iter 2000\n",
      "Cost [[ 281.5660248]]\n",
      "Gradient:  [[ 0.16453649]\n",
      " [-0.09545348]\n",
      " [ 0.14323324]\n",
      " ..., \n",
      " [ 0.00872306]\n",
      " [ 0.00872322]\n",
      " [ 0.00872322]] \n",
      "\n",
      "Iter 2500\n",
      "Cost [[ 242.88364246]]\n",
      "Gradient:  [[ 0.11844766]\n",
      " [-0.07994798]\n",
      " [ 0.13537387]\n",
      " ..., \n",
      " [ 0.0062512 ]\n",
      " [ 0.00625136]\n",
      " [ 0.00625136]] \n",
      "\n",
      "0.00316227766017\n",
      "Iter 0\n",
      "Cost [[ 1518.37499182]]\n",
      "Gradient:  [[ 107.00986482]\n",
      " [  -0.55222256]\n",
      " [  40.61960558]\n",
      " ..., \n",
      " [   0.44482572]\n",
      " [   0.44482622]\n",
      " [   0.44482622]] \n",
      "\n",
      "Iter 500\n",
      "Cost [[ 563.60748397]]\n",
      "Gradient:  [[ 1.48954023]\n",
      " [-0.27878739]\n",
      " [-0.29552818]\n",
      " ..., \n",
      " [ 0.04642847]\n",
      " [ 0.04642897]\n",
      " [ 0.04642897]] \n",
      "\n",
      "Iter 1000\n",
      "Cost [[ 417.70629998]]\n",
      "Gradient:  [[ 0.51766272]\n",
      " [-0.16484427]\n",
      " [ 0.07286707]\n",
      " ..., \n",
      " [ 0.02134568]\n",
      " [ 0.02134618]\n",
      " [ 0.02134618]] \n",
      "\n",
      "Iter 1500\n",
      "Cost [[ 336.88298826]]\n",
      "Gradient:  [[ 0.25973687]\n",
      " [-0.11934241]\n",
      " [ 0.13755463]\n",
      " ..., \n",
      " [ 0.01282248]\n",
      " [ 0.01282297]\n",
      " [ 0.01282297]] \n",
      "\n",
      "Iter 2000\n",
      "Cost [[ 283.53976755]]\n",
      "Gradient:  [[ 0.16192974]\n",
      " [-0.09491506]\n",
      " [ 0.14345704]\n",
      " ..., \n",
      " [ 0.00858143]\n",
      " [ 0.00858192]\n",
      " [ 0.00858192]] \n",
      "\n",
      "Iter 2500\n",
      "Cost [[ 245.305749]]\n",
      "Gradient:  [[ 0.11588833]\n",
      " [-0.07936684]\n",
      " [ 0.13540177]\n",
      " ..., \n",
      " [ 0.00610029]\n",
      " [ 0.00610078]\n",
      " [ 0.00610078]] \n",
      "\n",
      "0.01\n",
      "Iter 0\n",
      "Cost [[ 1518.37526823]]\n",
      "Gradient:  [[ 107.0082621 ]\n",
      " [  -0.55221859]\n",
      " [  40.61851123]\n",
      " ..., \n",
      " [   0.44482161]\n",
      " [   0.44482318]\n",
      " [   0.44482319]] \n",
      "\n",
      "Iter 500\n",
      "Cost [[ 565.13674239]]\n",
      "Gradient:  [[ 1.47974299]\n",
      " [-0.27775766]\n",
      " [-0.29153184]\n",
      " ..., \n",
      " [ 0.04614312]\n",
      " [ 0.04614469]\n",
      " [ 0.04614469]] \n",
      "\n",
      "Iter 1000\n",
      "Cost [[ 420.85233815]]\n",
      "Gradient:  [[ 0.50861542]\n",
      " [-0.1635145 ]\n",
      " [ 0.07546859]\n",
      " ..., \n",
      " [ 0.02098548]\n",
      " [ 0.02098703]\n",
      " [ 0.02098704]] \n",
      "\n",
      "Iter 1500\n",
      "Cost [[ 341.58550546]]\n",
      "Gradient:  [[ 0.25132192]\n",
      " [-0.11781516]\n",
      " [ 0.13901965]\n",
      " ..., \n",
      " [ 0.0124161 ]\n",
      " [ 0.01241765]\n",
      " [ 0.01241766]] \n",
      "\n",
      "Iter 2000\n",
      "Cost [[ 289.7142144]]\n",
      "Gradient:  [[ 0.15387235]\n",
      " [-0.09323496]\n",
      " [ 0.14409612]\n",
      " ..., \n",
      " [ 0.00814127]\n",
      " [ 0.00814281]\n",
      " [ 0.00814282]] \n",
      "\n",
      "Iter 2500\n",
      "Cost [[ 252.86225825]]\n",
      "Gradient:  [[ 0.1080286 ]\n",
      " [-0.07756053]\n",
      " [ 0.13541522]\n",
      " ..., \n",
      " [ 0.00563354]\n",
      " [ 0.00563507]\n",
      " [ 0.00563508]] \n",
      "\n",
      "0.0316227766017\n",
      "Iter 0\n",
      "Cost [[ 1518.3761423]]\n",
      "Gradient:  [[ 107.00319383]\n",
      " [  -0.55220606]\n",
      " [  40.61505062]\n",
      " ..., \n",
      " [   0.44480861]\n",
      " [   0.44481358]\n",
      " [   0.44481361]] \n",
      "\n",
      "Iter 500\n",
      "Cost [[ 569.93192217]]\n",
      "Gradient:  [[ 1.44916819]\n",
      " [-0.27452751]\n",
      " [-0.27911075]\n",
      " ..., \n",
      " [ 0.04525107]\n",
      " [ 0.04525595]\n",
      " [ 0.04525598]] \n",
      "\n",
      "Iter 1000\n",
      "Cost [[ 430.63401324]]\n",
      "Gradient:  [[ 0.48088745]\n",
      " [-0.15938671]\n",
      " [ 0.08327366]\n",
      " ..., \n",
      " [ 0.01987502]\n",
      " [ 0.01987982]\n",
      " [ 0.01987985]] \n",
      "\n",
      "Iter 1500\n",
      "Cost [[ 356.08371511]]\n",
      "Gradient:  [[ 0.22604968]\n",
      " [-0.11312868]\n",
      " [ 0.14309203]\n",
      " ..., \n",
      " [ 0.01118167]\n",
      " [ 0.0111864 ]\n",
      " [ 0.01118643]] \n",
      "\n",
      "Iter 2000\n",
      "Cost [[ 308.59132927]]\n",
      "Gradient:  [[ 0.13017315]\n",
      " [-0.08814065]\n",
      " [ 0.14547042]\n",
      " ..., \n",
      " [ 0.00682447]\n",
      " [ 0.00682912]\n",
      " [ 0.00682915]] \n",
      "\n",
      "Iter 2500\n",
      "Cost [[ 275.7729186]]\n",
      "Gradient:  [[ 0.08538593]\n",
      " [-0.07215001]\n",
      " [ 0.13476831]\n",
      " ..., \n",
      " [ 0.00425867]\n",
      " [ 0.00426325]\n",
      " [ 0.00426328]] \n",
      "\n",
      "0.1\n",
      "Iter 0\n",
      "Cost [[ 1518.37890638]]\n",
      "Gradient:  [[ 106.98716655]\n",
      " [  -0.55216644]\n",
      " [  40.6041072 ]\n",
      " ..., \n",
      " [   0.44476752]\n",
      " [   0.44478321]\n",
      " [   0.4447833 ]] \n",
      "\n",
      "Iter 500\n",
      "Cost [[ 584.69833937]]\n",
      "Gradient:  [[ 1.3564393 ]\n",
      " [-0.26456902]\n",
      " [-0.24192991]\n",
      " ..., \n",
      " [ 0.04253075]\n",
      " [ 0.04254568]\n",
      " [ 0.04254576]] \n",
      "\n",
      "Iter 1000\n",
      "Cost [[ 459.98127585]]\n",
      "Gradient:  [[ 0.40149299]\n",
      " [-0.14707276]\n",
      " [ 0.10404545]\n",
      " ..., \n",
      " [ 0.01663617]\n",
      " [ 0.01665037]\n",
      " [ 0.01665045]] \n",
      "\n",
      "Iter 1500\n",
      "Cost [[ 398.48813664]]\n",
      "Gradient:  [[ 0.15824887]\n",
      " [-0.09964036]\n",
      " [ 0.1510502 ]\n",
      " ..., \n",
      " [ 0.00774968]\n",
      " [ 0.00776319]\n",
      " [ 0.00776327]] \n",
      "\n",
      "Iter 2000\n",
      "Cost [[ 362.45247771]]\n",
      "Gradient:  [[ 0.07075887]\n",
      " [-0.07400919]\n",
      " [ 0.14449349]\n",
      " ..., \n",
      " [ 0.00334365]\n",
      " [ 0.00335649]\n",
      " [ 0.00335657]] \n",
      "\n",
      "Iter 2500\n",
      "Cost [[ 339.5920591]]\n",
      "Gradient:  [[ 0.03237115]\n",
      " [-0.05769338]\n",
      " [ 0.12746052]\n",
      " ..., \n",
      " [ 0.00081056]\n",
      " [ 0.00082278]\n",
      " [ 0.00082285]] \n",
      "\n",
      "0.316227766017\n",
      "Iter 0\n",
      "Cost [[ 1518.38764715]]\n",
      "Gradient:  [[ 106.93648381]\n",
      " [  -0.55204113]\n",
      " [  40.56950104]\n",
      " ..., \n",
      " [   0.44463756]\n",
      " [   0.44468717]\n",
      " [   0.44468746]] \n",
      "\n",
      "Iter 500\n",
      "Cost [[ 627.72536215]]\n",
      "Gradient:  [[ 1.09946025]\n",
      " [-0.23548937]\n",
      " [-0.14335692]\n",
      " ..., \n",
      " [ 0.03486283]\n",
      " [ 0.03490518]\n",
      " [ 0.03490543]] \n",
      "\n",
      "Iter 1000\n",
      "Cost [[ 539.25442951]]\n",
      "Gradient:  [[ 0.21844986]\n",
      " [-0.1145597 ]\n",
      " [ 0.13913352]\n",
      " ..., \n",
      " [ 0.00873816]\n",
      " [ 0.00877431]\n",
      " [ 0.00877452]] \n",
      "\n",
      "Iter 1500\n",
      "Cost [[ 505.34838375]]\n",
      "Gradient:  [[ 0.03217748]\n",
      " [-0.06763358]\n",
      " [ 0.14436947]\n",
      " ..., \n",
      " [ 0.00064657]\n",
      " [ 0.00067744]\n",
      " [ 0.00067762]] \n",
      "\n",
      "Iter 2000\n",
      "Cost [[ 489.89677496]]\n",
      "Gradient:  [[-0.01663899]\n",
      " [-0.04386302]\n",
      " [ 0.11442379]\n",
      " ..., \n",
      " [-0.0026397 ]\n",
      " [-0.00261334]\n",
      " [-0.00261319]] \n",
      "\n",
      "Iter 2500\n",
      "Cost [[ 482.2741802]]\n",
      "Gradient:  [[-0.02830482]\n",
      " [-0.02992439]\n",
      " [ 0.08539039]\n",
      " ..., \n",
      " [-0.00397967]\n",
      " [-0.00395717]\n",
      " [-0.00395704]] \n",
      "\n",
      "1\n",
      "Iter 0\n",
      "Cost [[ 1518.41528785]]\n",
      "Gradient:  [[ 106.77621073]\n",
      " [  -0.55164493]\n",
      " [  40.46006663]\n",
      " ..., \n",
      " [   0.44422666]\n",
      " [   0.44438343]\n",
      " [   0.44438435]] \n",
      "\n",
      "Iter 500\n",
      "Cost [[ 734.87540607]]\n",
      "Gradient:  [[ 0.56197791]\n",
      " [-0.16356643]\n",
      " [ 0.03017643]\n",
      " ..., \n",
      " [ 0.01801404]\n",
      " [ 0.0181091 ]\n",
      " [ 0.01810966]] \n",
      "\n",
      "Iter 1000\n",
      "Cost [[ 703.34758243]]\n",
      "Gradient:  [[ 0.00647232]\n",
      " [-0.05406625]\n",
      " [ 0.11521572]\n",
      " ..., \n",
      " [-0.00178016]\n",
      " [-0.00172252]\n",
      " [-0.00172218]] \n",
      "\n",
      "Iter 1500\n",
      "Cost [[ 697.61321035]]\n",
      "Gradient:  [[-0.03133227]\n",
      " [-0.02225269]\n",
      " [ 0.06179081]\n",
      " ..., \n",
      " [-0.00394969]\n",
      " [-0.00391474]\n",
      " [-0.00391453]] \n",
      "\n",
      "Iter 2000\n",
      "Cost [[ 696.34156488]]\n",
      "Gradient:  [[-0.02174598]\n",
      " [-0.01036396]\n",
      " [ 0.02944878]\n",
      " ..., \n",
      " [-0.00321851]\n",
      " [-0.00319732]\n",
      " [-0.0031972 ]] \n",
      "\n",
      "Iter 2500\n",
      "Cost [[ 696.0308038]]\n",
      "Gradient:  [[-0.01234639]\n",
      " [-0.00515775]\n",
      " [ 0.01392222]\n",
      " ..., \n",
      " [-0.00219201]\n",
      " [-0.00217915]\n",
      " [-0.00217908]] \n",
      "\n",
      "When lamb = 0.1000000, the performance on validation set is highest:0.87551\n"
     ]
    },
    {
     "data": {
      "image/png": "[encoded data removed]",
      "text/plain": [
       "<matplotlib.figure.Figure at 0x7fa827647290>"
      ]
     },
     "metadata": {},
     "output_type": "display_data"
    }
   ],
   "source": [
    "perfVali_ = []\n",
    "lamb_ = [10**exp for exp in [-3,-2.5,-2,-1.5,-1,-0.5,0]]\n",
    "bestPerf = -10000000\n",
    "for lamb in lamb_:\n",
    "    print lamb\n",
    "    theta, perfTrain, perfVali, perfTest, iter_ = part4(lamb)\n",
    "    perfVali_.append(perfVali[-1])\n",
    "    if perfVali[-1] > bestPerf:\n",
    "        bestLamb = lamb\n",
    "        bestPerf = perfVali[-1]\n",
    "    \n",
    "    \n",
    "fig = plt.figure(40)    \n",
    "plt.semilogx(lamb_, perfVali_)\n",
    "plt.ylabel(\"Performance on Validation set\")\n",
    "plt.xlabel(\"lamb\")\n",
    "plt.savefig(\"part4: Tuning lambda\")\n",
    "\n",
    "print \"When lamb = %07.7f, the performance on validation set is highest:%05.5f\"%(bestLamb, bestPerf)"
   ]
  },
  {
   "cell_type": "code",
   "execution_count": 69,
   "metadata": {
    "scrolled": true
   },
   "outputs": [
    {
     "name": "stdout",
     "output_type": "stream",
     "text": [
      "Iter 0\n",
      "Cost [[ 1518.37486803]]\n",
      "Gradient:  [[ 107.01058261]\n",
      " [  -0.55222433]\n",
      " [  40.62009568]\n",
      " ..., \n",
      " [   0.44482756]\n",
      " [   0.44482758]\n",
      " [   0.44482758]] \n",
      "\n",
      "Iter 500\n",
      "Cost [[ 562.92057984]]\n",
      "Gradient:  [[ 1.49394815]\n",
      " [-0.27924984]\n",
      " [-0.29732871]\n",
      " ..., \n",
      " [ 0.04655678]\n",
      " [ 0.0465568 ]\n",
      " [ 0.0465568 ]] \n",
      "\n",
      "Iter 1000\n",
      "Cost [[ 416.2889773]]\n",
      "Gradient:  [[ 0.52175889]\n",
      " [-0.16544367]\n",
      " [ 0.0716807 ]\n",
      " ..., \n",
      " [ 0.02150843]\n",
      " [ 0.02150845]\n",
      " [ 0.02150845]] \n",
      "\n",
      "Iter 1500\n",
      "Cost [[ 334.75812988]]\n",
      "Gradient:  [[ 0.26357358]\n",
      " [-0.12003361]\n",
      " [ 0.13686973]\n",
      " ..., \n",
      " [ 0.01300703]\n",
      " [ 0.01300704]\n",
      " [ 0.01300704]] \n",
      "\n",
      "Iter 2000\n",
      "Cost [[ 280.74146058]]\n",
      "Gradient:  [[ 0.16562993]\n",
      " [-0.09567862]\n",
      " [ 0.14313695]\n",
      " ..., \n",
      " [ 0.00878236]\n",
      " [ 0.00878238]\n",
      " [ 0.00878238]] \n",
      "\n",
      "Iter 2500\n",
      "Cost [[ 241.87082215]]\n",
      "Gradient:  [[ 0.11952357]\n",
      " [-0.08019129]\n",
      " [ 0.13535882]\n",
      " ..., \n",
      " [ 0.00631449]\n",
      " [ 0.0063145 ]\n",
      " [ 0.0063145 ]] \n",
      "\n"
     ]
    }
   ],
   "source": [
    "theta, perfTrain, perfVali, perfTest, iter_ = part4(0.1)"
   ]
  },
  {
   "cell_type": "code",
   "execution_count": 75,
   "metadata": {},
   "outputs": [
    {
     "data": {
      "text/plain": [
       "0.8755102040816326"
      ]
     },
     "execution_count": 75,
     "metadata": {},
     "output_type": "execute_result"
    }
   ],
   "source": [
    "perfVali[-1]"
   ]
  },
  {
   "cell_type": "markdown",
   "metadata": {},
   "source": [
    "#### Learning curve plot"
   ]
  },
  {
   "cell_type": "code",
   "execution_count": 79,
   "metadata": {},
   "outputs": [
    {
     "data": {
      "text/plain": [
       "<matplotlib.legend.Legend at 0x7fa826eaba90>"
      ]
     },
     "execution_count": 79,
     "metadata": {},
     "output_type": "execute_result"
    },
    {
     "data": {
      "image/png": "[encoded data removed]",
      "text/plain": [
       "<matplotlib.figure.Figure at 0x7fa828768510>"
      ]
     },
     "metadata": {},
     "output_type": "display_data"
    }
   ],
   "source": [
    "fig = plt.figure(40)\n",
    "plt.plot(iter_, perfTrain, label = \"Train\")\n",
    "plt.plot(iter_, perfVali, label = \"Vali\")\n",
    "plt.plot(iter_, perfTest, label = \"Test\")\n",
    "plt.ylabel(\"performance\")\n",
    "plt.xlabel(\"iteration\")\n",
    "plt.title(\"Part4: Learning curve\")\n",
    "plt.legend(loc = \"best\")"
   ]
  },
  {
   "cell_type": "markdown",
   "metadata": {},
   "source": [
    "# Part 5"
   ]
  },
  {
   "cell_type": "markdown",
   "metadata": {},
   "source": [
    "to be conpleted ...."
   ]
  },
  {
   "cell_type": "markdown",
   "metadata": {},
   "source": [
    "# Part 6"
   ]
  },
  {
   "cell_type": "markdown",
   "metadata": {},
   "source": [
    "### Part 6a"
   ]
  },
  {
   "cell_type": "code",
   "execution_count": 18,
   "metadata": {
    "scrolled": true
   },
   "outputs": [
    {
     "name": "stdout",
     "output_type": "stream",
     "text": [
      "The 1-th most positive theta is 2.6197385 and the corresponding word is breaking\n",
      "The 2-th most positive theta is 2.4783925 and the corresponding word is victory\n",
      "The 3-th most positive theta is 2.1865181 and the corresponding word is supporter\n",
      "The 4-th most positive theta is 2.1066448 and the corresponding word is hillary\n",
      "The 5-th most positive theta is 2.0621465 and the corresponding word is are\n",
      "The 6-th most positive theta is 1.9797791 and the corresponding word is watch\n",
      "The 7-th most positive theta is 1.9449502 and the corresponding word is black\n",
      "The 8-th most positive theta is 1.9003033 and the corresponding word is daily\n",
      "The 9-th most positive theta is 1.8612052 and the corresponding word is 3\n",
      "The 10-th most positive theta is 1.8327928 and the corresponding word is go\n",
      "\n",
      "\n",
      "The 1-th most negative theta is -3.3608917 and the corresponding word is trumps\n",
      "The 2-th most negative theta is -2.2351234 and the corresponding word is crawl\n",
      "The 3-th most negative theta is -2.1960022 and the corresponding word is australia\n",
      "The 4-th most negative theta is -2.1944937 and the corresponding word is turnbull\n",
      "The 5-th most negative theta is -2.1789536 and the corresponding word is us\n",
      "The 6-th most negative theta is -1.9542342 and the corresponding word is debate\n",
      "The 7-th most negative theta is -1.9253108 and the corresponding word is north\n",
      "The 8-th most negative theta is -1.8788903 and the corresponding word is tax\n",
      "The 9-th most negative theta is -1.7794685 and the corresponding word is trade\n",
      "The 10-th most negative theta is -1.7130842 and the corresponding word is business\n"
     ]
    }
   ],
   "source": [
    "temp = theta.flatten().tolist()\n",
    "Order = sorted(temp, reverse = True)\n",
    "for i in range(10):\n",
    "    word = wordList[temp.index(Order[i])-1]\n",
    "    print \"The %i-th most positive theta is %07.7f and the corresponding word is %s\"%(i+1, Order[i], word)\n",
    "print \"\\n\"\n",
    "for i in np.arange(-1,-11,-1):\n",
    "    word = wordList[temp.index(Order[i])-1]\n",
    "    print \"The %i-th most negative theta is %07.7f and the corresponding word is %s\"%(-i, Order[i], word)"
   ]
  },
  {
   "cell_type": "markdown",
   "metadata": {},
   "source": [
    "### Part 6b"
   ]
  },
  {
   "cell_type": "markdown",
   "metadata": {},
   "source": [
    "#### contruct wordList without stop words"
   ]
  },
  {
   "cell_type": "code",
   "execution_count": 19,
   "metadata": {
    "collapsed": true
   },
   "outputs": [],
   "source": [
    "wordList_nostop = []\n",
    "for word in wordList:\n",
    "    if word not in ENGLISH_STOP_WORDS:\n",
    "        wordList_nostop.append(word)"
   ]
  },
  {
   "cell_type": "markdown",
   "metadata": {},
   "source": [
    "#### define helper function"
   ]
  },
  {
   "cell_type": "code",
   "execution_count": 20,
   "metadata": {
    "collapsed": true
   },
   "outputs": [],
   "source": [
    "def GetDataPart4_nostop(Data):\n",
    "    dim = len(wordList_nostop)\n",
    "    X = np.empty((dim, 0))\n",
    "    for new in Data:\n",
    "        temp = np.zeros((dim,1))\n",
    "        for index, word in enumerate(wordList_nostop):\n",
    "            if word in new:\n",
    "                temp[index,0] = 1\n",
    "        X = np.hstack((X, temp))\n",
    "    return X\n",
    "\n",
    "def part6b(lamb, alpha= 0.00050, st_devi = 0.0001, max_iteration = 3000):\n",
    "    np.random.seed(0)\n",
    "    theta0 = np.random.normal(scale=st_devi, size=(len(wordList_nostop)+1,1))\n",
    "    theta_part6b, perfTrain_part6b, perfVali_part6b, perfTest_part6b, iter_ = grad_descent(f, df, XTrain_part6b, YTrain_part6b, theta0, alpha, lamb, max_iter = max_iteration, ifpart6 = True)\n",
    "\n",
    "    return theta_part6b, perfTrain_part6b, perfVali_part6b, perfTest_part6b, iter_"
   ]
  },
  {
   "cell_type": "markdown",
   "metadata": {},
   "source": [
    "#### contruct data"
   ]
  },
  {
   "cell_type": "code",
   "execution_count": 21,
   "metadata": {
    "collapsed": true
   },
   "outputs": [],
   "source": [
    "XTrain_part6b = np.hstack((GetDataPart4_nostop(fakeTrain), GetDataPart4_nostop(realTrain)))\n",
    "YTrain_part6b = np.hstack((np.ones((1,len(fakeTrain))), np.zeros((1,len(realTrain)))))\n",
    "XVali_part6b = np.hstack((GetDataPart4_nostop(fakeVali), GetDataPart4_nostop(realVali)))\n",
    "YVali_part6b = np.hstack((np.ones((1,len(fakeVali))), np.zeros((1,len(realVali)))))\n",
    "XTest_part6b = np.hstack((GetDataPart4_nostop(fakeTest), GetDataPart4_nostop(realTest)))\n",
    "YTest_part6b = np.hstack((np.ones((1,len(fakeTest))), np.zeros((1,len(realTest)))))"
   ]
  },
  {
   "cell_type": "markdown",
   "metadata": {},
   "source": [
    "#### Run"
   ]
  },
  {
   "cell_type": "code",
   "execution_count": 22,
   "metadata": {
    "scrolled": true
   },
   "outputs": [
    {
     "name": "stdout",
     "output_type": "stream",
     "text": [
      "Iter 0\n",
      "Cost [[ 1525.6619093]]\n",
      "Gradient:  [[ 104.00618546]\n",
      " [  -0.55060046]\n",
      " [  37.72066548]\n",
      " ..., \n",
      " [   0.44529548]\n",
      " [   0.44529546]\n",
      " [   0.44529547]] \n",
      "\n",
      "Iter 500\n",
      "Cost [[ 667.03599585]]\n",
      "Gradient:  [[ 1.03197764]\n",
      " [-0.25476676]\n",
      " [-0.13387645]\n",
      " ..., \n",
      " [ 0.0698076 ]\n",
      " [ 0.06980758]\n",
      " [ 0.06980759]] \n",
      "\n",
      "Iter 1000\n",
      "Cost [[ 500.25772067]]\n",
      "Gradient:  [[ 0.37213802]\n",
      " [-0.17337138]\n",
      " [ 0.05847945]\n",
      " ..., \n",
      " [ 0.0351419 ]\n",
      " [ 0.03514188]\n",
      " [ 0.03514189]] \n",
      "\n",
      "Iter 1500\n",
      "Cost [[ 407.08067144]]\n",
      "Gradient:  [[ 0.20498467]\n",
      " [-0.1383214 ]\n",
      " [ 0.06923625]\n",
      " ..., \n",
      " [ 0.02242331]\n",
      " [ 0.02242329]\n",
      " [ 0.0224233 ]] \n",
      "\n",
      "Iter 2000\n",
      "Cost [[ 345.20395592]]\n",
      "Gradient:  [[ 0.1402082 ]\n",
      " [-0.11784076]\n",
      " [ 0.05963832]\n",
      " ..., \n",
      " [ 0.01582013]\n",
      " [ 0.01582011]\n",
      " [ 0.01582012]] \n",
      "\n",
      "Iter 2500\n",
      "Cost [[ 300.50523442]]\n",
      "Gradient:  [[ 0.10687346]\n",
      " [-0.10372675]\n",
      " [ 0.05026099]\n",
      " ..., \n",
      " [ 0.0118333 ]\n",
      " [ 0.01183328]\n",
      " [ 0.01183329]] \n",
      "\n"
     ]
    }
   ],
   "source": [
    "theta_part6b, perfTrain_part6b, perfVali_part6b, perfTest_part6b, iter_ = part6b(0.0001)"
   ]
  },
  {
   "cell_type": "markdown",
   "metadata": {},
   "source": [
    "#### Learning curve plot"
   ]
  },
  {
   "cell_type": "code",
   "execution_count": 23,
   "metadata": {},
   "outputs": [
    {
     "data": {
      "text/plain": [
       "<matplotlib.legend.Legend at 0xe6d0400>"
      ]
     },
     "execution_count": 23,
     "metadata": {},
     "output_type": "execute_result"
    },
    {
     "data": {
      "image/png": "[encoded data removed]",
      "text/plain": [
       "<matplotlib.figure.Figure at 0xe679390>"
      ]
     },
     "metadata": {},
     "output_type": "display_data"
    }
   ],
   "source": [
    "fig = plt.figure(60)\n",
    "plt.plot(iter_, perfTrain_part6b, label = \"Train\")\n",
    "plt.plot(iter_, perfVali_part6b, label = \"Vali\")\n",
    "plt.plot(iter_, perfTest_part6b, label = \"Test\")\n",
    "plt.ylabel(\"performance\")\n",
    "plt.xlabel(\"iteration\")\n",
    "plt.title(\"Part4b: Learning curve\")\n",
    "plt.legend(loc = \"best\")"
   ]
  },
  {
   "cell_type": "markdown",
   "metadata": {},
   "source": [
    "#### Print top 10s"
   ]
  },
  {
   "cell_type": "code",
   "execution_count": 24,
   "metadata": {
    "scrolled": true
   },
   "outputs": [
    {
     "name": "stdout",
     "output_type": "stream",
     "text": [
      "The 1-th most positive theta is 2.7070417 and the corresponding word is breaking\n",
      "The 2-th most positive theta is 2.3249409 and the corresponding word is supporter\n",
      "The 3-th most positive theta is 2.1664505 and the corresponding word is watch\n",
      "The 4-th most positive theta is 2.1135915 and the corresponding word is 3\n",
      "The 5-th most positive theta is 2.0920808 and the corresponding word is comment\n",
      "The 6-th most positive theta is 2.0435620 and the corresponding word is just\n",
      "The 7-th most positive theta is 1.9635452 and the corresponding word is hillary\n",
      "The 8-th most positive theta is 1.9573347 and the corresponding word is woman\n",
      "The 9-th most positive theta is 1.9512589 and the corresponding word is black\n",
      "The 10-th most positive theta is 1.9429919 and the corresponding word is won\n",
      "\n",
      "\n",
      "The 1-th most negative theta is -2.8881572 and the corresponding word is trumps\n",
      "The 2-th most negative theta is -2.4294129 and the corresponding word is turnbull\n",
      "The 3-th most negative theta is -2.4035711 and the corresponding word is australia\n",
      "The 4-th most negative theta is -2.3663462 and the corresponding word is debate\n",
      "The 5-th most negative theta is -2.0563496 and the corresponding word is north\n",
      "The 6-th most negative theta is -2.0295326 and the corresponding word is tax\n",
      "The 7-th most negative theta is -1.9326863 and the corresponding word is trade\n",
      "The 8-th most negative theta is -1.8711277 and the corresponding word is ban\n",
      "The 9-th most negative theta is -1.8610944 and the corresponding word is comments\n",
      "The 10-th most negative theta is -1.6188653 and the corresponding word is paris\n"
     ]
    }
   ],
   "source": [
    "temp = theta_part6b.flatten().tolist()\n",
    "Order = sorted(temp, reverse = True)\n",
    "for i in range(10):\n",
    "    word = wordList_nostop[temp.index(Order[i])-1]\n",
    "    print \"The %i-th most positive theta is %07.7f and the corresponding word is %s\"%(i+1, Order[i], word)\n",
    "print \"\\n\"\n",
    "for i in np.arange(-1,-11,-1):\n",
    "    word = wordList_nostop[temp.index(Order[i])-1]\n",
    "    print \"The %i-th most negative theta is %07.7f and the corresponding word is %s\"%(-i, Order[i], word)"
   ]
  },
  {
   "cell_type": "code",
   "execution_count": 25,
   "metadata": {
    "scrolled": true
   },
   "outputs": [
    {
     "name": "stdout",
     "output_type": "stream",
     "text": [
      "The 1-th most positive theta is 2.6197385 and the corresponding word is israeli\n",
      "The 2-th most positive theta is 2.4783925 and the corresponding word is official\n",
      "The 3-th most positive theta is 2.1865181 and the corresponding word is hangs\n",
      "The 4-th most positive theta is 2.1066448 and the corresponding word is shocked\n",
      "The 5-th most positive theta is 2.0621465 and the corresponding word is light\n",
      "The 6-th most positive theta is 1.9797791 and the corresponding word is major\n",
      "The 7-th most positive theta is 1.9449502 and the corresponding word is million\n",
      "The 8-th most positive theta is 1.9003033 and the corresponding word is livre\n",
      "The 9-th most positive theta is 1.8612052 and the corresponding word is reveals\n",
      "The 10-th most positive theta is 1.8327928 and the corresponding word is bribery\n",
      "\n",
      "\n",
      "The 1-th most negative theta is -3.3608917 and the corresponding word is hits\n",
      "The 2-th most negative theta is -2.2351234 and the corresponding word is nc\n",
      "The 3-th most negative theta is -2.1960022 and the corresponding word is billionaires\n",
      "The 4-th most negative theta is -2.1944937 and the corresponding word is 220\n",
      "The 5-th most negative theta is -2.1789536 and the corresponding word is jokes\n",
      "The 6-th most negative theta is -1.9542342 and the corresponding word is anthem\n",
      "The 7-th most negative theta is -1.9253108 and the corresponding word is crime\n",
      "The 8-th most negative theta is -1.8788903 and the corresponding word is department\n",
      "The 9-th most negative theta is -1.7794685 and the corresponding word is fresh\n",
      "The 10-th most negative theta is -1.7130842 and the corresponding word is bans\n"
     ]
    }
   ],
   "source": [
    "wordTheta_nostop = {}\n",
    "i = 0\n",
    "for word in wordList_nostop:\n",
    "    wordTheta_nostop[word] = theta[i,0]\n",
    "    i += 1\n",
    "wordThetaInOrder_nostop = sorted(wordTheta_nostop, key = wordTheta_nostop.__getitem__, reverse=True)\n",
    "for i in range(10):\n",
    "    word = wordThetaInOrder_nostop[i]\n",
    "    print \"The %i-th most positive theta is %07.7f and the corresponding word is %s\"%(i+1, wordTheta_nostop[word], word)\n",
    "print \"\\n\"\n",
    "for i in np.arange(-1,-11,-1):\n",
    "    word = wordThetaInOrder_nostop[i]\n",
    "    print \"The %i-th most negative theta is %07.7f and the corresponding word is %s\"%(-i, wordTheta_nostop[word], word)"
   ]
  },
  {
   "cell_type": "markdown",
   "metadata": {},
   "source": [
    "### Part 6c"
   ]
  },
  {
   "cell_type": "markdown",
   "metadata": {},
   "source": [
    "to be conpleted ...."
   ]
  },
  {
   "cell_type": "markdown",
   "metadata": {},
   "source": [
    "# Part 7"
   ]
  },
  {
   "cell_type": "markdown",
   "metadata": {},
   "source": [
    "### Part 7a"
   ]
  },
  {
   "cell_type": "markdown",
   "metadata": {},
   "source": [
    "#### contruct data"
   ]
  },
  {
   "cell_type": "code",
   "execution_count": 18,
   "metadata": {
    "collapsed": true
   },
   "outputs": [],
   "source": [
    "XTrain_part7 = XTrain.T\n",
    "YTrain_part7 = YTrain.flatten()\n",
    "XVali_part7 = XVali.T\n",
    "YVali_part7 = YVali.flatten()\n",
    "XTest_part7 = XTest.T\n",
    "YTest_part7 = YTest.flatten()"
   ]
  },
  {
   "cell_type": "markdown",
   "metadata": {},
   "source": [
    "#### define helper function"
   ]
  },
  {
   "cell_type": "code",
   "execution_count": 26,
   "metadata": {
    "collapsed": true
   },
   "outputs": [],
   "source": [
    "def Performance_part7(X, Y, clf):\n",
    "    '''\n",
    "    Take feature X, label Y, and model clf.\n",
    "    return the percentage performance of model clf on dataset X & Y.\n",
    "    '''\n",
    "    predict = clf.predict(X)\n",
    "    result = 0.0\n",
    "    for i in range(len(Y)):\n",
    "        if predict[i] == Y[i]:\n",
    "            result += 1\n",
    "    return result/len(predict)"
   ]
  },
  {
   "cell_type": "code",
   "execution_count": 27,
   "metadata": {
    "collapsed": true
   },
   "outputs": [],
   "source": [
    "def part7a(max_depth):\n",
    "    clf = tree.DecisionTreeClassifier(max_depth = max_depth, criterion = 'entropy')\n",
    "    clf = clf.fit(XTrain_part7, YTrain_part7)\n",
    "    perfTrain_part7 = Performance_part7(XTrain_part7, YTrain_part7, clf)\n",
    "    perfVali_part7 = Performance_part7(XVali_part7, YVali_part7, clf)\n",
    "    perfTest_part7 = Performance_part7(XTest_part7, YTest_part7, clf)\n",
    "    return clf, perfTrain_part7, perfVali_part7, perfTest_part7"
   ]
  },
  {
   "cell_type": "markdown",
   "metadata": {},
   "source": [
    "#### run"
   ]
  },
  {
   "cell_type": "code",
   "execution_count": 42,
   "metadata": {
    "scrolled": true
   },
   "outputs": [
    {
     "name": "stdout",
     "output_type": "stream",
     "text": [
      "5 0.712244897959\n",
      "10 0.738775510204\n",
      "20 0.761224489796\n",
      "30 0.765306122449\n",
      "40 0.769387755102\n",
      "50 0.777551020408\n",
      "60 0.781632653061\n",
      "70 0.785714285714\n",
      "90 0.777551020408\n",
      "110 0.781632653061\n",
      "130 0.771428571429\n",
      "160 0.785714285714\n",
      "200 0.777551020408\n",
      "250 0.783673469388\n",
      "300 0.789795918367\n",
      "350 0.773469387755\n",
      "400 0.787755102041\n",
      "The model performs best on Validation set with max_depth of 300 and performance of 0.78980\n"
     ]
    }
   ],
   "source": [
    "perfTrain_part7_ = []\n",
    "perfVali_part7_ = []\n",
    "perfTest_part7_ = []\n",
    "bestPerf = 0\n",
    "depth_ = [5, 10, 20, 30, 40, 50, 60, 70, 90, 110, 130, 160, 200, 250, 300, 350, 400]\n",
    "for depth in depth_:\n",
    "    clf, perfTrain_part7, perfVali_part7, perfTest_part7 = part7a(depth)\n",
    "    perfTrain_part7_.append(perfTrain_part7)\n",
    "    perfVali_part7_.append(perfVali_part7)\n",
    "    perfTest_part7_.append(perfTest_part7)\n",
    "    print depth, perfVali_part7\n",
    "    if perfVali_part7 > bestPerf:\n",
    "        bestPerf = perfVali_part7\n",
    "        bestDepth = depth\n",
    "        \n",
    "print \"The model performs best on Validation set with max_depth of %i and performance of %05.5f\"%(bestDepth, bestPerf)"
   ]
  },
  {
   "cell_type": "code",
   "execution_count": 47,
   "metadata": {},
   "outputs": [
    {
     "name": "stdout",
     "output_type": "stream",
     "text": [
      "0.977242888403\n",
      "0.785714285714\n",
      "0.747454175153\n"
     ]
    }
   ],
   "source": [
    "print perfTrain_part7_[7]\n",
    "print perfVali_part7_[7]\n",
    "print perfTest_part7_[7]"
   ]
  },
  {
   "cell_type": "markdown",
   "metadata": {},
   "source": [
    "#### Plot"
   ]
  },
  {
   "cell_type": "code",
   "execution_count": 48,
   "metadata": {},
   "outputs": [
    {
     "data": {
      "text/plain": [
       "<matplotlib.legend.Legend at 0xf4769e8>"
      ]
     },
     "execution_count": 48,
     "metadata": {},
     "output_type": "execute_result"
    },
    {
     "data": {
      "image/png": "[encoded data removed]",
      "text/plain": [
       "<matplotlib.figure.Figure at 0xd2ca160>"
      ]
     },
     "metadata": {},
     "output_type": "display_data"
    }
   ],
   "source": [
    "fig = plt.figure(70)\n",
    "plt.plot(depth_, perfTrain_part7_, label = \"Train\")\n",
    "plt.plot(depth_, perfVali_part7_, label = \"Vali\")\n",
    "plt.plot(depth_, perfTest_part7_, label = \"Test\")\n",
    "plt.ylabel(\"Performance\")\n",
    "plt.xlabel(\"Max_depth\")\n",
    "plt.title(\"Part7a: Relationship between max_depth and Performance\")\n",
    "plt.legend(loc = \"best\")"
   ]
  },
  {
   "cell_type": "markdown",
   "metadata": {},
   "source": [
    "### Part 7b"
   ]
  },
  {
   "cell_type": "code",
   "execution_count": 23,
   "metadata": {
    "collapsed": true
   },
   "outputs": [],
   "source": [
    "import os     \n",
    "\n",
    "os.environ[\"PATH\"] += os.pathsep + 'C:/Program Files (x86)/Graphviz2.38/bin/'"
   ]
  },
  {
   "cell_type": "code",
   "execution_count": 49,
   "metadata": {
    "scrolled": false
   },
   "outputs": [
    {
     "data": {
      "image/svg+xml": [
       "<?xml version=\"1.0\" encoding=\"UTF-8\" standalone=\"no\"?>\r\n",
       "<!DOCTYPE svg PUBLIC \"-//W3C//DTD SVG 1.1//EN\"\r\n",
       " \"http://www.w3.org/Graphics/SVG/1.1/DTD/svg11.dtd\">\r\n",
       "<!-- Generated by graphviz version 2.38.0 (20140413.2041)\r\n",
       " -->\r\n",
       "<!-- Title: Tree Pages: 1 -->\r\n",
       "<svg width=\"617pt\" height=\"356pt\"\r\n",
       " viewBox=\"0.00 0.00 617.00 356.00\" xmlns=\"http://www.w3.org/2000/svg\" xmlns:xlink=\"http://www.w3.org/1999/xlink\">\r\n",
       "<g id=\"graph0\" class=\"graph\" transform=\"scale(1 1) rotate(0) translate(4 352)\">\r\n",
       "<title>Tree</title>\r\n",
       "<polygon fill=\"white\" stroke=\"none\" points=\"-4,4 -4,-352 613,-352 613,4 -4,4\"/>\r\n",
       "<!-- 0 -->\r\n",
       "<g id=\"node1\" class=\"node\"><title>0</title>\r\n",
       "<polygon fill=\"none\" stroke=\"black\" points=\"374.5,-348 249.5,-348 249.5,-280 374.5,-280 374.5,-348\"/>\r\n",
       "<text text-anchor=\"middle\" x=\"312\" y=\"-332.8\" font-family=\"Times New Roman,serif\" font-size=\"14.00\">donald &lt;= 0.5</text>\r\n",
       "<text text-anchor=\"middle\" x=\"312\" y=\"-317.8\" font-family=\"Times New Roman,serif\" font-size=\"14.00\">entropy = 0.969</text>\r\n",
       "<text text-anchor=\"middle\" x=\"312\" y=\"-302.8\" font-family=\"Times New Roman,serif\" font-size=\"14.00\">samples = 2285</text>\r\n",
       "<text text-anchor=\"middle\" x=\"312\" y=\"-287.8\" font-family=\"Times New Roman,serif\" font-size=\"14.00\">value = [1377, 908]</text>\r\n",
       "</g>\r\n",
       "<!-- 1 -->\r\n",
       "<g id=\"node2\" class=\"node\"><title>1</title>\r\n",
       "<polygon fill=\"none\" stroke=\"black\" points=\"299,-244 181,-244 181,-176 299,-176 299,-244\"/>\r\n",
       "<text text-anchor=\"middle\" x=\"240\" y=\"-228.8\" font-family=\"Times New Roman,serif\" font-size=\"14.00\">hillary &lt;= 0.5</text>\r\n",
       "<text text-anchor=\"middle\" x=\"240\" y=\"-213.8\" font-family=\"Times New Roman,serif\" font-size=\"14.00\">entropy = 1.0</text>\r\n",
       "<text text-anchor=\"middle\" x=\"240\" y=\"-198.8\" font-family=\"Times New Roman,serif\" font-size=\"14.00\">samples = 1542</text>\r\n",
       "<text text-anchor=\"middle\" x=\"240\" y=\"-183.8\" font-family=\"Times New Roman,serif\" font-size=\"14.00\">value = [790, 752]</text>\r\n",
       "</g>\r\n",
       "<!-- 0&#45;&gt;1 -->\r\n",
       "<g id=\"edge1\" class=\"edge\"><title>0&#45;&gt;1</title>\r\n",
       "<path fill=\"none\" stroke=\"black\" d=\"M288.624,-279.884C282.462,-271.154 275.735,-261.625 269.304,-252.514\"/>\r\n",
       "<polygon fill=\"black\" stroke=\"black\" points=\"272.132,-250.451 263.505,-244.299 266.413,-254.487 272.132,-250.451\"/>\r\n",
       "<text text-anchor=\"middle\" x=\"259.258\" y=\"-265.236\" font-family=\"Times New Roman,serif\" font-size=\"14.00\">True</text>\r\n",
       "</g>\r\n",
       "<!-- 456 -->\r\n",
       "<g id=\"node9\" class=\"node\"><title>456</title>\r\n",
       "<polygon fill=\"none\" stroke=\"black\" points=\"444,-244 326,-244 326,-176 444,-176 444,-244\"/>\r\n",
       "<text text-anchor=\"middle\" x=\"385\" y=\"-228.8\" font-family=\"Times New Roman,serif\" font-size=\"14.00\">the &lt;= 0.5</text>\r\n",
       "<text text-anchor=\"middle\" x=\"385\" y=\"-213.8\" font-family=\"Times New Roman,serif\" font-size=\"14.00\">entropy = 0.741</text>\r\n",
       "<text text-anchor=\"middle\" x=\"385\" y=\"-198.8\" font-family=\"Times New Roman,serif\" font-size=\"14.00\">samples = 743</text>\r\n",
       "<text text-anchor=\"middle\" x=\"385\" y=\"-183.8\" font-family=\"Times New Roman,serif\" font-size=\"14.00\">value = [587, 156]</text>\r\n",
       "</g>\r\n",
       "<!-- 0&#45;&gt;456 -->\r\n",
       "<g id=\"edge8\" class=\"edge\"><title>0&#45;&gt;456</title>\r\n",
       "<path fill=\"none\" stroke=\"black\" d=\"M335.701,-279.884C341.948,-271.154 348.769,-261.625 355.289,-252.514\"/>\r\n",
       "<polygon fill=\"black\" stroke=\"black\" points=\"358.194,-254.468 361.168,-244.299 352.502,-250.394 358.194,-254.468\"/>\r\n",
       "<text text-anchor=\"middle\" x=\"365.255\" y=\"-265.263\" font-family=\"Times New Roman,serif\" font-size=\"14.00\">False</text>\r\n",
       "</g>\r\n",
       "<!-- 2 -->\r\n",
       "<g id=\"node3\" class=\"node\"><title>2</title>\r\n",
       "<polygon fill=\"none\" stroke=\"black\" points=\"154,-140 36,-140 36,-72 154,-72 154,-140\"/>\r\n",
       "<text text-anchor=\"middle\" x=\"95\" y=\"-124.8\" font-family=\"Times New Roman,serif\" font-size=\"14.00\">trumps &lt;= 0.5</text>\r\n",
       "<text text-anchor=\"middle\" x=\"95\" y=\"-109.8\" font-family=\"Times New Roman,serif\" font-size=\"14.00\">entropy = 0.995</text>\r\n",
       "<text text-anchor=\"middle\" x=\"95\" y=\"-94.8\" font-family=\"Times New Roman,serif\" font-size=\"14.00\">samples = 1456</text>\r\n",
       "<text text-anchor=\"middle\" x=\"95\" y=\"-79.8\" font-family=\"Times New Roman,serif\" font-size=\"14.00\">value = [788, 668]</text>\r\n",
       "</g>\r\n",
       "<!-- 1&#45;&gt;2 -->\r\n",
       "<g id=\"edge2\" class=\"edge\"><title>1&#45;&gt;2</title>\r\n",
       "<path fill=\"none\" stroke=\"black\" d=\"M192.923,-175.884C179.5,-166.442 164.747,-156.064 150.856,-146.292\"/>\r\n",
       "<polygon fill=\"black\" stroke=\"black\" points=\"152.53,-143.19 142.337,-140.299 148.503,-148.916 152.53,-143.19\"/>\r\n",
       "</g>\r\n",
       "<!-- 449 -->\r\n",
       "<g id=\"node6\" class=\"node\"><title>449</title>\r\n",
       "<polygon fill=\"none\" stroke=\"black\" points=\"308,-140 172,-140 172,-72 308,-72 308,-140\"/>\r\n",
       "<text text-anchor=\"middle\" x=\"240\" y=\"-124.8\" font-family=\"Times New Roman,serif\" font-size=\"14.00\">administration &lt;= 0.5</text>\r\n",
       "<text text-anchor=\"middle\" x=\"240\" y=\"-109.8\" font-family=\"Times New Roman,serif\" font-size=\"14.00\">entropy = 0.159</text>\r\n",
       "<text text-anchor=\"middle\" x=\"240\" y=\"-94.8\" font-family=\"Times New Roman,serif\" font-size=\"14.00\">samples = 86</text>\r\n",
       "<text text-anchor=\"middle\" x=\"240\" y=\"-79.8\" font-family=\"Times New Roman,serif\" font-size=\"14.00\">value = [2, 84]</text>\r\n",
       "</g>\r\n",
       "<!-- 1&#45;&gt;449 -->\r\n",
       "<g id=\"edge5\" class=\"edge\"><title>1&#45;&gt;449</title>\r\n",
       "<path fill=\"none\" stroke=\"black\" d=\"M240,-175.884C240,-167.778 240,-158.982 240,-150.472\"/>\r\n",
       "<polygon fill=\"black\" stroke=\"black\" points=\"243.5,-150.299 240,-140.299 236.5,-150.299 243.5,-150.299\"/>\r\n",
       "</g>\r\n",
       "<!-- 3 -->\r\n",
       "<g id=\"node4\" class=\"node\"><title>3</title>\r\n",
       "<polygon fill=\"none\" stroke=\"black\" points=\"54,-36 0,-36 0,-0 54,-0 54,-36\"/>\r\n",
       "<text text-anchor=\"middle\" x=\"27\" y=\"-14.3\" font-family=\"Times New Roman,serif\" font-size=\"14.00\">(...)</text>\r\n",
       "</g>\r\n",
       "<!-- 2&#45;&gt;3 -->\r\n",
       "<g id=\"edge3\" class=\"edge\"><title>2&#45;&gt;3</title>\r\n",
       "<path fill=\"none\" stroke=\"black\" d=\"M68.9039,-71.9961C61.6379,-62.8067 53.862,-52.9725 47.0058,-44.3014\"/>\r\n",
       "<polygon fill=\"black\" stroke=\"black\" points=\"49.7087,-42.0767 40.7608,-36.4034 44.2177,-46.4184 49.7087,-42.0767\"/>\r\n",
       "</g>\r\n",
       "<!-- 444 -->\r\n",
       "<g id=\"node5\" class=\"node\"><title>444</title>\r\n",
       "<polygon fill=\"none\" stroke=\"black\" points=\"126,-36 72,-36 72,-0 126,-0 126,-36\"/>\r\n",
       "<text text-anchor=\"middle\" x=\"99\" y=\"-14.3\" font-family=\"Times New Roman,serif\" font-size=\"14.00\">(...)</text>\r\n",
       "</g>\r\n",
       "<!-- 2&#45;&gt;444 -->\r\n",
       "<g id=\"edge4\" class=\"edge\"><title>2&#45;&gt;444</title>\r\n",
       "<path fill=\"none\" stroke=\"black\" d=\"M96.5351,-71.9961C96.9272,-63.5646 97.3446,-54.5902 97.7223,-46.4696\"/>\r\n",
       "<polygon fill=\"black\" stroke=\"black\" points=\"101.222,-46.5552 98.1905,-36.4034 94.2296,-46.2299 101.222,-46.5552\"/>\r\n",
       "</g>\r\n",
       "<!-- 450 -->\r\n",
       "<g id=\"node7\" class=\"node\"><title>450</title>\r\n",
       "<polygon fill=\"none\" stroke=\"black\" points=\"227,-36 173,-36 173,-0 227,-0 227,-36\"/>\r\n",
       "<text text-anchor=\"middle\" x=\"200\" y=\"-14.3\" font-family=\"Times New Roman,serif\" font-size=\"14.00\">(...)</text>\r\n",
       "</g>\r\n",
       "<!-- 449&#45;&gt;450 -->\r\n",
       "<g id=\"edge6\" class=\"edge\"><title>449&#45;&gt;450</title>\r\n",
       "<path fill=\"none\" stroke=\"black\" d=\"M224.649,-71.9961C220.596,-63.2804 216.272,-53.9846 212.396,-45.6514\"/>\r\n",
       "<polygon fill=\"black\" stroke=\"black\" points=\"215.485,-43.9945 208.095,-36.4034 209.138,-46.9467 215.485,-43.9945\"/>\r\n",
       "</g>\r\n",
       "<!-- 455 -->\r\n",
       "<g id=\"node8\" class=\"node\"><title>455</title>\r\n",
       "<polygon fill=\"none\" stroke=\"black\" points=\"299,-36 245,-36 245,-0 299,-0 299,-36\"/>\r\n",
       "<text text-anchor=\"middle\" x=\"272\" y=\"-14.3\" font-family=\"Times New Roman,serif\" font-size=\"14.00\">(...)</text>\r\n",
       "</g>\r\n",
       "<!-- 449&#45;&gt;455 -->\r\n",
       "<g id=\"edge7\" class=\"edge\"><title>449&#45;&gt;455</title>\r\n",
       "<path fill=\"none\" stroke=\"black\" d=\"M252.281,-71.9961C255.488,-63.3751 258.907,-54.1866 261.982,-45.9234\"/>\r\n",
       "<polygon fill=\"black\" stroke=\"black\" points=\"265.317,-46.9962 265.524,-36.4034 258.757,-44.555 265.317,-46.9962\"/>\r\n",
       "</g>\r\n",
       "<!-- 457 -->\r\n",
       "<g id=\"node10\" class=\"node\"><title>457</title>\r\n",
       "<polygon fill=\"none\" stroke=\"black\" points=\"444,-140 326,-140 326,-72 444,-72 444,-140\"/>\r\n",
       "<text text-anchor=\"middle\" x=\"385\" y=\"-124.8\" font-family=\"Times New Roman,serif\" font-size=\"14.00\">le &lt;= 0.5</text>\r\n",
       "<text text-anchor=\"middle\" x=\"385\" y=\"-109.8\" font-family=\"Times New Roman,serif\" font-size=\"14.00\">entropy = 0.657</text>\r\n",
       "<text text-anchor=\"middle\" x=\"385\" y=\"-94.8\" font-family=\"Times New Roman,serif\" font-size=\"14.00\">samples = 649</text>\r\n",
       "<text text-anchor=\"middle\" x=\"385\" y=\"-79.8\" font-family=\"Times New Roman,serif\" font-size=\"14.00\">value = [539, 110]</text>\r\n",
       "</g>\r\n",
       "<!-- 456&#45;&gt;457 -->\r\n",
       "<g id=\"edge9\" class=\"edge\"><title>456&#45;&gt;457</title>\r\n",
       "<path fill=\"none\" stroke=\"black\" d=\"M385,-175.884C385,-167.778 385,-158.982 385,-150.472\"/>\r\n",
       "<polygon fill=\"black\" stroke=\"black\" points=\"388.5,-150.299 385,-140.299 381.5,-150.299 388.5,-150.299\"/>\r\n",
       "</g>\r\n",
       "<!-- 626 -->\r\n",
       "<g id=\"node13\" class=\"node\"><title>626</title>\r\n",
       "<polygon fill=\"none\" stroke=\"black\" points=\"566,-140 462,-140 462,-72 566,-72 566,-140\"/>\r\n",
       "<text text-anchor=\"middle\" x=\"514\" y=\"-124.8\" font-family=\"Times New Roman,serif\" font-size=\"14.00\">trump &lt;= 0.5</text>\r\n",
       "<text text-anchor=\"middle\" x=\"514\" y=\"-109.8\" font-family=\"Times New Roman,serif\" font-size=\"14.00\">entropy = 1.0</text>\r\n",
       "<text text-anchor=\"middle\" x=\"514\" y=\"-94.8\" font-family=\"Times New Roman,serif\" font-size=\"14.00\">samples = 94</text>\r\n",
       "<text text-anchor=\"middle\" x=\"514\" y=\"-79.8\" font-family=\"Times New Roman,serif\" font-size=\"14.00\">value = [48, 46]</text>\r\n",
       "</g>\r\n",
       "<!-- 456&#45;&gt;626 -->\r\n",
       "<g id=\"edge12\" class=\"edge\"><title>456&#45;&gt;626</title>\r\n",
       "<path fill=\"none\" stroke=\"black\" d=\"M426.883,-175.884C438.711,-166.531 451.701,-156.259 463.958,-146.568\"/>\r\n",
       "<polygon fill=\"black\" stroke=\"black\" points=\"466.213,-149.247 471.886,-140.299 461.871,-143.756 466.213,-149.247\"/>\r\n",
       "</g>\r\n",
       "<!-- 458 -->\r\n",
       "<g id=\"node11\" class=\"node\"><title>458</title>\r\n",
       "<polygon fill=\"none\" stroke=\"black\" points=\"386,-36 332,-36 332,-0 386,-0 386,-36\"/>\r\n",
       "<text text-anchor=\"middle\" x=\"359\" y=\"-14.3\" font-family=\"Times New Roman,serif\" font-size=\"14.00\">(...)</text>\r\n",
       "</g>\r\n",
       "<!-- 457&#45;&gt;458 -->\r\n",
       "<g id=\"edge10\" class=\"edge\"><title>457&#45;&gt;458</title>\r\n",
       "<path fill=\"none\" stroke=\"black\" d=\"M375.022,-71.9961C372.444,-63.4699 369.699,-54.3885 367.222,-46.1962\"/>\r\n",
       "<polygon fill=\"black\" stroke=\"black\" points=\"370.506,-44.9626 364.261,-36.4034 363.805,-46.9884 370.506,-44.9626\"/>\r\n",
       "</g>\r\n",
       "<!-- 625 -->\r\n",
       "<g id=\"node12\" class=\"node\"><title>625</title>\r\n",
       "<polygon fill=\"none\" stroke=\"black\" points=\"458,-36 404,-36 404,-0 458,-0 458,-36\"/>\r\n",
       "<text text-anchor=\"middle\" x=\"431\" y=\"-14.3\" font-family=\"Times New Roman,serif\" font-size=\"14.00\">(...)</text>\r\n",
       "</g>\r\n",
       "<!-- 457&#45;&gt;625 -->\r\n",
       "<g id=\"edge11\" class=\"edge\"><title>457&#45;&gt;625</title>\r\n",
       "<path fill=\"none\" stroke=\"black\" d=\"M402.653,-71.9961C407.366,-63.1856 412.395,-53.7825 416.89,-45.38\"/>\r\n",
       "<polygon fill=\"black\" stroke=\"black\" points=\"420.061,-46.872 421.691,-36.4034 413.888,-43.5704 420.061,-46.872\"/>\r\n",
       "</g>\r\n",
       "<!-- 627 -->\r\n",
       "<g id=\"node14\" class=\"node\"><title>627</title>\r\n",
       "<polygon fill=\"none\" stroke=\"black\" points=\"537,-36 483,-36 483,-0 537,-0 537,-36\"/>\r\n",
       "<text text-anchor=\"middle\" x=\"510\" y=\"-14.3\" font-family=\"Times New Roman,serif\" font-size=\"14.00\">(...)</text>\r\n",
       "</g>\r\n",
       "<!-- 626&#45;&gt;627 -->\r\n",
       "<g id=\"edge13\" class=\"edge\"><title>626&#45;&gt;627</title>\r\n",
       "<path fill=\"none\" stroke=\"black\" d=\"M512.465,-71.9961C512.073,-63.5646 511.655,-54.5902 511.278,-46.4696\"/>\r\n",
       "<polygon fill=\"black\" stroke=\"black\" points=\"514.77,-46.2299 510.809,-36.4034 507.778,-46.5552 514.77,-46.2299\"/>\r\n",
       "</g>\r\n",
       "<!-- 628 -->\r\n",
       "<g id=\"node15\" class=\"node\"><title>628</title>\r\n",
       "<polygon fill=\"none\" stroke=\"black\" points=\"609,-36 555,-36 555,-0 609,-0 609,-36\"/>\r\n",
       "<text text-anchor=\"middle\" x=\"582\" y=\"-14.3\" font-family=\"Times New Roman,serif\" font-size=\"14.00\">(...)</text>\r\n",
       "</g>\r\n",
       "<!-- 626&#45;&gt;628 -->\r\n",
       "<g id=\"edge14\" class=\"edge\"><title>626&#45;&gt;628</title>\r\n",
       "<path fill=\"none\" stroke=\"black\" d=\"M540.096,-71.9961C547.362,-62.8067 555.138,-52.9725 561.994,-44.3014\"/>\r\n",
       "<polygon fill=\"black\" stroke=\"black\" points=\"564.782,-46.4184 568.239,-36.4034 559.291,-42.0767 564.782,-46.4184\"/>\r\n",
       "</g>\r\n",
       "</g>\r\n",
       "</svg>\r\n"
      ],
      "text/plain": [
       "<graphviz.files.Source at 0xf1695f8>"
      ]
     },
     "execution_count": 49,
     "metadata": {},
     "output_type": "execute_result"
    }
   ],
   "source": [
    "clf, perfTrain_part7, perfVali_part7, perfTest_part7 = part7a(50)\n",
    "dot_data = tree.export_graphviz(clf, max_depth=2, out_file=None, feature_names = wordList)\n",
    "graph = graphviz.Source(dot_data)\n",
    "graph"
   ]
  },
  {
   "cell_type": "markdown",
   "metadata": {},
   "source": [
    "### Part 7c"
   ]
  },
  {
   "cell_type": "markdown",
   "metadata": {},
   "source": [
    "to be conpleted ...."
   ]
  },
  {
   "cell_type": "markdown",
   "metadata": {},
   "source": [
    "# Part 8"
   ]
  },
  {
   "cell_type": "markdown",
   "metadata": {},
   "source": [
    "### Part 8a"
   ]
  },
  {
   "cell_type": "markdown",
   "metadata": {},
   "source": [
    "to be conpleted ...."
   ]
  },
  {
   "cell_type": "markdown",
   "metadata": {},
   "source": [
    "### Part 8b"
   ]
  },
  {
   "cell_type": "markdown",
   "metadata": {},
   "source": [
    "to be conpleted ...."
   ]
  }
 ],
 "metadata": {
  "kernelspec": {
   "display_name": "Python 2",
   "language": "python",
   "name": "python2"
  },
  "language_info": {
   "codemirror_mode": {
    "name": "ipython",
    "version": 2
   },
   "file_extension": ".py",
   "mimetype": "text/x-python",
   "name": "python",
   "nbconvert_exporter": "python",
   "pygments_lexer": "ipython2",
   "version": "2.7.14"
  }
 },
 "nbformat": 4,
 "nbformat_minor": 2
}
