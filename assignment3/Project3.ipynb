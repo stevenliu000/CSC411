{
 "cells": [
  {
   "cell_type": "markdown",
   "metadata": {},
   "source": [
    "# Import Libraries"
   ]
  },
  {
   "cell_type": "code",
   "execution_count": 49,
   "metadata": {
    "collapsed": true
   },
   "outputs": [],
   "source": [
    "from pylab import *\n",
    "import numpy as np\n",
    "import matplotlib.pyplot as plt\n",
    "import matplotlib.cbook as cbook\n",
    "import time\n",
    "from scipy.misc import imread\n",
    "from scipy.misc import imresize\n",
    "import matplotlib.image as mpimg\n",
    "from scipy.ndimage import filters\n",
    "import urllib\n",
    "from numpy import random\n",
    "import copy\n",
    "import math\n",
    "from __future__ import division\n",
    "\n",
    "import cPickle\n",
    "\n",
    "import os\n",
    "from scipy.io import loadmat"
   ]
  },
  {
   "cell_type": "code",
   "execution_count": 2,
   "metadata": {
    "collapsed": true
   },
   "outputs": [],
   "source": [
    "#plt.show() in jupyter notebook\n",
    "%matplotlib inline"
   ]
  },
  {
   "cell_type": "markdown",
   "metadata": {},
   "source": [
    "# Part 1"
   ]
  },
  {
   "cell_type": "markdown",
   "metadata": {},
   "source": [
    "#### Analysis Data"
   ]
  },
  {
   "cell_type": "code",
   "execution_count": 51,
   "metadata": {
    "collapsed": true
   },
   "outputs": [],
   "source": [
    "def Counts(d):\n",
    "    '''\n",
    "    input: a list of lists of strings that represents one new title\n",
    "    output: a dictionary that contains every word appeared and its count. To be precise, key is word and value is count.\n",
    "    '''\n",
    "    wordsCounts = {}\n",
    "    for i in d:\n",
    "        temp = []\n",
    "        for j in i:\n",
    "            if j in temp:\n",
    "                continue\n",
    "            else:\n",
    "                temp.append(j)\n",
    "                if j not in wordsCounts:\n",
    "                    wordsCounts[j] = 1.0\n",
    "                else:\n",
    "                    wordsCounts[j] += 1.0\n",
    "\n",
    "    return wordsCounts"
   ]
  },
  {
   "cell_type": "code",
   "execution_count": 52,
   "metadata": {
    "scrolled": true
   },
   "outputs": [
    {
     "name": "stdout",
     "output_type": "stream",
     "text": [
      "the 1-th most prevealing word in fake news is trump :1282\n",
      "the 2-th most prevealing word in fake news is to :366\n",
      "the 3-th most prevealing word in fake news is the :363\n",
      "the 4-th most prevealing word in fake news is donald :228\n",
      "the 5-th most prevealing word in fake news is in :218\n",
      "the 6-th most prevealing word in fake news is of :197\n",
      "the 7-th most prevealing word in fake news is for :196\n",
      "the 8-th most prevealing word in fake news is a :172\n",
      "the 9-th most prevealing word in fake news is and :166\n",
      "the 10-th most prevealing word in fake news is on :160\n",
      "\n",
      "\n",
      "the 1-th most prevealing word in real news is trump :1739\n",
      "the 2-th most prevealing word in real news is donald :828\n",
      "the 3-th most prevealing word in real news is to :380\n",
      "the 4-th most prevealing word in real news is us :230\n",
      "the 5-th most prevealing word in real news is trumps :219\n",
      "the 6-th most prevealing word in real news is in :213\n",
      "the 7-th most prevealing word in real news is on :204\n",
      "the 8-th most prevealing word in real news is of :181\n",
      "the 9-th most prevealing word in real news is says :178\n",
      "the 10-th most prevealing word in real news is for :171\n"
     ]
    },
    {
     "data": {
      "image/png": "[encoded data removed]",
      "text/plain": [
       "<matplotlib.figure.Figure at 0x7f4d88143d10>"
      ]
     },
     "metadata": {},
     "output_type": "display_data"
    }
   ],
   "source": [
    "#import fakeData and realData from text files\n",
    "fakeData = [line.rstrip('\\n').split(' ') for line in open('clean_fake.txt')]\n",
    "realData = [line.rstrip('\\n').split(' ') for line in open('clean_real.txt')]\n",
    "\n",
    "#count words in realData and fakeData\n",
    "fakeWordsCounts = Counts(fakeData)\n",
    "realWordsCounts = Counts(realData)\n",
    "            \n",
    "#sort words according to how often they appear\n",
    "fakeWordsInOrder = sorted(fakeWordsCounts, key = fakeWordsCounts.__getitem__, reverse=True)\n",
    "realWordsInOrder = sorted(realWordsCounts, key = realWordsCounts.__getitem__, reverse=True)\n",
    "\n",
    "#plot\n",
    "fig = plt.figure(11)\n",
    "plt.plot(range(20), [fakeWordsCounts[fakeWordsInOrder[i]] for i in range(20)], label = \"fake\")\n",
    "plt.plot(range(20), [realWordsCounts[realWordsInOrder[i]] for i in range(20)], label = \"real\")\n",
    "plt.ylabel(\"number of appearance\")\n",
    "plt.xlabel(\"the i-th most prevailing word\")\n",
    "plt.legend(loc = \"best\")\n",
    "\n",
    "#print the most prevailing words:\n",
    "for i in range(10):\n",
    "    print \"the %i-th most prevealing word in fake news is %s :%i\"%(i+1,fakeWordsInOrder[i],fakeWordsCounts[fakeWordsInOrder[i]])\n",
    "print('\\n')\n",
    "for i in range(10):\n",
    "    print \"the %i-th most prevealing word in real news is %s :%i\"%(i+1,realWordsInOrder[i],realWordsCounts[realWordsInOrder[i]])"
   ]
  },
  {
   "cell_type": "markdown",
   "metadata": {},
   "source": [
    "#### Spliting data\n"
   ]
  },
  {
   "cell_type": "code",
   "execution_count": 100,
   "metadata": {
    "collapsed": true
   },
   "outputs": [],
   "source": [
    "random.seed(0)\n",
    "fakeDataCopy = copy.deepcopy(fakeData)\n",
    "realDataCopy = copy.deepcopy(realData)\n",
    "random.shuffle(fakeDataCopy)\n",
    "random.shuffle(realDataCopy)\n",
    "\n",
    "fakeTrain = fakeDataCopy[:int(len(fakeDataCopy)*0.7)]\n",
    "fakeVali = fakeDataCopy[int(len(fakeDataCopy)*0.7):int(len(fakeDataCopy)*0.85)]\n",
    "fakeTest = fakeDataCopy[int(len(fakeDataCopy)*0.85):]\n",
    "\n",
    "realTrain = realDataCopy[:int(len(realDataCopy)*0.7)]\n",
    "realVali = realDataCopy[int(len(realDataCopy)*0.7):int(len(realDataCopy)*0.85)]\n",
    "realTest = realDataCopy[int(len(realDataCopy)*0.85):]"
   ]
  },
  {
   "cell_type": "markdown",
   "metadata": {},
   "source": [
    "# Part 2"
   ]
  },
  {
   "cell_type": "markdown",
   "metadata": {},
   "source": [
    "#### Contruct Data and define helper functions"
   ]
  },
  {
   "cell_type": "code",
   "execution_count": 104,
   "metadata": {
    "collapsed": true
   },
   "outputs": [],
   "source": [
    "#construct wordList that contains all the words appeared in training sets\n",
    "wordList = []\n",
    "for i in fakeTrain:\n",
    "    wordList.extend(i)\n",
    "for i in realTrain:\n",
    "    wordList.extend(i)\n",
    "wordList = sorted(set(wordList), key=wordList.index)\n",
    "\n",
    "#Getting parameter:\n",
    "fakeWordsCountsTrain = Counts(fakeTrain)\n",
    "realWordsCountsTrain = Counts(realTrain)"
   ]
  },
  {
   "cell_type": "code",
   "execution_count": 163,
   "metadata": {
    "collapsed": true
   },
   "outputs": [],
   "source": [
    "def Performance(wordsProb, p_fake, fakeData, realData):\n",
    "    '''\n",
    "    input:\n",
    "        wordsProb: a dictionary whose key is the word xi and value is a list: the first element in sublist is P(xi=1|fake), the second element is sublist is P(xi=1|real).\n",
    "        fakeData: a list of lists of words, each sublist is a single new. \n",
    "        realData: a list of lists of words, each sublist is a single new. \n",
    "        p_fake: P(fake)\n",
    "    output:\n",
    "        percentage performance on fakeData and real Data\n",
    "    '''\n",
    "    correct = 0.0\n",
    "    for i in fakeData:\n",
    "        fakeProb = 0.0\n",
    "        realProb = 0.0\n",
    "        for j in wordsProb:\n",
    "            if j in i:\n",
    "                fakeProb += math.log(wordsProb[j][0])\n",
    "                realProb += math.log(wordsProb[j][1])\n",
    "            else:\n",
    "                fakeProb += math.log(1-wordsProb[j][0])\n",
    "                realProb += math.log(1-wordsProb[j][1])\n",
    "        fakeProb += math.log(p_fake)\n",
    "        realProb += math.log(1-p_fake)\n",
    "        \n",
    "        if fakeProb >= realProb:\n",
    "            correct += 1\n",
    "\n",
    "    for i in realData:\n",
    "        fakeProb = 0.0\n",
    "        realProb = 0.0\n",
    "        for j in wordsProb:\n",
    "            if j in i:\n",
    "                fakeProb += math.log(wordsProb[j][0])\n",
    "                realProb += math.log(wordsProb[j][1])\n",
    "            else:\n",
    "                fakeProb += math.log(1-wordsProb[j][0])\n",
    "                realProb += math.log(1-wordsProb[j][1])\n",
    "        fakeProb += math.log(p_fake)\n",
    "        realProb += math.log(1-p_fake)\n",
    "\n",
    "        if fakeProb <= realProb:\n",
    "            correct += 1        \n",
    "\n",
    "    perf = float(correct)/float(len(fakeData)+len(realData))\n",
    "    return perf"
   ]
  },
  {
   "cell_type": "code",
   "execution_count": 170,
   "metadata": {},
   "outputs": [],
   "source": [
    "def NaiveBayes(m, pHat, ifprint = True, ifreturnProb = False):\n",
    "    '''\n",
    "    Given m and pHat, return the performance on Training set, Validation set and Test set.\n",
    "    '''\n",
    "    if ifprint:\n",
    "        print \"running NaiveBayes with m = %05.5f, pHat = %05.5f\"%(m, pHat)\n",
    "\n",
    "    wordsProb={} #a dictionary whose key is the word xi and value is a list: the first element in sublist is P(xi=1|fake), the second element is sublist is P(xi=1|real).\n",
    "    for i in wordList:\n",
    "        if i in fakeWordsCountsTrain:\n",
    "            p_x_fake = float(fakeWordsCountsTrain[i] + m*pHat)/float(len(fakeTrain) + m)\n",
    "        else:\n",
    "            p_x_fake = float(m*pHat)/float(len(fakeTrain) + m)\n",
    "        if i in realWordsCountsTrain:\n",
    "            p_x_real = float(realWordsCountsTrain[i] + m*pHat)/float(len(realTrain) + m)\n",
    "        else:\n",
    "            p_x_real = float(m*pHat)/float(len(realTrain) + m)\n",
    "        wordsProb[i] = [p_x_fake,p_x_real]\n",
    "\n",
    "    p_fake = float(len(fakeTrain))/float(len(realTrain) + len(fakeTrain)) #P(fake)\n",
    "    \n",
    "    perfTrain = Performance(wordsProb, p_fake, fakeTrain, realTrain)\n",
    "    perfVali = Performance(wordsProb, p_fake, fakeVali, realVali)\n",
    "    perfTest = Performance(wordsProb, p_fake, fakeTest, realTest)\n",
    "    \n",
    "    if ifreturnProb:\n",
    "        return perfTrain, perfVali, perfTest, wordsProb, p_fake\n",
    "    else:\n",
    "        return perfTrain, perfVali, perfTest"
   ]
  },
  {
   "cell_type": "markdown",
   "metadata": {},
   "source": [
    "#### Tune m and pHat using validation sets"
   ]
  },
  {
   "cell_type": "code",
   "execution_count": 155,
   "metadata": {
    "scrolled": true
   },
   "outputs": [
    {
     "name": "stdout",
     "output_type": "stream",
     "text": [
      "When m = 3.1623, pHat = 0.10000, the performance on validation set is highest:0.88571\n"
     ]
    },
    {
     "data": {
      "image/png": "[encoded data removed]",
      "text/plain": [
       "<matplotlib.figure.Figure at 0x7f4d88143990>"
      ]
     },
     "metadata": {},
     "output_type": "display_data"
    }
   ],
   "source": [
    "perfValiArray = []\n",
    "m_ = [10**exp for exp in np.arange(0,2.5,0.5, dtype=float)]\n",
    "pHat_ = [10**exp for exp in np.arange(-5,0, dtype=float)]\n",
    "bestPerf = -10000000\n",
    "for m in m_:\n",
    "    temp = []\n",
    "    for pHat in pHat_:\n",
    "        temp0, temp1, temp2 = NaiveBayes(int(m),pHat,ifprint = False)\n",
    "        temp.append(temp1)\n",
    "        if temp1 > bestPerf:\n",
    "            bestM = m\n",
    "            bestPHat = pHat\n",
    "            bestPerf = temp1\n",
    "    perfValiArray.append(temp)\n",
    "    \n",
    "M_,PHat_ = np.meshgrid(m_,pHat_)\n",
    "ax1 = subplot(111) \n",
    "CS = ax1.contour(M_,PHat_,perfValiArray)\n",
    "plt.clabel(CS, inline=1, fontsize=10)\n",
    "plt.ylabel(\"pHat\")\n",
    "plt.xlabel(\"m\")\n",
    "plt.title(\"performance on Validation Set\")\n",
    "\n",
    "print \"When m = %04.4f, pHat = %05.5f, the performance on validation set is highest:%05.5f\"%(bestM, bestPHat,bestPerf)"
   ]
  },
  {
   "cell_type": "markdown",
   "metadata": {},
   "source": [
    "#### Performance on chosen m and pHat"
   ]
  },
  {
   "cell_type": "code",
   "execution_count": 167,
   "metadata": {},
   "outputs": [
    {
     "name": "stdout",
     "output_type": "stream",
     "text": [
      "Performance on Training Set is 0.96193\n",
      "Performance on Validation Set is 0.88776\n",
      "Performance on Test Set is 0.84725\n"
     ]
    }
   ],
   "source": [
    "perfTrain, perfVali, perfTest = NaiveBayes(3.1623, 0.10000, ifprint = False)\n",
    "print \"Performance on Training Set is %05.5f\"%perfTrain\n",
    "print \"Performance on Validation Set is %05.5f\"%perfVali\n",
    "print \"Performance on Test Set is %05.5f\"%perfTest"
   ]
  },
  {
   "cell_type": "markdown",
   "metadata": {},
   "source": [
    "# Part 3"
   ]
  },
  {
   "cell_type": "markdown",
   "metadata": {},
   "source": [
    "### Part 3a"
   ]
  },
  {
   "cell_type": "code",
   "execution_count": 188,
   "metadata": {
    "scrolled": true
   },
   "outputs": [
    {
     "name": "stdout",
     "output_type": "stream",
     "text": [
      "the 1-th strongly predicts real news with its presence is trump\n",
      "the 2-th strongly predicts real news with its presence is donald\n",
      "the 3-th strongly predicts real news with its presence is to\n",
      "the 4-th strongly predicts real news with its presence is us\n",
      "the 5-th strongly predicts real news with its presence is in\n",
      "the 6-th strongly predicts real news with its presence is trumps\n",
      "the 7-th strongly predicts real news with its presence is on\n",
      "the 8-th strongly predicts real news with its presence is of\n",
      "the 9-th strongly predicts real news with its presence is says\n",
      "the 10-th strongly predicts real news with its presence is the\n",
      "\n",
      "\n",
      "the 1-th strongly predicts real news with its absence is 8th\n",
      "the 2-th strongly predicts real news with its absence is yell\n",
      "the 3-th strongly predicts real news with its absence is uneducated\n",
      "the 4-th strongly predicts real news with its absence is rounding\n",
      "the 5-th strongly predicts real news with its absence is casual\n",
      "the 6-th strongly predicts real news with its absence is christians\n",
      "the 7-th strongly predicts real news with its absence is friends\n",
      "the 8-th strongly predicts real news with its absence is badass\n",
      "the 9-th strongly predicts real news with its absence is ebenfalls\n",
      "the 10-th strongly predicts real news with its absence is shredded\n",
      "\n",
      "\n",
      "the 1-th strongly predicts fake news with its presence is trump\n",
      "the 2-th strongly predicts fake news with its presence is the\n",
      "the 3-th strongly predicts fake news with its presence is to\n",
      "the 4-th strongly predicts fake news with its presence is donald\n",
      "the 5-th strongly predicts fake news with its presence is in\n",
      "the 6-th strongly predicts fake news with its presence is for\n",
      "the 7-th strongly predicts fake news with its presence is of\n",
      "the 8-th strongly predicts fake news with its presence is a\n",
      "the 9-th strongly predicts fake news with its presence is and\n",
      "the 10-th strongly predicts fake news with its presence is is\n",
      "\n",
      "\n",
      "the 1-th strongly predicts fake news with its absence is expands\n",
      "the 2-th strongly predicts fake news with its absence is miltary\n",
      "the 3-th strongly predicts fake news with its absence is richardson\n",
      "the 4-th strongly predicts fake news with its absence is compete\n",
      "the 5-th strongly predicts fake news with its absence is jab\n",
      "the 6-th strongly predicts fake news with its absence is khanfar\n",
      "the 7-th strongly predicts fake news with its absence is entertainment\n",
      "the 8-th strongly predicts fake news with its absence is resolution\n",
      "the 9-th strongly predicts fake news with its absence is ipswich\n",
      "the 10-th strongly predicts fake news with its absence is imposes\n"
     ]
    }
   ],
   "source": [
    "perfTrain, perfVali, perfTest, wordsProb, p_fake = NaiveBayes(3.1623, 0.10000, ifprint = False, ifreturnProb = True)\n",
    "fakeWordsInProb = {}\n",
    "realWordsInProb = {}\n",
    "for i in wordsProb:\n",
    "    fakeWordsInProb[i] = wordsProb[i][0]\n",
    "    realWordsInProb[i] = wordsProb[i][1]\n",
    "fakeWordsInProb = sorted(fakeWordsInProb, key = fakeWordsInProb.__getitem__, reverse=True)\n",
    "realWordsInProb = sorted(realWordsInProb, key = realWordsInProb.__getitem__, reverse=True)\n",
    "for i in range(0,10):\n",
    "    print \"the %i-th strongly predicts real news with its presence is %s\"%(i+1, realWordsInProb[i])\n",
    "print \"\\n\"\n",
    "for i in np.arange(-1,-11,-1):\n",
    "    print \"the %i-th strongly predicts real news with its absence is %s\"%(-i, realWordsInProb[i])\n",
    "print \"\\n\"\n",
    "for i in range(0,10):\n",
    "    print \"the %i-th strongly predicts fake news with its presence is %s\"%(i+1, fakeWordsInProb[i])\n",
    "print \"\\n\"\n",
    "for i in np.arange(-1,-11,-1):\n",
    "    print \"the %i-th strongly predicts fake news with its absence is %s\"%(-i, fakeWordsInProb[i])"
   ]
  },
  {
   "cell_type": "markdown",
   "metadata": {},
   "source": [
    "### Part 3b"
   ]
  },
  {
   "cell_type": "code",
   "execution_count": 192,
   "metadata": {
    "scrolled": true
   },
   "outputs": [
    {
     "name": "stdout",
     "output_type": "stream",
     "text": [
      "the 1-th strongly predicts real news with its presence is trump\n",
      "the 2-th strongly predicts real news with its presence is donald\n",
      "the 3-th strongly predicts real news with its presence is trumps\n",
      "the 4-th strongly predicts real news with its presence is says\n",
      "the 5-th strongly predicts real news with its presence is clinton\n",
      "the 6-th strongly predicts real news with its presence is election\n",
      "the 7-th strongly predicts real news with its presence is ban\n",
      "the 8-th strongly predicts real news with its presence is north\n",
      "the 9-th strongly predicts real news with its presence is russia\n",
      "the 10-th strongly predicts real news with its presence is korea\n",
      "\n",
      "\n",
      "the 1-th strongly predicts real news with its absence is 8th\n",
      "the 2-th strongly predicts real news with its absence is yell\n",
      "the 3-th strongly predicts real news with its absence is uneducated\n",
      "the 4-th strongly predicts real news with its absence is rounding\n",
      "the 5-th strongly predicts real news with its absence is casual\n",
      "the 6-th strongly predicts real news with its absence is christians\n",
      "the 7-th strongly predicts real news with its absence is friends\n",
      "the 8-th strongly predicts real news with its absence is badass\n",
      "the 9-th strongly predicts real news with its absence is ebenfalls\n",
      "the 10-th strongly predicts real news with its absence is shredded\n",
      "\n",
      "\n",
      "the 1-th strongly predicts fake news with its presence is trump\n",
      "the 2-th strongly predicts fake news with its presence is donald\n",
      "the 3-th strongly predicts fake news with its presence is hillary\n",
      "the 4-th strongly predicts fake news with its presence is clinton\n",
      "the 5-th strongly predicts fake news with its presence is election\n",
      "the 6-th strongly predicts fake news with its presence is just\n",
      "the 7-th strongly predicts fake news with its presence is president\n",
      "the 8-th strongly predicts fake news with its presence is obama\n",
      "the 9-th strongly predicts fake news with its presence is new\n",
      "the 10-th strongly predicts fake news with its presence is america\n",
      "\n",
      "\n",
      "the 1-th strongly predicts fake news with its absence is expands\n",
      "the 2-th strongly predicts fake news with its absence is miltary\n",
      "the 3-th strongly predicts fake news with its absence is richardson\n",
      "the 4-th strongly predicts fake news with its absence is compete\n",
      "the 5-th strongly predicts fake news with its absence is jab\n",
      "the 6-th strongly predicts fake news with its absence is khanfar\n",
      "the 7-th strongly predicts fake news with its absence is entertainment\n",
      "the 8-th strongly predicts fake news with its absence is resolution\n",
      "the 9-th strongly predicts fake news with its absence is ipswich\n",
      "the 10-th strongly predicts fake news with its absence is imposes\n",
      "\n",
      "\n"
     ]
    }
   ],
   "source": [
    "from sklearn.feature_extraction.text import ENGLISH_STOP_WORDS\n",
    "\n",
    "i = 0\n",
    "index = 0\n",
    "while i < 10:\n",
    "    if realWordsInProb[index] not in ENGLISH_STOP_WORDS:\n",
    "        print \"the %i-th strongly predicts real news with its presence is %s\"%(i+1, realWordsInProb[index])\n",
    "        i += 1\n",
    "    index += 1\n",
    "print \"\\n\"\n",
    "\n",
    "i = 0\n",
    "index = -1\n",
    "while i < 10:\n",
    "    if realWordsInProb[index] not in ENGLISH_STOP_WORDS:\n",
    "        print \"the %i-th strongly predicts real news with its absence is %s\"%(i+1, realWordsInProb[index])\n",
    "        i +=1\n",
    "    index -= 1\n",
    "print \"\\n\"\n",
    "        \n",
    "i = 0\n",
    "index = 0\n",
    "while i < 10:\n",
    "    if fakeWordsInProb[index] not in ENGLISH_STOP_WORDS:\n",
    "        print \"the %i-th strongly predicts fake news with its presence is %s\"%(i+1, fakeWordsInProb[index])\n",
    "        i += 1\n",
    "    index += 1\n",
    "print \"\\n\"\n",
    "\n",
    "i = 0\n",
    "index = -1\n",
    "while i < 10:\n",
    "    if fakeWordsInProb[index] not in ENGLISH_STOP_WORDS:\n",
    "        print \"the %i-th strongly predicts fake news with its absence is %s\"%(i+1, fakeWordsInProb[index])\n",
    "        i +=1\n",
    "    index -= 1\n",
    "print \"\\n\""
   ]
  },
  {
   "cell_type": "markdown",
   "metadata": {},
   "source": [
    "### Part 3c"
   ]
  },
  {
   "cell_type": "markdown",
   "metadata": {},
   "source": [
    "Bond ganbaru!!!!"
   ]
  },
  {
   "cell_type": "markdown",
   "metadata": {},
   "source": [
    "# Part 4"
   ]
  },
  {
   "cell_type": "code",
   "execution_count": null,
   "metadata": {
    "collapsed": true
   },
   "outputs": [],
   "source": [
    "def sigmoid(x):\n",
    "    return 1/(1+np.exp(-x))\n",
    "\n",
    "def f(x, y, theta, lamb):\n",
    "\tx = vstack((ones((1, x.shape[1])), x))\n",
    "    output = sigmoid(np.dot(theta.T,x))\n",
    "\treturn (-sum(y*log(output)+(1-y)*log(1-output))+ lamb*np.dot(theta.T,theta))/(2*y.shape[0])\n",
    "\n",
    "\n",
    "def df(x, y, theta, lamb):\n",
    "\tx = vstack((ones((1, x.shape[1])), x))\n",
    "    output = sigmoid(np.dot(theta.T,x))\n",
    "\treturn (+lamb*theta)/(2*y.shape[0])\n",
    "\n",
    "\n",
    "def performance(X, Y, theta):\n",
    "\tX = vstack((np.ones((1, X.shape[1])), X))\n",
    "\th = dot(theta.T, X)\n",
    "\tcor = 0\n",
    "\tfor i in range(len(Y)):\n",
    "\t\tif Y[i] == 1 and h[i] > 0:\n",
    "\t\t\tcor += 1\n",
    "\t\telif Y[i] == -1 and h[i] < 0:\n",
    "\t\t\tcor += 1\n",
    "\treturn float(cor) / len(Y)\n",
    "\n",
    "\n",
    "def grad_descent(f, df, x, y, init_t, alpha, EPS=1e-5, max_iter=80000):\n",
    "\tprev_t = init_t - 10 * EPS\n",
    "\tt = init_t.copy()\n",
    "\titer = 0\n",
    "\tcost_func_ = []\n",
    "\twhile norm(t - prev_t) > EPS and iter < max_iter:\n",
    "\t\tcost_func_.append(f(x,y,t))\n",
    "\t\tprev_t = t.copy()\n",
    "\t\tt -= alpha * df(x, y, t)\n",
    "\t\tif iter % 500 == 0:\n",
    "\t\t\tprint \"Iter\", iter\n",
    "\t\t\tprint \"Cost\", f(x, y, t)\n",
    "\t\t\tprint \"Gradient: \", df(x, y, t), \"\\n\"\n",
    "\t\titer += 1\n",
    "\t\t\n",
    "\treturn t, cost_func_\n",
    "\n",
    "def part3(alpha= 0.000010, st_devi = 0, max_iteration = 80000):\n",
    "\tX_train = np.hstack((act_data['Alec Baldwin'][0], act_data['Steve Carell'][0]))\n",
    "\tY_train = np.append(np.ones(act_data['Alec Baldwin'][0].shape[1]),\n",
    "\t\t\t\t\t\tnp.full(act_data['Steve Carell'][0].shape[1], -1))\n",
    "\tX_vali = np.hstack((act_data['Alec Baldwin'][1], act_data['Steve Carell'][1]))\n",
    "\tY_vali = np.append(np.ones(10), np.full(10, -1))\n",
    "\tX_test = np.hstack((act_data['Alec Baldwin'][2], act_data['Steve Carell'][2]))\n",
    "\tY_test = np.append(np.ones(10), np.full(10, -1))\n",
    "\n",
    "\tnp.random.seed(0)\n",
    "\ttheta0 = np.random.normal(scale=st_devi, size=1025)\n",
    "\ttheta, cost_func_ = grad_descent(f, df, X_train, Y_train, theta0, alpha, max_iter = max_iteration)\n",
    "\n",
    "\tprint(\"This is the result for part3\")\n",
    "\tprint(\"Cost function on training set:\", f(X_train, Y_train, theta), \"Normalized:\", f(X_train, Y_train, theta)/(Y_train.shape[0]))\n",
    "\tprint(\"Cost function on validation set:\", f(X_vali, Y_vali, theta), \"Normalized:\", f(X_vali, Y_vali, theta)/(Y_vali.shape[0]))\n",
    "\tprint(\"Performance on training set\", performance(X_train, Y_train, theta))\n",
    "\tprint(\"Performance on validation set\", performance(X_vali, Y_vali, theta))\n",
    "\n",
    "\treturn theta"
   ]
  }
 ],
 "metadata": {
  "kernelspec": {
   "display_name": "Python 2",
   "language": "python",
   "name": "python2"
  },
  "language_info": {
   "codemirror_mode": {
    "name": "ipython",
    "version": 2
   },
   "file_extension": ".py",
   "mimetype": "text/x-python",
   "name": "python",
   "nbconvert_exporter": "python",
   "pygments_lexer": "ipython2",
   "version": "2.7.14"
  }
 },
 "nbformat": 4,
 "nbformat_minor": 2
}
