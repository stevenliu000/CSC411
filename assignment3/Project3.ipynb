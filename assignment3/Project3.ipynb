{
 "cells": [
  {
   "cell_type": "markdown",
   "metadata": {},
   "source": [
    "# Import Libraries"
   ]
  },
  {
   "cell_type": "code",
   "execution_count": 312,
   "metadata": {},
   "outputs": [],
   "source": [
    "from pylab import *\n",
    "import numpy as np\n",
    "import matplotlib.pyplot as plt\n",
    "import matplotlib.cbook as cbook\n",
    "import time\n",
    "from scipy.misc import imread\n",
    "from scipy.misc import imresize\n",
    "import matplotlib.image as mpimg\n",
    "from scipy.ndimage import filters\n",
    "import urllib\n",
    "from numpy import random\n",
    "import copy\n",
    "import math\n",
    "from __future__ import division\n",
    "from sklearn.feature_extraction.text import ENGLISH_STOP_WORDS\n",
    "from sklearn import tree\n",
    "import graphviz\n",
    "\n",
    "import cPickle\n",
    "\n",
    "import os\n",
    "from scipy.io import loadmat"
   ]
  },
  {
   "cell_type": "code",
   "execution_count": 2,
   "metadata": {
    "collapsed": true
   },
   "outputs": [],
   "source": [
    "#plt.show() in jupyter notebook\n",
    "%matplotlib inline"
   ]
  },
  {
   "cell_type": "markdown",
   "metadata": {},
   "source": [
    "# Part 1"
   ]
  },
  {
   "cell_type": "markdown",
   "metadata": {},
   "source": [
    "#### Analysis Data"
   ]
  },
  {
   "cell_type": "code",
   "execution_count": 51,
   "metadata": {
    "collapsed": true
   },
   "outputs": [],
   "source": [
    "def Counts(d):\n",
    "    '''\n",
    "    input: a list of lists of strings that represents one new title\n",
    "    output: a dictionary that contains every word appeared and its count. To be precise, key is word and value is count.\n",
    "    '''\n",
    "    wordsCounts = {}\n",
    "    for i in d:\n",
    "        temp = []\n",
    "        for j in i:\n",
    "            if j in temp:\n",
    "                continue\n",
    "            else:\n",
    "                temp.append(j)\n",
    "                if j not in wordsCounts:\n",
    "                    wordsCounts[j] = 1.0\n",
    "                else:\n",
    "                    wordsCounts[j] += 1.0\n",
    "\n",
    "    return wordsCounts"
   ]
  },
  {
   "cell_type": "code",
   "execution_count": 52,
   "metadata": {
    "scrolled": true
   },
   "outputs": [
    {
     "name": "stdout",
     "output_type": "stream",
     "text": [
      "the 1-th most prevealing word in fake news is trump :1282\n",
      "the 2-th most prevealing word in fake news is to :366\n",
      "the 3-th most prevealing word in fake news is the :363\n",
      "the 4-th most prevealing word in fake news is donald :228\n",
      "the 5-th most prevealing word in fake news is in :218\n",
      "the 6-th most prevealing word in fake news is of :197\n",
      "the 7-th most prevealing word in fake news is for :196\n",
      "the 8-th most prevealing word in fake news is a :172\n",
      "the 9-th most prevealing word in fake news is and :166\n",
      "the 10-th most prevealing word in fake news is on :160\n",
      "\n",
      "\n",
      "the 1-th most prevealing word in real news is trump :1739\n",
      "the 2-th most prevealing word in real news is donald :828\n",
      "the 3-th most prevealing word in real news is to :380\n",
      "the 4-th most prevealing word in real news is us :230\n",
      "the 5-th most prevealing word in real news is trumps :219\n",
      "the 6-th most prevealing word in real news is in :213\n",
      "the 7-th most prevealing word in real news is on :204\n",
      "the 8-th most prevealing word in real news is of :181\n",
      "the 9-th most prevealing word in real news is says :178\n",
      "the 10-th most prevealing word in real news is for :171\n"
     ]
    },
    {
     "data": {
      "image/png": "[encoded data removed]",
      "text/plain": [
       "<matplotlib.figure.Figure at 0x7f4d88143d10>"
      ]
     },
     "metadata": {},
     "output_type": "display_data"
    }
   ],
   "source": [
    "#import fakeData and realData from text files\n",
    "fakeData = [line.rstrip('\\n').split(' ') for line in open('clean_fake.txt')]\n",
    "realData = [line.rstrip('\\n').split(' ') for line in open('clean_real.txt')]\n",
    "\n",
    "#count words in realData and fakeData\n",
    "fakeWordsCounts = Counts(fakeData)\n",
    "realWordsCounts = Counts(realData)\n",
    "            \n",
    "#sort words according to how often they appear\n",
    "fakeWordsInOrder = sorted(fakeWordsCounts, key = fakeWordsCounts.__getitem__, reverse=True)\n",
    "realWordsInOrder = sorted(realWordsCounts, key = realWordsCounts.__getitem__, reverse=True)\n",
    "\n",
    "#plot\n",
    "fig = plt.figure(11)\n",
    "plt.plot(range(20), [fakeWordsCounts[fakeWordsInOrder[i]] for i in range(20)], label = \"fake\")\n",
    "plt.plot(range(20), [realWordsCounts[realWordsInOrder[i]] for i in range(20)], label = \"real\")\n",
    "plt.ylabel(\"number of appearance\")\n",
    "plt.xlabel(\"the i-th most prevailing word\")\n",
    "plt.legend(loc = \"best\")\n",
    "\n",
    "#print the most prevailing words:\n",
    "for i in range(10):\n",
    "    print \"the %i-th most prevealing word in fake news is %s :%i\"%(i+1,fakeWordsInOrder[i],fakeWordsCounts[fakeWordsInOrder[i]])\n",
    "print('\\n')\n",
    "for i in range(10):\n",
    "    print \"the %i-th most prevealing word in real news is %s :%i\"%(i+1,realWordsInOrder[i],realWordsCounts[realWordsInOrder[i]])"
   ]
  },
  {
   "cell_type": "markdown",
   "metadata": {},
   "source": [
    "#### Spliting data\n"
   ]
  },
  {
   "cell_type": "code",
   "execution_count": 100,
   "metadata": {
    "collapsed": true
   },
   "outputs": [],
   "source": [
    "random.seed(0)\n",
    "fakeDataCopy = copy.deepcopy(fakeData)\n",
    "realDataCopy = copy.deepcopy(realData)\n",
    "random.shuffle(fakeDataCopy)\n",
    "random.shuffle(realDataCopy)\n",
    "\n",
    "fakeTrain = fakeDataCopy[:int(len(fakeDataCopy)*0.7)]\n",
    "fakeVali = fakeDataCopy[int(len(fakeDataCopy)*0.7):int(len(fakeDataCopy)*0.85)]\n",
    "fakeTest = fakeDataCopy[int(len(fakeDataCopy)*0.85):]\n",
    "\n",
    "realTrain = realDataCopy[:int(len(realDataCopy)*0.7)]\n",
    "realVali = realDataCopy[int(len(realDataCopy)*0.7):int(len(realDataCopy)*0.85)]\n",
    "realTest = realDataCopy[int(len(realDataCopy)*0.85):]"
   ]
  },
  {
   "cell_type": "markdown",
   "metadata": {},
   "source": [
    "# Part 2"
   ]
  },
  {
   "cell_type": "markdown",
   "metadata": {},
   "source": [
    "#### Contruct Data and define helper functions"
   ]
  },
  {
   "cell_type": "code",
   "execution_count": 104,
   "metadata": {
    "collapsed": true
   },
   "outputs": [],
   "source": [
    "#construct wordList that contains all the words appeared in training sets\n",
    "wordList = []\n",
    "for i in fakeTrain:\n",
    "    wordList.extend(i)\n",
    "for i in realTrain:\n",
    "    wordList.extend(i)\n",
    "wordList = sorted(set(wordList), key=wordList.index)\n",
    "\n",
    "#Getting parameter:\n",
    "fakeWordsCountsTrain = Counts(fakeTrain)\n",
    "realWordsCountsTrain = Counts(realTrain)"
   ]
  },
  {
   "cell_type": "code",
   "execution_count": 163,
   "metadata": {
    "collapsed": true
   },
   "outputs": [],
   "source": [
    "def Performance(wordsProb, p_fake, fakeData, realData):\n",
    "    '''\n",
    "    input:\n",
    "        wordsProb: a dictionary whose key is the word xi and value is a list: the first element in sublist is P(xi=1|fake), the second element is sublist is P(xi=1|real).\n",
    "        fakeData: a list of lists of words, each sublist is a single new. \n",
    "        realData: a list of lists of words, each sublist is a single new. \n",
    "        p_fake: P(fake)\n",
    "    output:\n",
    "        percentage performance on fakeData and real Data\n",
    "    '''\n",
    "    correct = 0.0\n",
    "    for i in fakeData:\n",
    "        fakeProb = 0.0\n",
    "        realProb = 0.0\n",
    "        for j in wordsProb:\n",
    "            if j in i:\n",
    "                fakeProb += math.log(wordsProb[j][0])\n",
    "                realProb += math.log(wordsProb[j][1])\n",
    "            else:\n",
    "                fakeProb += math.log(1-wordsProb[j][0])\n",
    "                realProb += math.log(1-wordsProb[j][1])\n",
    "        fakeProb += math.log(p_fake)\n",
    "        realProb += math.log(1-p_fake)\n",
    "        \n",
    "        if fakeProb >= realProb:\n",
    "            correct += 1\n",
    "\n",
    "    for i in realData:\n",
    "        fakeProb = 0.0\n",
    "        realProb = 0.0\n",
    "        for j in wordsProb:\n",
    "            if j in i:\n",
    "                fakeProb += math.log(wordsProb[j][0])\n",
    "                realProb += math.log(wordsProb[j][1])\n",
    "            else:\n",
    "                fakeProb += math.log(1-wordsProb[j][0])\n",
    "                realProb += math.log(1-wordsProb[j][1])\n",
    "        fakeProb += math.log(p_fake)\n",
    "        realProb += math.log(1-p_fake)\n",
    "\n",
    "        if fakeProb <= realProb:\n",
    "            correct += 1        \n",
    "\n",
    "    perf = float(correct)/float(len(fakeData)+len(realData))\n",
    "    return perf"
   ]
  },
  {
   "cell_type": "code",
   "execution_count": 170,
   "metadata": {},
   "outputs": [],
   "source": [
    "def NaiveBayes(m, pHat, ifprint = True, ifreturnProb = False):\n",
    "    '''\n",
    "    Given m and pHat, return the performance on Training set, Validation set and Test set.\n",
    "    '''\n",
    "    if ifprint:\n",
    "        print \"running NaiveBayes with m = %05.5f, pHat = %05.5f\"%(m, pHat)\n",
    "\n",
    "    wordsProb={} #a dictionary whose key is the word xi and value is a list: the first element in sublist is P(xi=1|fake), the second element is sublist is P(xi=1|real).\n",
    "    for i in wordList:\n",
    "        if i in fakeWordsCountsTrain:\n",
    "            p_x_fake = float(fakeWordsCountsTrain[i] + m*pHat)/float(len(fakeTrain) + m)\n",
    "        else:\n",
    "            p_x_fake = float(m*pHat)/float(len(fakeTrain) + m)\n",
    "        if i in realWordsCountsTrain:\n",
    "            p_x_real = float(realWordsCountsTrain[i] + m*pHat)/float(len(realTrain) + m)\n",
    "        else:\n",
    "            p_x_real = float(m*pHat)/float(len(realTrain) + m)\n",
    "        wordsProb[i] = [p_x_fake,p_x_real]\n",
    "\n",
    "    p_fake = float(len(fakeTrain))/float(len(realTrain) + len(fakeTrain)) #P(fake)\n",
    "    \n",
    "    perfTrain = Performance(wordsProb, p_fake, fakeTrain, realTrain)\n",
    "    perfVali = Performance(wordsProb, p_fake, fakeVali, realVali)\n",
    "    perfTest = Performance(wordsProb, p_fake, fakeTest, realTest)\n",
    "    \n",
    "    if ifreturnProb:\n",
    "        return perfTrain, perfVali, perfTest, wordsProb, p_fake\n",
    "    else:\n",
    "        return perfTrain, perfVali, perfTest"
   ]
  },
  {
   "cell_type": "markdown",
   "metadata": {},
   "source": [
    "#### Tune m and pHat using validation sets"
   ]
  },
  {
   "cell_type": "code",
   "execution_count": 155,
   "metadata": {
    "scrolled": true
   },
   "outputs": [
    {
     "name": "stdout",
     "output_type": "stream",
     "text": [
      "When m = 3.1623, pHat = 0.10000, the performance on validation set is highest:0.88571\n"
     ]
    },
    {
     "data": {
      "image/png": "[encoded data removed]",
      "text/plain": [
       "<matplotlib.figure.Figure at 0x7f4d88143990>"
      ]
     },
     "metadata": {},
     "output_type": "display_data"
    }
   ],
   "source": [
    "perfValiArray = []\n",
    "m_ = [10**exp for exp in np.arange(0,2.5,0.5, dtype=float)]\n",
    "pHat_ = [10**exp for exp in np.arange(-5,0, dtype=float)]\n",
    "bestPerf = -10000000\n",
    "for m in m_:\n",
    "    temp = []\n",
    "    for pHat in pHat_:\n",
    "        temp0, temp1, temp2 = NaiveBayes(int(m),pHat,ifprint = False)\n",
    "        temp.append(temp1)\n",
    "        if temp1 > bestPerf:\n",
    "            bestM = m\n",
    "            bestPHat = pHat\n",
    "            bestPerf = temp1\n",
    "    perfValiArray.append(temp)\n",
    "    \n",
    "M_,PHat_ = np.meshgrid(m_,pHat_)\n",
    "ax1 = subplot(111) \n",
    "CS = ax1.contour(M_,PHat_,perfValiArray)\n",
    "plt.clabel(CS, inline=1, fontsize=10)\n",
    "plt.ylabel(\"pHat\")\n",
    "plt.xlabel(\"m\")\n",
    "plt.title(\"performance on Validation Set\")\n",
    "\n",
    "print \"When m = %04.4f, pHat = %05.5f, the performance on validation set is highest:%05.5f\"%(bestM, bestPHat,bestPerf)"
   ]
  },
  {
   "cell_type": "markdown",
   "metadata": {},
   "source": [
    "#### Performance on chosen m and pHat"
   ]
  },
  {
   "cell_type": "code",
   "execution_count": 167,
   "metadata": {},
   "outputs": [
    {
     "name": "stdout",
     "output_type": "stream",
     "text": [
      "Performance on Training Set is 0.96193\n",
      "Performance on Validation Set is 0.88776\n",
      "Performance on Test Set is 0.84725\n"
     ]
    }
   ],
   "source": [
    "perfTrain, perfVali, perfTest = NaiveBayes(3.1623, 0.10000, ifprint = False)\n",
    "print \"Performance on Training Set is %05.5f\"%perfTrain\n",
    "print \"Performance on Validation Set is %05.5f\"%perfVali\n",
    "print \"Performance on Test Set is %05.5f\"%perfTest"
   ]
  },
  {
   "cell_type": "markdown",
   "metadata": {},
   "source": [
    "# Part 3"
   ]
  },
  {
   "cell_type": "markdown",
   "metadata": {},
   "source": [
    "### Part 3a"
   ]
  },
  {
   "cell_type": "code",
   "execution_count": 188,
   "metadata": {
    "scrolled": true
   },
   "outputs": [
    {
     "name": "stdout",
     "output_type": "stream",
     "text": [
      "the 1-th strongly predicts real news with its presence is trump\n",
      "the 2-th strongly predicts real news with its presence is donald\n",
      "the 3-th strongly predicts real news with its presence is to\n",
      "the 4-th strongly predicts real news with its presence is us\n",
      "the 5-th strongly predicts real news with its presence is in\n",
      "the 6-th strongly predicts real news with its presence is trumps\n",
      "the 7-th strongly predicts real news with its presence is on\n",
      "the 8-th strongly predicts real news with its presence is of\n",
      "the 9-th strongly predicts real news with its presence is says\n",
      "the 10-th strongly predicts real news with its presence is the\n",
      "\n",
      "\n",
      "the 1-th strongly predicts real news with its absence is 8th\n",
      "the 2-th strongly predicts real news with its absence is yell\n",
      "the 3-th strongly predicts real news with its absence is uneducated\n",
      "the 4-th strongly predicts real news with its absence is rounding\n",
      "the 5-th strongly predicts real news with its absence is casual\n",
      "the 6-th strongly predicts real news with its absence is christians\n",
      "the 7-th strongly predicts real news with its absence is friends\n",
      "the 8-th strongly predicts real news with its absence is badass\n",
      "the 9-th strongly predicts real news with its absence is ebenfalls\n",
      "the 10-th strongly predicts real news with its absence is shredded\n",
      "\n",
      "\n",
      "the 1-th strongly predicts fake news with its presence is trump\n",
      "the 2-th strongly predicts fake news with its presence is the\n",
      "the 3-th strongly predicts fake news with its presence is to\n",
      "the 4-th strongly predicts fake news with its presence is donald\n",
      "the 5-th strongly predicts fake news with its presence is in\n",
      "the 6-th strongly predicts fake news with its presence is for\n",
      "the 7-th strongly predicts fake news with its presence is of\n",
      "the 8-th strongly predicts fake news with its presence is a\n",
      "the 9-th strongly predicts fake news with its presence is and\n",
      "the 10-th strongly predicts fake news with its presence is is\n",
      "\n",
      "\n",
      "the 1-th strongly predicts fake news with its absence is expands\n",
      "the 2-th strongly predicts fake news with its absence is miltary\n",
      "the 3-th strongly predicts fake news with its absence is richardson\n",
      "the 4-th strongly predicts fake news with its absence is compete\n",
      "the 5-th strongly predicts fake news with its absence is jab\n",
      "the 6-th strongly predicts fake news with its absence is khanfar\n",
      "the 7-th strongly predicts fake news with its absence is entertainment\n",
      "the 8-th strongly predicts fake news with its absence is resolution\n",
      "the 9-th strongly predicts fake news with its absence is ipswich\n",
      "the 10-th strongly predicts fake news with its absence is imposes\n"
     ]
    }
   ],
   "source": [
    "perfTrain, perfVali, perfTest, wordsProb, p_fake = NaiveBayes(3.1623, 0.10000, ifprint = False, ifreturnProb = True)\n",
    "fakeWordsInProb = {}\n",
    "realWordsInProb = {}\n",
    "for i in wordsProb:\n",
    "    fakeWordsInProb[i] = wordsProb[i][0]\n",
    "    realWordsInProb[i] = wordsProb[i][1]\n",
    "fakeWordsInProb = sorted(fakeWordsInProb, key = fakeWordsInProb.__getitem__, reverse=True)\n",
    "realWordsInProb = sorted(realWordsInProb, key = realWordsInProb.__getitem__, reverse=True)\n",
    "for i in range(0,10):\n",
    "    print \"the %i-th strongly predicts real news with its presence is %s\"%(i+1, realWordsInProb[i])\n",
    "print \"\\n\"\n",
    "for i in np.arange(-1,-11,-1):\n",
    "    print \"the %i-th strongly predicts real news with its absence is %s\"%(-i, realWordsInProb[i])\n",
    "print \"\\n\"\n",
    "for i in range(0,10):\n",
    "    print \"the %i-th strongly predicts fake news with its presence is %s\"%(i+1, fakeWordsInProb[i])\n",
    "print \"\\n\"\n",
    "for i in np.arange(-1,-11,-1):\n",
    "    print \"the %i-th strongly predicts fake news with its absence is %s\"%(-i, fakeWordsInProb[i])"
   ]
  },
  {
   "cell_type": "markdown",
   "metadata": {},
   "source": [
    "### Part 3b"
   ]
  },
  {
   "cell_type": "code",
   "execution_count": 192,
   "metadata": {
    "scrolled": true
   },
   "outputs": [
    {
     "name": "stdout",
     "output_type": "stream",
     "text": [
      "the 1-th strongly predicts real news with its presence is trump\n",
      "the 2-th strongly predicts real news with its presence is donald\n",
      "the 3-th strongly predicts real news with its presence is trumps\n",
      "the 4-th strongly predicts real news with its presence is says\n",
      "the 5-th strongly predicts real news with its presence is clinton\n",
      "the 6-th strongly predicts real news with its presence is election\n",
      "the 7-th strongly predicts real news with its presence is ban\n",
      "the 8-th strongly predicts real news with its presence is north\n",
      "the 9-th strongly predicts real news with its presence is russia\n",
      "the 10-th strongly predicts real news with its presence is korea\n",
      "\n",
      "\n",
      "the 1-th strongly predicts real news with its absence is 8th\n",
      "the 2-th strongly predicts real news with its absence is yell\n",
      "the 3-th strongly predicts real news with its absence is uneducated\n",
      "the 4-th strongly predicts real news with its absence is rounding\n",
      "the 5-th strongly predicts real news with its absence is casual\n",
      "the 6-th strongly predicts real news with its absence is christians\n",
      "the 7-th strongly predicts real news with its absence is friends\n",
      "the 8-th strongly predicts real news with its absence is badass\n",
      "the 9-th strongly predicts real news with its absence is ebenfalls\n",
      "the 10-th strongly predicts real news with its absence is shredded\n",
      "\n",
      "\n",
      "the 1-th strongly predicts fake news with its presence is trump\n",
      "the 2-th strongly predicts fake news with its presence is donald\n",
      "the 3-th strongly predicts fake news with its presence is hillary\n",
      "the 4-th strongly predicts fake news with its presence is clinton\n",
      "the 5-th strongly predicts fake news with its presence is election\n",
      "the 6-th strongly predicts fake news with its presence is just\n",
      "the 7-th strongly predicts fake news with its presence is president\n",
      "the 8-th strongly predicts fake news with its presence is obama\n",
      "the 9-th strongly predicts fake news with its presence is new\n",
      "the 10-th strongly predicts fake news with its presence is america\n",
      "\n",
      "\n",
      "the 1-th strongly predicts fake news with its absence is expands\n",
      "the 2-th strongly predicts fake news with its absence is miltary\n",
      "the 3-th strongly predicts fake news with its absence is richardson\n",
      "the 4-th strongly predicts fake news with its absence is compete\n",
      "the 5-th strongly predicts fake news with its absence is jab\n",
      "the 6-th strongly predicts fake news with its absence is khanfar\n",
      "the 7-th strongly predicts fake news with its absence is entertainment\n",
      "the 8-th strongly predicts fake news with its absence is resolution\n",
      "the 9-th strongly predicts fake news with its absence is ipswich\n",
      "the 10-th strongly predicts fake news with its absence is imposes\n",
      "\n",
      "\n"
     ]
    }
   ],
   "source": [
    "\n",
    "\n",
    "i = 0\n",
    "index = 0\n",
    "while i < 10:\n",
    "    if realWordsInProb[index] not in ENGLISH_STOP_WORDS:\n",
    "        print \"the %i-th strongly predicts real news with its presence is %s\"%(i+1, realWordsInProb[index])\n",
    "        i += 1\n",
    "    index += 1\n",
    "print \"\\n\"\n",
    "\n",
    "i = 0\n",
    "index = -1\n",
    "while i < 10:\n",
    "    if realWordsInProb[index] not in ENGLISH_STOP_WORDS:\n",
    "        print \"the %i-th strongly predicts real news with its absence is %s\"%(i+1, realWordsInProb[index])\n",
    "        i +=1\n",
    "    index -= 1\n",
    "print \"\\n\"\n",
    "        \n",
    "i = 0\n",
    "index = 0\n",
    "while i < 10:\n",
    "    if fakeWordsInProb[index] not in ENGLISH_STOP_WORDS:\n",
    "        print \"the %i-th strongly predicts fake news with its presence is %s\"%(i+1, fakeWordsInProb[index])\n",
    "        i += 1\n",
    "    index += 1\n",
    "print \"\\n\"\n",
    "\n",
    "i = 0\n",
    "index = -1\n",
    "while i < 10:\n",
    "    if fakeWordsInProb[index] not in ENGLISH_STOP_WORDS:\n",
    "        print \"the %i-th strongly predicts fake news with its absence is %s\"%(i+1, fakeWordsInProb[index])\n",
    "        i +=1\n",
    "    index -= 1\n",
    "print \"\\n\""
   ]
  },
  {
   "cell_type": "markdown",
   "metadata": {},
   "source": [
    "### Part 3c"
   ]
  },
  {
   "cell_type": "markdown",
   "metadata": {},
   "source": [
    "to be conpleted ...."
   ]
  },
  {
   "cell_type": "markdown",
   "metadata": {},
   "source": [
    "# Part 4"
   ]
  },
  {
   "cell_type": "markdown",
   "metadata": {},
   "source": [
    "#### Define help functions"
   ]
  },
  {
   "cell_type": "code",
   "execution_count": 294,
   "metadata": {},
   "outputs": [],
   "source": [
    "def sigmoid(x):\n",
    "    return 1/(1+np.exp(-x))\n",
    "\n",
    "def f(x, y, theta, lamb):\n",
    "    x = vstack((ones((1, x.shape[1])), x))\n",
    "    output = sigmoid(np.dot(theta.T,x))\n",
    "    return -sum(y*log(output)+(1-y)*log((1-output))) + lamb*np.dot(theta.T,theta)\n",
    "\n",
    "\n",
    "def df(x, y, theta, lamb):\n",
    "    x = vstack((ones((1, x.shape[1])), x))\n",
    "    output = sigmoid(np.dot(theta.T,x))\n",
    "    return np.dot(x,(output-y).T)+2*lamb*theta\n",
    "\n",
    "\n",
    "def performance(X, Y, theta):\n",
    "    X = vstack((np.ones((1, X.shape[1])), X))\n",
    "    h = dot(theta.T, X)\n",
    "    cor = 0\n",
    "    for i in range(Y.shape[1]):\n",
    "        if Y[0,i] == 1 and h[0,i] > 0:\n",
    "            cor += 1\n",
    "        elif Y[0,i] == 0 and h[0,i] < 0:\n",
    "            cor += 1\n",
    "    return float(cor) / Y.shape[1]\n",
    "\n",
    "\n",
    "def grad_descent(f, df, x, y, init_t, alpha, lamb, EPS=1e-5, max_iter=80000, ifpart6 = False):\n",
    "    prev_t = init_t - 10 * EPS\n",
    "    t = init_t.copy()\n",
    "    iter = 0\n",
    "    perfTrain = []\n",
    "    perfVali = []\n",
    "    perfTest = []\n",
    "    iter_ = []\n",
    "    while norm(t - prev_t) > EPS and iter < max_iter:\n",
    "        prev_t = t.copy()\n",
    "        t -= alpha * df(x, y, t, lamb)\n",
    "        if iter % 20 == 0:\n",
    "            iter_.append(iter)\n",
    "            if ifpart6:\n",
    "                perfTrain.append(performance(XTrain_part6b,YTrain_part6b,t))\n",
    "                perfVali.append(performance(XVali_part6b,YVali_part6b,t))\n",
    "                perfTest.append(performance(XTest_part6b,YTest_part6b,t))\n",
    "            else:\n",
    "                perfTrain.append(performance(XTrain,YTrain,t))\n",
    "                perfVali.append(performance(XVali,YVali,t))\n",
    "                perfTest.append(performance(XTest,YTest,t))\n",
    "        if iter % 500 == 0:\n",
    "            print \"Iter\", iter\n",
    "            print \"Cost\", f(x, y, t, lamb)\n",
    "            print \"Gradient: \", df(x, y, t, lamb), \"\\n\"\n",
    "        iter += 1\n",
    "        \n",
    "    return t, perfTrain, perfVali, perfTest, iter_\n",
    "\n",
    "def GetDataPart4(Data):\n",
    "    dim = len(wordList)\n",
    "    X = np.empty((dim, 0))\n",
    "    for new in Data:\n",
    "        temp = np.zeros((dim,1))\n",
    "        for index, word in enumerate(wordList):\n",
    "            if word in new:\n",
    "                temp[index,0] = 1\n",
    "        X = np.hstack((X, temp))\n",
    "    return X\n",
    "\n",
    "def part3(lamb, alpha= 0.00050, st_devi = 0.0001, max_iteration = 5000):\n",
    "    np.random.seed(0)\n",
    "    theta0 = np.random.normal(scale=st_devi, size=(len(wordList)+1,1))\n",
    "    theta, perfTrain, perfVali, perfTest, iter_ = grad_descent(f, df, XTrain, YTrain, theta0, alpha, lamb, max_iter = max_iteration)\n",
    "\n",
    "    return theta, perfTrain, perfVali, perfTest, iter_"
   ]
  },
  {
   "cell_type": "markdown",
   "metadata": {},
   "source": [
    "#### contruct data"
   ]
  },
  {
   "cell_type": "code",
   "execution_count": 205,
   "metadata": {
    "collapsed": true
   },
   "outputs": [],
   "source": [
    "XTrain = np.hstack((GetDataPart4(fakeTrain), GetDataPart4(realTrain)))\n",
    "YTrain = np.hstack((np.ones((1,len(fakeTrain))), np.zeros((1,len(realTrain)))))\n",
    "XVali = np.hstack((GetDataPart4(fakeVali), GetDataPart4(realVali)))\n",
    "YVali = np.hstack((np.ones((1,len(fakeVali))), np.zeros((1,len(realVali)))))\n",
    "XTest = np.hstack((GetDataPart4(fakeTest), GetDataPart4(realTest)))\n",
    "YTest = np.hstack((np.ones((1,len(fakeTest))), np.zeros((1,len(realTest)))))"
   ]
  },
  {
   "cell_type": "markdown",
   "metadata": {},
   "source": [
    "#### run experiment -- to be completed"
   ]
  },
  {
   "cell_type": "code",
   "execution_count": 239,
   "metadata": {
    "scrolled": true
   },
   "outputs": [
    {
     "name": "stdout",
     "output_type": "stream",
     "text": [
      "Iter 0\n",
      "Cost [[ 1518.37486803]]\n",
      "Gradient:  [[ 107.01058261]\n",
      " [  -0.55222433]\n",
      " [  40.62009568]\n",
      " ..., \n",
      " [   0.44482756]\n",
      " [   0.44482758]\n",
      " [   0.44482758]] \n",
      "\n",
      "Iter 500\n",
      "Cost [[ 562.92057984]]\n",
      "Gradient:  [[ 1.49394815]\n",
      " [-0.27924984]\n",
      " [-0.29732871]\n",
      " ..., \n",
      " [ 0.04655678]\n",
      " [ 0.0465568 ]\n",
      " [ 0.0465568 ]] \n",
      "\n",
      "Iter 1000\n",
      "Cost [[ 416.2889773]]\n",
      "Gradient:  [[ 0.52175889]\n",
      " [-0.16544367]\n",
      " [ 0.0716807 ]\n",
      " ..., \n",
      " [ 0.02150843]\n",
      " [ 0.02150845]\n",
      " [ 0.02150845]] \n",
      "\n",
      "Iter 1500\n",
      "Cost [[ 334.75812988]]\n",
      "Gradient:  [[ 0.26357358]\n",
      " [-0.12003361]\n",
      " [ 0.13686973]\n",
      " ..., \n",
      " [ 0.01300703]\n",
      " [ 0.01300704]\n",
      " [ 0.01300704]] \n",
      "\n",
      "Iter 2000\n",
      "Cost [[ 280.74146058]]\n",
      "Gradient:  [[ 0.16562993]\n",
      " [-0.09567862]\n",
      " [ 0.14313695]\n",
      " ..., \n",
      " [ 0.00878236]\n",
      " [ 0.00878238]\n",
      " [ 0.00878238]] \n",
      "\n",
      "Iter 2500\n",
      "Cost [[ 241.87082215]]\n",
      "Gradient:  [[ 0.11952357]\n",
      " [-0.08019129]\n",
      " [ 0.13535882]\n",
      " ..., \n",
      " [ 0.00631449]\n",
      " [ 0.0063145 ]\n",
      " [ 0.0063145 ]] \n",
      "\n",
      "Iter 3000\n",
      "Cost [[ 212.44060242]]\n",
      "Gradient:  [[ 0.09356484]\n",
      " [-0.06930255]\n",
      " [ 0.12548404]\n",
      " ..., \n",
      " [ 0.00473569]\n",
      " [ 0.0047357 ]\n",
      " [ 0.0047357 ]] \n",
      "\n",
      "Iter 3500\n",
      "Cost [[ 189.34810669]]\n",
      "Gradient:  [[ 0.07662963]\n",
      " [-0.06114039]\n",
      " [ 0.11674064]\n",
      " ..., \n",
      " [ 0.0036642 ]\n",
      " [ 0.00366422]\n",
      " [ 0.00366422]] \n",
      "\n",
      "Iter 4000\n",
      "Cost [[ 170.73301318]]\n",
      "Gradient:  [[ 0.06434066]\n",
      " [-0.05475117]\n",
      " [ 0.10971164]\n",
      " ..., \n",
      " [ 0.00290543]\n",
      " [ 0.00290545]\n",
      " [ 0.00290545]] \n",
      "\n",
      "Iter 4500\n",
      "Cost [[ 155.40437553]]\n",
      "Gradient:  [[ 0.05480328]\n",
      " [-0.04959391]\n",
      " [ 0.10421215]\n",
      " ..., \n",
      " [ 0.00235017]\n",
      " [ 0.00235018]\n",
      " [ 0.00235018]] \n",
      "\n"
     ]
    }
   ],
   "source": [
    "theta, perfTrain, perfVali, perfTest, iter_ = part3(0.0001)"
   ]
  },
  {
   "cell_type": "markdown",
   "metadata": {},
   "source": [
    "#### Learning curve plot"
   ]
  },
  {
   "cell_type": "code",
   "execution_count": 246,
   "metadata": {},
   "outputs": [
    {
     "data": {
      "text/plain": [
       "<matplotlib.legend.Legend at 0x7f4d807ddb90>"
      ]
     },
     "execution_count": 246,
     "metadata": {},
     "output_type": "execute_result"
    },
    {
     "data": {
      "image/png": "[encoded data removed]",
      "text/plain": [
       "<matplotlib.figure.Figure at 0x7f4d80879d90>"
      ]
     },
     "metadata": {},
     "output_type": "display_data"
    }
   ],
   "source": [
    "fig = plt.figure(40)\n",
    "plt.plot(iter_, perfTrain, label = \"Train\")\n",
    "plt.plot(iter_, perfVali, label = \"Vali\")\n",
    "plt.plot(iter_, perfTest, label = \"Test\")\n",
    "plt.ylabel(\"performance\")\n",
    "plt.xlabel(\"iteration\")\n",
    "plt.title(\"Part4: Learning curve\")\n",
    "plt.legend(loc = \"best\")"
   ]
  },
  {
   "cell_type": "markdown",
   "metadata": {},
   "source": [
    "# Part 5"
   ]
  },
  {
   "cell_type": "markdown",
   "metadata": {},
   "source": [
    "to be conpleted ...."
   ]
  },
  {
   "cell_type": "markdown",
   "metadata": {},
   "source": [
    "# Part 6"
   ]
  },
  {
   "cell_type": "markdown",
   "metadata": {},
   "source": [
    "### Part 6a"
   ]
  },
  {
   "cell_type": "code",
   "execution_count": 250,
   "metadata": {
    "scrolled": true
   },
   "outputs": [
    {
     "name": "stdout",
     "output_type": "stream",
     "text": [
      "The 1-th most positive theta is 3.1245011 and the corresponding word is turnout\n",
      "The 2-th most positive theta is 2.7674193 and the corresponding word is mean\n",
      "The 3-th most positive theta is 2.5260268 and the corresponding word is hangs\n",
      "The 4-th most positive theta is 2.4043448 and the corresponding word is tuning\n",
      "The 5-th most positive theta is 2.3577959 and the corresponding word is between\n",
      "The 6-th most positive theta is 2.3340223 and the corresponding word is wire\n",
      "The 7-th most positive theta is 2.3080035 and the corresponding word is protester\n",
      "The 8-th most positive theta is 2.2702148 and the corresponding word is caught\n",
      "The 9-th most positive theta is 2.2486076 and the corresponding word is deserved\n",
      "The 10-th most positive theta is 2.2184715 and the corresponding word is brutal\n",
      "\n",
      "\n",
      "The 1-th most negative theta is -3.8323850 and the corresponding word is gofundme\n",
      "The 2-th most negative theta is -2.6217503 and the corresponding word is urged\n",
      "The 3-th most negative theta is -2.5907552 and the corresponding word is supreme\n",
      "The 4-th most negative theta is -2.5114080 and the corresponding word is is\n",
      "The 5-th most negative theta is -2.3014080 and the corresponding word is nc\n",
      "The 6-th most negative theta is -2.2927592 and the corresponding word is panel\n",
      "The 7-th most negative theta is -2.2626169 and the corresponding word is suggest\n",
      "The 8-th most negative theta is -2.1815852 and the corresponding word is carolina\n",
      "The 9-th most negative theta is -2.1753454 and the corresponding word is councils\n",
      "The 10-th most negative theta is -2.0777542 and the corresponding word is richardson\n"
     ]
    }
   ],
   "source": [
    "wordTheta = {}\n",
    "i = 0\n",
    "for word in wordList:\n",
    "    wordTheta[word] = theta[i,0]\n",
    "    i += 1\n",
    "wordThetaInOrder = sorted(wordTheta, key = wordTheta.__getitem__, reverse=True)\n",
    "for i in range(10):\n",
    "    word = wordThetaInOrder[i]\n",
    "    print \"The %i-th most positive theta is %07.7f and the corresponding word is %s\"%(i+1, wordTheta[word], word)\n",
    "print \"\\n\"\n",
    "for i in np.arange(-1,-11,-1):\n",
    "    word = wordThetaInOrder[i]\n",
    "    print \"The %i-th most negative theta is %07.7f and the corresponding word is %s\"%(-i, wordTheta[word], word)"
   ]
  },
  {
   "cell_type": "markdown",
   "metadata": {},
   "source": [
    "### Part 6b"
   ]
  },
  {
   "cell_type": "markdown",
   "metadata": {},
   "source": [
    "#### contruct wordList without stop words"
   ]
  },
  {
   "cell_type": "code",
   "execution_count": 254,
   "metadata": {},
   "outputs": [],
   "source": [
    "wordList_nostop = []\n",
    "for word in wordList:\n",
    "    if word not in ENGLISH_STOP_WORDS:\n",
    "        wordList_nostop.append(word)"
   ]
  },
  {
   "cell_type": "markdown",
   "metadata": {},
   "source": [
    "#### define helper function"
   ]
  },
  {
   "cell_type": "code",
   "execution_count": 298,
   "metadata": {
    "collapsed": true
   },
   "outputs": [],
   "source": [
    "def GetDataPart4_nostop(Data):\n",
    "    dim = len(wordList_nostop)\n",
    "    X = np.empty((dim, 0))\n",
    "    for new in Data:\n",
    "        temp = np.zeros((dim,1))\n",
    "        for index, word in enumerate(wordList_nostop):\n",
    "            if word in new:\n",
    "                temp[index,0] = 1\n",
    "        X = np.hstack((X, temp))\n",
    "    return X\n",
    "\n",
    "def part6b(lamb, alpha= 0.00050, st_devi = 0.0001, max_iteration = 5000):\n",
    "    np.random.seed(0)\n",
    "    theta0 = np.random.normal(scale=st_devi, size=(len(wordList_nostop)+1,1))\n",
    "    theta_part6b, perfTrain_part6b, perfVali_part6b, perfTest_part6b, iter_ = grad_descent(f, df, XTrain_part6b, YTrain_part6b, theta0, alpha, lamb, max_iter = max_iteration, ifpart6 = True)\n",
    "\n",
    "    return theta_part6b, perfTrain_part6b, perfVali_part6b, perfTest_part6b, iter_"
   ]
  },
  {
   "cell_type": "markdown",
   "metadata": {},
   "source": [
    "#### contruct data"
   ]
  },
  {
   "cell_type": "code",
   "execution_count": 275,
   "metadata": {},
   "outputs": [],
   "source": [
    "XTrain_part6b = np.hstack((GetDataPart4_nostop(fakeTrain), GetDataPart4_nostop(realTrain)))\n",
    "YTrain_part6b = np.hstack((np.ones((1,len(fakeTrain))), np.zeros((1,len(realTrain)))))\n",
    "XVali_part6b = np.hstack((GetDataPart4_nostop(fakeVali), GetDataPart4_nostop(realVali)))\n",
    "YVali_part6b = np.hstack((np.ones((1,len(fakeVali))), np.zeros((1,len(realVali)))))\n",
    "XTest_part6b = np.hstack((GetDataPart4_nostop(fakeTest), GetDataPart4_nostop(realTest)))\n",
    "YTest_part6b = np.hstack((np.ones((1,len(fakeTest))), np.zeros((1,len(realTest)))))"
   ]
  },
  {
   "cell_type": "markdown",
   "metadata": {},
   "source": [
    "#### Run"
   ]
  },
  {
   "cell_type": "code",
   "execution_count": 299,
   "metadata": {
    "scrolled": true
   },
   "outputs": [
    {
     "name": "stdout",
     "output_type": "stream",
     "text": [
      "Iter 0\n",
      "Cost [[ 1525.6619093]]\n",
      "Gradient:  [[ 104.00618546]\n",
      " [  -0.55060046]\n",
      " [  37.72066548]\n",
      " ..., \n",
      " [   0.44529548]\n",
      " [   0.44529546]\n",
      " [   0.44529547]] \n",
      "\n",
      "Iter 500\n",
      "Cost [[ 667.03599585]]\n",
      "Gradient:  [[ 1.03197764]\n",
      " [-0.25476676]\n",
      " [-0.13387645]\n",
      " ..., \n",
      " [ 0.0698076 ]\n",
      " [ 0.06980758]\n",
      " [ 0.06980759]] \n",
      "\n",
      "Iter 1000\n",
      "Cost [[ 500.25772067]]\n",
      "Gradient:  [[ 0.37213802]\n",
      " [-0.17337138]\n",
      " [ 0.05847945]\n",
      " ..., \n",
      " [ 0.0351419 ]\n",
      " [ 0.03514188]\n",
      " [ 0.03514189]] \n",
      "\n",
      "Iter 1500\n",
      "Cost [[ 407.08067144]]\n",
      "Gradient:  [[ 0.20498467]\n",
      " [-0.1383214 ]\n",
      " [ 0.06923625]\n",
      " ..., \n",
      " [ 0.02242331]\n",
      " [ 0.02242329]\n",
      " [ 0.0224233 ]] \n",
      "\n",
      "Iter 2000\n",
      "Cost [[ 345.20395592]]\n",
      "Gradient:  [[ 0.1402082 ]\n",
      " [-0.11784076]\n",
      " [ 0.05963832]\n",
      " ..., \n",
      " [ 0.01582013]\n",
      " [ 0.01582011]\n",
      " [ 0.01582012]] \n",
      "\n",
      "Iter 2500\n",
      "Cost [[ 300.50523442]]\n",
      "Gradient:  [[ 0.10687346]\n",
      " [-0.10372675]\n",
      " [ 0.05026099]\n",
      " ..., \n",
      " [ 0.0118333 ]\n",
      " [ 0.01183328]\n",
      " [ 0.01183329]] \n",
      "\n",
      "Iter 3000\n",
      "Cost [[ 266.47947972]]\n",
      "Gradient:  [[ 0.08559921]\n",
      " [-0.09305096]\n",
      " [ 0.044021  ]\n",
      " ..., \n",
      " [ 0.00920751]\n",
      " [ 0.00920748]\n",
      " [ 0.00920749]] \n",
      "\n",
      "Iter 3500\n",
      "Cost [[ 239.61091066]]\n",
      "Gradient:  [[ 0.0700344 ]\n",
      " [-0.08451443]\n",
      " [ 0.04052598]\n",
      " ..., \n",
      " [ 0.00737442]\n",
      " [ 0.0073744 ]\n",
      " [ 0.00737441]] \n",
      "\n",
      "Iter 4000\n",
      "Cost [[ 217.80411113]]\n",
      "Gradient:  [[ 0.05774158]\n",
      " [-0.07744663]\n",
      " [ 0.0389652 ]\n",
      " ..., \n",
      " [ 0.00603909]\n",
      " [ 0.00603907]\n",
      " [ 0.00603908]] \n",
      "\n",
      "Iter 4500\n",
      "Cost [[ 199.72279587]]\n",
      "Gradient:  [[ 0.04760973]\n",
      " [-0.071459  ]\n",
      " [ 0.03867909]\n",
      " ..., \n",
      " [ 0.00503388]\n",
      " [ 0.00503386]\n",
      " [ 0.00503387]] \n",
      "\n"
     ]
    }
   ],
   "source": [
    "theta_part6b, perfTrain_part6b, perfVali_part6b, perfTest_part6b, iter_ = part6b(0.0001)"
   ]
  },
  {
   "cell_type": "markdown",
   "metadata": {},
   "source": [
    "#### Learning curve plot"
   ]
  },
  {
   "cell_type": "code",
   "execution_count": 300,
   "metadata": {},
   "outputs": [
    {
     "data": {
      "text/plain": [
       "<matplotlib.legend.Legend at 0x7f4d82ea2d50>"
      ]
     },
     "execution_count": 300,
     "metadata": {},
     "output_type": "execute_result"
    },
    {
     "data": {
      "image/png": "[encoded data removed]",
      "text/plain": [
       "<matplotlib.figure.Figure at 0x7f4d88c86990>"
      ]
     },
     "metadata": {},
     "output_type": "display_data"
    }
   ],
   "source": [
    "fig = plt.figure(60)\n",
    "plt.plot(iter_, perfTrain_part6b, label = \"Train\")\n",
    "plt.plot(iter_, perfVali_part6b, label = \"Vali\")\n",
    "plt.plot(iter_, perfTest_part6b, label = \"Test\")\n",
    "plt.ylabel(\"performance\")\n",
    "plt.xlabel(\"iteration\")\n",
    "plt.title(\"Part4b: Learning curve\")\n",
    "plt.legend(loc = \"best\")"
   ]
  },
  {
   "cell_type": "markdown",
   "metadata": {},
   "source": [
    "#### Print top 10s"
   ]
  },
  {
   "cell_type": "code",
   "execution_count": 301,
   "metadata": {},
   "outputs": [
    {
     "name": "stdout",
     "output_type": "stream",
     "text": [
      "The 1-th most positive theta is 3.1245011 and the corresponding word is israeli\n",
      "The 2-th most positive theta is 2.7674193 and the corresponding word is official\n",
      "The 3-th most positive theta is 2.5260268 and the corresponding word is hangs\n",
      "The 4-th most positive theta is 2.4043448 and the corresponding word is light\n",
      "The 5-th most positive theta is 2.3577959 and the corresponding word is bribery\n",
      "The 6-th most positive theta is 2.3340223 and the corresponding word is livre\n",
      "The 7-th most positive theta is 2.3080035 and the corresponding word is million\n",
      "The 8-th most positive theta is 2.2702148 and the corresponding word is major\n",
      "The 9-th most positive theta is 2.2486076 and the corresponding word is shocked\n",
      "The 10-th most positive theta is 2.2184715 and the corresponding word is reveals\n",
      "\n",
      "\n",
      "The 1-th most negative theta is -3.8323850 and the corresponding word is hits\n",
      "The 2-th most negative theta is -2.6217503 and the corresponding word is billionaires\n",
      "The 3-th most negative theta is -2.5907552 and the corresponding word is 220\n",
      "The 4-th most negative theta is -2.5114080 and the corresponding word is jokes\n",
      "The 5-th most negative theta is -2.3014080 and the corresponding word is nc\n",
      "The 6-th most negative theta is -2.2927592 and the corresponding word is anthem\n",
      "The 7-th most negative theta is -2.2626169 and the corresponding word is department\n",
      "The 8-th most negative theta is -2.1815852 and the corresponding word is crime\n",
      "The 9-th most negative theta is -2.1753454 and the corresponding word is bans\n",
      "The 10-th most negative theta is -2.0777542 and the corresponding word is fresh\n"
     ]
    }
   ],
   "source": [
    "wordTheta_nostop = {}\n",
    "i = 0\n",
    "for word in wordList_nostop:\n",
    "    wordTheta_nostop[word] = theta[i,0]\n",
    "    i += 1\n",
    "wordThetaInOrder_nostop = sorted(wordTheta_nostop, key = wordTheta_nostop.__getitem__, reverse=True)\n",
    "for i in range(10):\n",
    "    word = wordThetaInOrder_nostop[i]\n",
    "    print \"The %i-th most positive theta is %07.7f and the corresponding word is %s\"%(i+1, wordTheta_nostop[word], word)\n",
    "print \"\\n\"\n",
    "for i in np.arange(-1,-11,-1):\n",
    "    word = wordThetaInOrder_nostop[i]\n",
    "    print \"The %i-th most negative theta is %07.7f and the corresponding word is %s\"%(-i, wordTheta_nostop[word], word)"
   ]
  },
  {
   "cell_type": "markdown",
   "metadata": {},
   "source": [
    "### Part 6c"
   ]
  },
  {
   "cell_type": "markdown",
   "metadata": {},
   "source": [
    "to be conpleted ...."
   ]
  },
  {
   "cell_type": "markdown",
   "metadata": {},
   "source": [
    "# Part 7"
   ]
  },
  {
   "cell_type": "markdown",
   "metadata": {},
   "source": [
    "### Part 7a"
   ]
  },
  {
   "cell_type": "markdown",
   "metadata": {},
   "source": [
    "#### contruct data"
   ]
  },
  {
   "cell_type": "code",
   "execution_count": 308,
   "metadata": {
    "collapsed": true
   },
   "outputs": [],
   "source": [
    "XTrain_part7 = XTrain.T\n",
    "YTrain_part7 = YTrain.flatten()\n",
    "XVali_part7 = XVali.T\n",
    "YVali_part7 = YVali.flatten()\n",
    "XTest_part7 = XTest.T\n",
    "YTest_part7 = YTest.flatten()"
   ]
  },
  {
   "cell_type": "markdown",
   "metadata": {},
   "source": [
    "#### define helper function"
   ]
  },
  {
   "cell_type": "code",
   "execution_count": 309,
   "metadata": {
    "collapsed": true
   },
   "outputs": [],
   "source": [
    "def Performance_part7(X, Y, clf):\n",
    "    '''\n",
    "    Take feature X, label Y, and model clf.\n",
    "    return the percentage performance of model clf on dataset X & Y.\n",
    "    '''\n",
    "    predict = clf.predict(X)\n",
    "    result = 0.0\n",
    "    for i in range(len(Y)):\n",
    "        if predict[i] == Y[i]:\n",
    "            result += 1\n",
    "    return result/len(predict)"
   ]
  },
  {
   "cell_type": "code",
   "execution_count": 314,
   "metadata": {
    "collapsed": true
   },
   "outputs": [],
   "source": [
    "def part7a(max_depth):\n",
    "    clf = tree.DecisionTreeClassifier(max_depth = max_depth)\n",
    "    clf = clf.fit(XTrain_part7, YTrain_part7)\n",
    "    perfTrain_part7 = Performance_part7(XTrain_part7, YTrain_part7, clf)\n",
    "    perfVali_part7 = Performance_part7(XVali_part7, YVali_part7, clf)\n",
    "    perfTest_part7 = Performance_part7(XTest_part7, YTest_part7, clf)\n",
    "    return clf, perfTrain_part7, perfVali_part7, perfTest_part7"
   ]
  },
  {
   "cell_type": "markdown",
   "metadata": {},
   "source": [
    "#### run"
   ]
  },
  {
   "cell_type": "code",
   "execution_count": 325,
   "metadata": {},
   "outputs": [
    {
     "name": "stdout",
     "output_type": "stream",
     "text": [
      "The model performs best on Validation set with max_depth of 90 and performance of 0.79184\n"
     ]
    }
   ],
   "source": [
    "perfTrain_part7_ = []\n",
    "perfVali_part7_ = []\n",
    "perfTest_part7_ = []\n",
    "bestPerf = 0\n",
    "depth_ = [5,10,20,40,70,90,100,150,200,300,500,700,1000]\n",
    "for depth in depth_:\n",
    "    clf, perfTrain_part7, perfVali_part7, perfTest_part7 = part7a(depth)\n",
    "    perfTrain_part7_.append(perfTrain_part7)\n",
    "    perfVali_part7_.append(perfVali_part7)\n",
    "    perfTest_part7_.append(perfTest_part7)\n",
    "    if perfVali_part7 > bestPerf:\n",
    "        bestPerf = perfVali_part7\n",
    "        bestDepth = depth\n",
    "        \n",
    "print \"The model performs best on Validation set with max_depth of %i and performance of %05.5f\"%(bestDepth, bestPerf)"
   ]
  },
  {
   "cell_type": "markdown",
   "metadata": {},
   "source": [
    "#### Plot"
   ]
  },
  {
   "cell_type": "code",
   "execution_count": 323,
   "metadata": {},
   "outputs": [
    {
     "data": {
      "text/plain": [
       "<matplotlib.legend.Legend at 0x7f4d702ee7d0>"
      ]
     },
     "execution_count": 323,
     "metadata": {},
     "output_type": "execute_result"
    },
    {
     "data": {
      "image/png": "[encoded data removed]",
      "text/plain": [
       "<matplotlib.figure.Figure at 0x7f4d80043dd0>"
      ]
     },
     "metadata": {},
     "output_type": "display_data"
    }
   ],
   "source": [
    "fig = plt.figure(70)\n",
    "plt.plot(depth_, perfTrain_part7_, label = \"Train\")\n",
    "plt.plot(depth_, perfVali_part7_, label = \"Vali\")\n",
    "plt.plot(depth_, perfTest_part7_, label = \"Test\")\n",
    "plt.ylabel(\"Performance\")\n",
    "plt.xlabel(\"Max_depth\")\n",
    "plt.title(\"Part7a: Relationship between max_depth and Performance\")\n",
    "plt.legend(loc = \"best\")"
   ]
  },
  {
   "cell_type": "markdown",
   "metadata": {},
   "source": [
    "### Part 7b"
   ]
  },
  {
   "cell_type": "code",
   "execution_count": 329,
   "metadata": {
    "scrolled": true
   },
   "outputs": [
    {
     "data": {
      "image/svg+xml": [
       "<?xml version=\"1.0\" encoding=\"UTF-8\" standalone=\"no\"?>\n",
       "<!DOCTYPE svg PUBLIC \"-//W3C//DTD SVG 1.1//EN\"\n",
       " \"http://www.w3.org/Graphics/SVG/1.1/DTD/svg11.dtd\">\n",
       "<!-- Generated by graphviz version 2.38.0 (20140413.2041)\n",
       " -->\n",
       "<!-- Title: Tree Pages: 1 -->\n",
       "<svg width=\"1009pt\" height=\"460pt\"\n",
       " viewBox=\"0.00 0.00 1009.00 460.00\" xmlns=\"http://www.w3.org/2000/svg\" xmlns:xlink=\"http://www.w3.org/1999/xlink\">\n",
       "<g id=\"graph0\" class=\"graph\" transform=\"scale(1 1) rotate(0) translate(4 456)\">\n",
       "<title>Tree</title>\n",
       "<polygon fill=\"white\" stroke=\"none\" points=\"-4,4 -4,-456 1005,-456 1005,4 -4,4\"/>\n",
       "<!-- 0 -->\n",
       "<g id=\"node1\" class=\"node\"><title>0</title>\n",
       "<polygon fill=\"none\" stroke=\"black\" points=\"561.5,-452 436.5,-452 436.5,-384 561.5,-384 561.5,-452\"/>\n",
       "<text text-anchor=\"middle\" x=\"499\" y=\"-436.8\" font-family=\"Times,serif\" font-size=\"14.00\">donald &lt;= 0.5</text>\n",
       "<text text-anchor=\"middle\" x=\"499\" y=\"-421.8\" font-family=\"Times,serif\" font-size=\"14.00\">gini = 0.479</text>\n",
       "<text text-anchor=\"middle\" x=\"499\" y=\"-406.8\" font-family=\"Times,serif\" font-size=\"14.00\">samples = 2285</text>\n",
       "<text text-anchor=\"middle\" x=\"499\" y=\"-391.8\" font-family=\"Times,serif\" font-size=\"14.00\">value = [1377, 908]</text>\n",
       "</g>\n",
       "<!-- 1 -->\n",
       "<g id=\"node2\" class=\"node\"><title>1</title>\n",
       "<polygon fill=\"none\" stroke=\"black\" points=\"464.5,-348 345.5,-348 345.5,-280 464.5,-280 464.5,-348\"/>\n",
       "<text text-anchor=\"middle\" x=\"405\" y=\"-332.8\" font-family=\"Times,serif\" font-size=\"14.00\">hillary &lt;= 0.5</text>\n",
       "<text text-anchor=\"middle\" x=\"405\" y=\"-317.8\" font-family=\"Times,serif\" font-size=\"14.00\">gini = 0.5</text>\n",
       "<text text-anchor=\"middle\" x=\"405\" y=\"-302.8\" font-family=\"Times,serif\" font-size=\"14.00\">samples = 1542</text>\n",
       "<text text-anchor=\"middle\" x=\"405\" y=\"-287.8\" font-family=\"Times,serif\" font-size=\"14.00\">value = [790, 752]</text>\n",
       "</g>\n",
       "<!-- 0&#45;&gt;1 -->\n",
       "<g id=\"edge1\" class=\"edge\"><title>0&#45;&gt;1</title>\n",
       "<path fill=\"none\" stroke=\"black\" d=\"M468.481,-383.884C460.19,-374.887 451.116,-365.041 442.488,-355.678\"/>\n",
       "<polygon fill=\"black\" stroke=\"black\" points=\"445.038,-353.281 435.688,-348.299 439.891,-358.025 445.038,-353.281\"/>\n",
       "<text text-anchor=\"middle\" x=\"434.668\" y=\"-369.579\" font-family=\"Times,serif\" font-size=\"14.00\">True</text>\n",
       "</g>\n",
       "<!-- 528 -->\n",
       "<g id=\"node15\" class=\"node\"><title>528</title>\n",
       "<polygon fill=\"none\" stroke=\"black\" points=\"652.5,-348 533.5,-348 533.5,-280 652.5,-280 652.5,-348\"/>\n",
       "<text text-anchor=\"middle\" x=\"593\" y=\"-332.8\" font-family=\"Times,serif\" font-size=\"14.00\">the &lt;= 0.5</text>\n",
       "<text text-anchor=\"middle\" x=\"593\" y=\"-317.8\" font-family=\"Times,serif\" font-size=\"14.00\">gini = 0.332</text>\n",
       "<text text-anchor=\"middle\" x=\"593\" y=\"-302.8\" font-family=\"Times,serif\" font-size=\"14.00\">samples = 743</text>\n",
       "<text text-anchor=\"middle\" x=\"593\" y=\"-287.8\" font-family=\"Times,serif\" font-size=\"14.00\">value = [587, 156]</text>\n",
       "</g>\n",
       "<!-- 0&#45;&gt;528 -->\n",
       "<g id=\"edge14\" class=\"edge\"><title>0&#45;&gt;528</title>\n",
       "<path fill=\"none\" stroke=\"black\" d=\"M529.519,-383.884C537.81,-374.887 546.884,-365.041 555.512,-355.678\"/>\n",
       "<polygon fill=\"black\" stroke=\"black\" points=\"558.109,-358.025 562.312,-348.299 552.962,-353.281 558.109,-358.025\"/>\n",
       "<text text-anchor=\"middle\" x=\"563.332\" y=\"-369.579\" font-family=\"Times,serif\" font-size=\"14.00\">False</text>\n",
       "</g>\n",
       "<!-- 2 -->\n",
       "<g id=\"node3\" class=\"node\"><title>2</title>\n",
       "<polygon fill=\"none\" stroke=\"black\" points=\"286.5,-244 167.5,-244 167.5,-176 286.5,-176 286.5,-244\"/>\n",
       "<text text-anchor=\"middle\" x=\"227\" y=\"-228.8\" font-family=\"Times,serif\" font-size=\"14.00\">the &lt;= 0.5</text>\n",
       "<text text-anchor=\"middle\" x=\"227\" y=\"-213.8\" font-family=\"Times,serif\" font-size=\"14.00\">gini = 0.497</text>\n",
       "<text text-anchor=\"middle\" x=\"227\" y=\"-198.8\" font-family=\"Times,serif\" font-size=\"14.00\">samples = 1456</text>\n",
       "<text text-anchor=\"middle\" x=\"227\" y=\"-183.8\" font-family=\"Times,serif\" font-size=\"14.00\">value = [788, 668]</text>\n",
       "</g>\n",
       "<!-- 1&#45;&gt;2 -->\n",
       "<g id=\"edge2\" class=\"edge\"><title>1&#45;&gt;2</title>\n",
       "<path fill=\"none\" stroke=\"black\" d=\"M347.209,-279.884C330.179,-270.125 311.404,-259.366 293.855,-249.31\"/>\n",
       "<polygon fill=\"black\" stroke=\"black\" points=\"295.223,-246.06 284.806,-244.125 291.742,-252.133 295.223,-246.06\"/>\n",
       "</g>\n",
       "<!-- 521 -->\n",
       "<g id=\"node10\" class=\"node\"><title>521</title>\n",
       "<polygon fill=\"none\" stroke=\"black\" points=\"454,-244 356,-244 356,-176 454,-176 454,-244\"/>\n",
       "<text text-anchor=\"middle\" x=\"405\" y=\"-228.8\" font-family=\"Times,serif\" font-size=\"14.00\">takes &lt;= 0.5</text>\n",
       "<text text-anchor=\"middle\" x=\"405\" y=\"-213.8\" font-family=\"Times,serif\" font-size=\"14.00\">gini = 0.045</text>\n",
       "<text text-anchor=\"middle\" x=\"405\" y=\"-198.8\" font-family=\"Times,serif\" font-size=\"14.00\">samples = 86</text>\n",
       "<text text-anchor=\"middle\" x=\"405\" y=\"-183.8\" font-family=\"Times,serif\" font-size=\"14.00\">value = [2, 84]</text>\n",
       "</g>\n",
       "<!-- 1&#45;&gt;521 -->\n",
       "<g id=\"edge9\" class=\"edge\"><title>1&#45;&gt;521</title>\n",
       "<path fill=\"none\" stroke=\"black\" d=\"M405,-279.884C405,-271.778 405,-262.982 405,-254.472\"/>\n",
       "<polygon fill=\"black\" stroke=\"black\" points=\"408.5,-254.299 405,-244.299 401.5,-254.299 408.5,-254.299\"/>\n",
       "</g>\n",
       "<!-- 3 -->\n",
       "<g id=\"node4\" class=\"node\"><title>3</title>\n",
       "<polygon fill=\"none\" stroke=\"black\" points=\"152.5,-140 33.5,-140 33.5,-72 152.5,-72 152.5,-140\"/>\n",
       "<text text-anchor=\"middle\" x=\"93\" y=\"-124.8\" font-family=\"Times,serif\" font-size=\"14.00\">trump &lt;= 0.5</text>\n",
       "<text text-anchor=\"middle\" x=\"93\" y=\"-109.8\" font-family=\"Times,serif\" font-size=\"14.00\">gini = 0.481</text>\n",
       "<text text-anchor=\"middle\" x=\"93\" y=\"-94.8\" font-family=\"Times,serif\" font-size=\"14.00\">samples = 1189</text>\n",
       "<text text-anchor=\"middle\" x=\"93\" y=\"-79.8\" font-family=\"Times,serif\" font-size=\"14.00\">value = [710, 479]</text>\n",
       "</g>\n",
       "<!-- 2&#45;&gt;3 -->\n",
       "<g id=\"edge3\" class=\"edge\"><title>2&#45;&gt;3</title>\n",
       "<path fill=\"none\" stroke=\"black\" d=\"M183.494,-175.884C171.207,-166.531 157.713,-156.259 144.982,-146.568\"/>\n",
       "<polygon fill=\"black\" stroke=\"black\" points=\"146.823,-143.571 136.746,-140.299 142.583,-149.141 146.823,-143.571\"/>\n",
       "</g>\n",
       "<!-- 390 -->\n",
       "<g id=\"node7\" class=\"node\"><title>390</title>\n",
       "<polygon fill=\"none\" stroke=\"black\" points=\"283,-140 171,-140 171,-72 283,-72 283,-140\"/>\n",
       "<text text-anchor=\"middle\" x=\"227\" y=\"-124.8\" font-family=\"Times,serif\" font-size=\"14.00\">trumps &lt;= 0.5</text>\n",
       "<text text-anchor=\"middle\" x=\"227\" y=\"-109.8\" font-family=\"Times,serif\" font-size=\"14.00\">gini = 0.414</text>\n",
       "<text text-anchor=\"middle\" x=\"227\" y=\"-94.8\" font-family=\"Times,serif\" font-size=\"14.00\">samples = 267</text>\n",
       "<text text-anchor=\"middle\" x=\"227\" y=\"-79.8\" font-family=\"Times,serif\" font-size=\"14.00\">value = [78, 189]</text>\n",
       "</g>\n",
       "<!-- 2&#45;&gt;390 -->\n",
       "<g id=\"edge6\" class=\"edge\"><title>2&#45;&gt;390</title>\n",
       "<path fill=\"none\" stroke=\"black\" d=\"M227,-175.884C227,-167.778 227,-158.982 227,-150.472\"/>\n",
       "<polygon fill=\"black\" stroke=\"black\" points=\"230.5,-150.299 227,-140.299 223.5,-150.299 230.5,-150.299\"/>\n",
       "</g>\n",
       "<!-- 4 -->\n",
       "<g id=\"node5\" class=\"node\"><title>4</title>\n",
       "<polygon fill=\"none\" stroke=\"black\" points=\"54,-36 0,-36 0,-0 54,-0 54,-36\"/>\n",
       "<text text-anchor=\"middle\" x=\"27\" y=\"-14.3\" font-family=\"Times,serif\" font-size=\"14.00\">(...)</text>\n",
       "</g>\n",
       "<!-- 3&#45;&gt;4 -->\n",
       "<g id=\"edge4\" class=\"edge\"><title>3&#45;&gt;4</title>\n",
       "<path fill=\"none\" stroke=\"black\" d=\"M67.6714,-71.9961C60.6918,-62.9014 53.2275,-53.1752 46.6235,-44.57\"/>\n",
       "<polygon fill=\"black\" stroke=\"black\" points=\"49.2209,-42.2056 40.3561,-36.4034 43.6677,-46.4674 49.2209,-42.2056\"/>\n",
       "</g>\n",
       "<!-- 13 -->\n",
       "<g id=\"node6\" class=\"node\"><title>13</title>\n",
       "<polygon fill=\"none\" stroke=\"black\" points=\"126,-36 72,-36 72,-0 126,-0 126,-36\"/>\n",
       "<text text-anchor=\"middle\" x=\"99\" y=\"-14.3\" font-family=\"Times,serif\" font-size=\"14.00\">(...)</text>\n",
       "</g>\n",
       "<!-- 3&#45;&gt;13 -->\n",
       "<g id=\"edge5\" class=\"edge\"><title>3&#45;&gt;13</title>\n",
       "<path fill=\"none\" stroke=\"black\" d=\"M95.3026,-71.9961C95.8908,-63.5646 96.517,-54.5902 97.0835,-46.4696\"/>\n",
       "<polygon fill=\"black\" stroke=\"black\" points=\"100.581,-46.6228 97.7858,-36.4034 93.5982,-46.1355 100.581,-46.6228\"/>\n",
       "</g>\n",
       "<!-- 391 -->\n",
       "<g id=\"node8\" class=\"node\"><title>391</title>\n",
       "<polygon fill=\"none\" stroke=\"black\" points=\"208,-36 154,-36 154,-0 208,-0 208,-36\"/>\n",
       "<text text-anchor=\"middle\" x=\"181\" y=\"-14.3\" font-family=\"Times,serif\" font-size=\"14.00\">(...)</text>\n",
       "</g>\n",
       "<!-- 390&#45;&gt;391 -->\n",
       "<g id=\"edge7\" class=\"edge\"><title>390&#45;&gt;391</title>\n",
       "<path fill=\"none\" stroke=\"black\" d=\"M209.347,-71.9961C204.634,-63.1856 199.605,-53.7825 195.11,-45.38\"/>\n",
       "<polygon fill=\"black\" stroke=\"black\" points=\"198.112,-43.5704 190.309,-36.4034 191.939,-46.872 198.112,-43.5704\"/>\n",
       "</g>\n",
       "<!-- 520 -->\n",
       "<g id=\"node9\" class=\"node\"><title>520</title>\n",
       "<polygon fill=\"none\" stroke=\"black\" points=\"280,-36 226,-36 226,-0 280,-0 280,-36\"/>\n",
       "<text text-anchor=\"middle\" x=\"253\" y=\"-14.3\" font-family=\"Times,serif\" font-size=\"14.00\">(...)</text>\n",
       "</g>\n",
       "<!-- 390&#45;&gt;520 -->\n",
       "<g id=\"edge8\" class=\"edge\"><title>390&#45;&gt;520</title>\n",
       "<path fill=\"none\" stroke=\"black\" d=\"M236.978,-71.9961C239.556,-63.4699 242.301,-54.3885 244.778,-46.1962\"/>\n",
       "<polygon fill=\"black\" stroke=\"black\" points=\"248.195,-46.9884 247.739,-36.4034 241.494,-44.9626 248.195,-46.9884\"/>\n",
       "</g>\n",
       "<!-- 522 -->\n",
       "<g id=\"node11\" class=\"node\"><title>522</title>\n",
       "<polygon fill=\"none\" stroke=\"black\" points=\"399,-140 301,-140 301,-72 399,-72 399,-140\"/>\n",
       "<text text-anchor=\"middle\" x=\"350\" y=\"-124.8\" font-family=\"Times,serif\" font-size=\"14.00\">on &lt;= 0.5</text>\n",
       "<text text-anchor=\"middle\" x=\"350\" y=\"-109.8\" font-family=\"Times,serif\" font-size=\"14.00\">gini = 0.023</text>\n",
       "<text text-anchor=\"middle\" x=\"350\" y=\"-94.8\" font-family=\"Times,serif\" font-size=\"14.00\">samples = 85</text>\n",
       "<text text-anchor=\"middle\" x=\"350\" y=\"-79.8\" font-family=\"Times,serif\" font-size=\"14.00\">value = [1, 84]</text>\n",
       "</g>\n",
       "<!-- 521&#45;&gt;522 -->\n",
       "<g id=\"edge10\" class=\"edge\"><title>521&#45;&gt;522</title>\n",
       "<path fill=\"none\" stroke=\"black\" d=\"M387.143,-175.884C382.58,-167.422 377.612,-158.207 372.837,-149.352\"/>\n",
       "<polygon fill=\"black\" stroke=\"black\" points=\"375.782,-147.44 367.956,-140.299 369.621,-150.762 375.782,-147.44\"/>\n",
       "</g>\n",
       "<!-- 527 -->\n",
       "<g id=\"node14\" class=\"node\"><title>527</title>\n",
       "<polygon fill=\"none\" stroke=\"black\" points=\"509,-132.5 417,-132.5 417,-79.5 509,-79.5 509,-132.5\"/>\n",
       "<text text-anchor=\"middle\" x=\"463\" y=\"-117.3\" font-family=\"Times,serif\" font-size=\"14.00\">gini = 0.0</text>\n",
       "<text text-anchor=\"middle\" x=\"463\" y=\"-102.3\" font-family=\"Times,serif\" font-size=\"14.00\">samples = 1</text>\n",
       "<text text-anchor=\"middle\" x=\"463\" y=\"-87.3\" font-family=\"Times,serif\" font-size=\"14.00\">value = [1, 0]</text>\n",
       "</g>\n",
       "<!-- 521&#45;&gt;527 -->\n",
       "<g id=\"edge13\" class=\"edge\"><title>521&#45;&gt;527</title>\n",
       "<path fill=\"none\" stroke=\"black\" d=\"M423.831,-175.884C430.085,-164.886 437.061,-152.617 443.373,-141.517\"/>\n",
       "<polygon fill=\"black\" stroke=\"black\" points=\"446.588,-142.943 448.489,-132.52 440.503,-139.483 446.588,-142.943\"/>\n",
       "</g>\n",
       "<!-- 523 -->\n",
       "<g id=\"node12\" class=\"node\"><title>523</title>\n",
       "<polygon fill=\"none\" stroke=\"black\" points=\"372,-36 318,-36 318,-0 372,-0 372,-36\"/>\n",
       "<text text-anchor=\"middle\" x=\"345\" y=\"-14.3\" font-family=\"Times,serif\" font-size=\"14.00\">(...)</text>\n",
       "</g>\n",
       "<!-- 522&#45;&gt;523 -->\n",
       "<g id=\"edge11\" class=\"edge\"><title>522&#45;&gt;523</title>\n",
       "<path fill=\"none\" stroke=\"black\" d=\"M348.081,-71.9961C347.591,-63.5646 347.069,-54.5902 346.597,-46.4696\"/>\n",
       "<polygon fill=\"black\" stroke=\"black\" points=\"350.086,-46.1833 346.012,-36.4034 343.098,-46.5897 350.086,-46.1833\"/>\n",
       "</g>\n",
       "<!-- 524 -->\n",
       "<g id=\"node13\" class=\"node\"><title>524</title>\n",
       "<polygon fill=\"none\" stroke=\"black\" points=\"444,-36 390,-36 390,-0 444,-0 444,-36\"/>\n",
       "<text text-anchor=\"middle\" x=\"417\" y=\"-14.3\" font-family=\"Times,serif\" font-size=\"14.00\">(...)</text>\n",
       "</g>\n",
       "<!-- 522&#45;&gt;524 -->\n",
       "<g id=\"edge12\" class=\"edge\"><title>522&#45;&gt;524</title>\n",
       "<path fill=\"none\" stroke=\"black\" d=\"M375.712,-71.9961C382.872,-62.8067 390.533,-52.9725 397.288,-44.3014\"/>\n",
       "<polygon fill=\"black\" stroke=\"black\" points=\"400.057,-46.443 403.442,-36.4034 394.535,-42.141 400.057,-46.443\"/>\n",
       "</g>\n",
       "<!-- 529 -->\n",
       "<g id=\"node16\" class=\"node\"><title>529</title>\n",
       "<polygon fill=\"none\" stroke=\"black\" points=\"652.5,-244 533.5,-244 533.5,-176 652.5,-176 652.5,-244\"/>\n",
       "<text text-anchor=\"middle\" x=\"593\" y=\"-228.8\" font-family=\"Times,serif\" font-size=\"14.00\">le &lt;= 0.5</text>\n",
       "<text text-anchor=\"middle\" x=\"593\" y=\"-213.8\" font-family=\"Times,serif\" font-size=\"14.00\">gini = 0.282</text>\n",
       "<text text-anchor=\"middle\" x=\"593\" y=\"-198.8\" font-family=\"Times,serif\" font-size=\"14.00\">samples = 649</text>\n",
       "<text text-anchor=\"middle\" x=\"593\" y=\"-183.8\" font-family=\"Times,serif\" font-size=\"14.00\">value = [539, 110]</text>\n",
       "</g>\n",
       "<!-- 528&#45;&gt;529 -->\n",
       "<g id=\"edge15\" class=\"edge\"><title>528&#45;&gt;529</title>\n",
       "<path fill=\"none\" stroke=\"black\" d=\"M593,-279.884C593,-271.778 593,-262.982 593,-254.472\"/>\n",
       "<polygon fill=\"black\" stroke=\"black\" points=\"596.5,-254.299 593,-244.299 589.5,-254.299 596.5,-254.299\"/>\n",
       "</g>\n",
       "<!-- 698 -->\n",
       "<g id=\"node21\" class=\"node\"><title>698</title>\n",
       "<polygon fill=\"none\" stroke=\"black\" points=\"873.5,-244 768.5,-244 768.5,-176 873.5,-176 873.5,-244\"/>\n",
       "<text text-anchor=\"middle\" x=\"821\" y=\"-228.8\" font-family=\"Times,serif\" font-size=\"14.00\">trump &lt;= 0.5</text>\n",
       "<text text-anchor=\"middle\" x=\"821\" y=\"-213.8\" font-family=\"Times,serif\" font-size=\"14.00\">gini = 0.5</text>\n",
       "<text text-anchor=\"middle\" x=\"821\" y=\"-198.8\" font-family=\"Times,serif\" font-size=\"14.00\">samples = 94</text>\n",
       "<text text-anchor=\"middle\" x=\"821\" y=\"-183.8\" font-family=\"Times,serif\" font-size=\"14.00\">value = [48, 46]</text>\n",
       "</g>\n",
       "<!-- 528&#45;&gt;698 -->\n",
       "<g id=\"edge20\" class=\"edge\"><title>528&#45;&gt;698</title>\n",
       "<path fill=\"none\" stroke=\"black\" d=\"M652.607,-286.334C685.411,-271.658 726.063,-253.472 759.207,-238.644\"/>\n",
       "<polygon fill=\"black\" stroke=\"black\" points=\"760.644,-241.836 768.343,-234.557 757.786,-235.446 760.644,-241.836\"/>\n",
       "</g>\n",
       "<!-- 530 -->\n",
       "<g id=\"node17\" class=\"node\"><title>530</title>\n",
       "<polygon fill=\"none\" stroke=\"black\" points=\"646.5,-140 527.5,-140 527.5,-72 646.5,-72 646.5,-140\"/>\n",
       "<text text-anchor=\"middle\" x=\"587\" y=\"-124.8\" font-family=\"Times,serif\" font-size=\"14.00\">voting &lt;= 0.5</text>\n",
       "<text text-anchor=\"middle\" x=\"587\" y=\"-109.8\" font-family=\"Times,serif\" font-size=\"14.00\">gini = 0.271</text>\n",
       "<text text-anchor=\"middle\" x=\"587\" y=\"-94.8\" font-family=\"Times,serif\" font-size=\"14.00\">samples = 643</text>\n",
       "<text text-anchor=\"middle\" x=\"587\" y=\"-79.8\" font-family=\"Times,serif\" font-size=\"14.00\">value = [539, 104]</text>\n",
       "</g>\n",
       "<!-- 529&#45;&gt;530 -->\n",
       "<g id=\"edge16\" class=\"edge\"><title>529&#45;&gt;530</title>\n",
       "<path fill=\"none\" stroke=\"black\" d=\"M591.052,-175.884C590.575,-167.778 590.058,-158.982 589.557,-150.472\"/>\n",
       "<polygon fill=\"black\" stroke=\"black\" points=\"593.04,-150.077 588.959,-140.299 586.052,-150.488 593.04,-150.077\"/>\n",
       "</g>\n",
       "<!-- 697 -->\n",
       "<g id=\"node20\" class=\"node\"><title>697</title>\n",
       "<polygon fill=\"none\" stroke=\"black\" points=\"757,-132.5 665,-132.5 665,-79.5 757,-79.5 757,-132.5\"/>\n",
       "<text text-anchor=\"middle\" x=\"711\" y=\"-117.3\" font-family=\"Times,serif\" font-size=\"14.00\">gini = 0.0</text>\n",
       "<text text-anchor=\"middle\" x=\"711\" y=\"-102.3\" font-family=\"Times,serif\" font-size=\"14.00\">samples = 6</text>\n",
       "<text text-anchor=\"middle\" x=\"711\" y=\"-87.3\" font-family=\"Times,serif\" font-size=\"14.00\">value = [0, 6]</text>\n",
       "</g>\n",
       "<!-- 529&#45;&gt;697 -->\n",
       "<g id=\"edge19\" class=\"edge\"><title>529&#45;&gt;697</title>\n",
       "<path fill=\"none\" stroke=\"black\" d=\"M631.311,-175.884C644.925,-164.116 660.221,-150.894 673.745,-139.203\"/>\n",
       "<polygon fill=\"black\" stroke=\"black\" points=\"676.2,-141.707 681.477,-132.52 671.623,-136.412 676.2,-141.707\"/>\n",
       "</g>\n",
       "<!-- 531 -->\n",
       "<g id=\"node18\" class=\"node\"><title>531</title>\n",
       "<polygon fill=\"none\" stroke=\"black\" points=\"578,-36 524,-36 524,-0 578,-0 578,-36\"/>\n",
       "<text text-anchor=\"middle\" x=\"551\" y=\"-14.3\" font-family=\"Times,serif\" font-size=\"14.00\">(...)</text>\n",
       "</g>\n",
       "<!-- 530&#45;&gt;531 -->\n",
       "<g id=\"edge17\" class=\"edge\"><title>530&#45;&gt;531</title>\n",
       "<path fill=\"none\" stroke=\"black\" d=\"M573.184,-71.9961C569.536,-63.2804 565.645,-53.9846 562.156,-45.6514\"/>\n",
       "<polygon fill=\"black\" stroke=\"black\" points=\"565.375,-44.2763 558.285,-36.4034 558.918,-46.9793 565.375,-44.2763\"/>\n",
       "</g>\n",
       "<!-- 696 -->\n",
       "<g id=\"node19\" class=\"node\"><title>696</title>\n",
       "<polygon fill=\"none\" stroke=\"black\" points=\"650,-36 596,-36 596,-0 650,-0 650,-36\"/>\n",
       "<text text-anchor=\"middle\" x=\"623\" y=\"-14.3\" font-family=\"Times,serif\" font-size=\"14.00\">(...)</text>\n",
       "</g>\n",
       "<!-- 530&#45;&gt;696 -->\n",
       "<g id=\"edge18\" class=\"edge\"><title>530&#45;&gt;696</title>\n",
       "<path fill=\"none\" stroke=\"black\" d=\"M600.816,-71.9961C604.464,-63.2804 608.355,-53.9846 611.844,-45.6514\"/>\n",
       "<polygon fill=\"black\" stroke=\"black\" points=\"615.082,-46.9793 615.715,-36.4034 608.625,-44.2763 615.082,-46.9793\"/>\n",
       "</g>\n",
       "<!-- 699 -->\n",
       "<g id=\"node22\" class=\"node\"><title>699</title>\n",
       "<polygon fill=\"none\" stroke=\"black\" points=\"867,-132.5 775,-132.5 775,-79.5 867,-79.5 867,-132.5\"/>\n",
       "<text text-anchor=\"middle\" x=\"821\" y=\"-117.3\" font-family=\"Times,serif\" font-size=\"14.00\">gini = 0.0</text>\n",
       "<text text-anchor=\"middle\" x=\"821\" y=\"-102.3\" font-family=\"Times,serif\" font-size=\"14.00\">samples = 9</text>\n",
       "<text text-anchor=\"middle\" x=\"821\" y=\"-87.3\" font-family=\"Times,serif\" font-size=\"14.00\">value = [9, 0]</text>\n",
       "</g>\n",
       "<!-- 698&#45;&gt;699 -->\n",
       "<g id=\"edge21\" class=\"edge\"><title>698&#45;&gt;699</title>\n",
       "<path fill=\"none\" stroke=\"black\" d=\"M821,-175.884C821,-165.326 821,-153.597 821,-142.854\"/>\n",
       "<polygon fill=\"black\" stroke=\"black\" points=\"824.5,-142.52 821,-132.52 817.5,-142.52 824.5,-142.52\"/>\n",
       "</g>\n",
       "<!-- 700 -->\n",
       "<g id=\"node23\" class=\"node\"><title>700</title>\n",
       "<polygon fill=\"none\" stroke=\"black\" points=\"990.5,-140 885.5,-140 885.5,-72 990.5,-72 990.5,-140\"/>\n",
       "<text text-anchor=\"middle\" x=\"938\" y=\"-124.8\" font-family=\"Times,serif\" font-size=\"14.00\">in &lt;= 0.5</text>\n",
       "<text text-anchor=\"middle\" x=\"938\" y=\"-109.8\" font-family=\"Times,serif\" font-size=\"14.00\">gini = 0.497</text>\n",
       "<text text-anchor=\"middle\" x=\"938\" y=\"-94.8\" font-family=\"Times,serif\" font-size=\"14.00\">samples = 85</text>\n",
       "<text text-anchor=\"middle\" x=\"938\" y=\"-79.8\" font-family=\"Times,serif\" font-size=\"14.00\">value = [39, 46]</text>\n",
       "</g>\n",
       "<!-- 698&#45;&gt;700 -->\n",
       "<g id=\"edge22\" class=\"edge\"><title>698&#45;&gt;700</title>\n",
       "<path fill=\"none\" stroke=\"black\" d=\"M858.987,-175.884C869.51,-166.709 881.048,-156.65 891.977,-147.123\"/>\n",
       "<polygon fill=\"black\" stroke=\"black\" points=\"894.566,-149.509 899.804,-140.299 889.966,-144.233 894.566,-149.509\"/>\n",
       "</g>\n",
       "<!-- 701 -->\n",
       "<g id=\"node24\" class=\"node\"><title>701</title>\n",
       "<polygon fill=\"none\" stroke=\"black\" points=\"929,-36 875,-36 875,-0 929,-0 929,-36\"/>\n",
       "<text text-anchor=\"middle\" x=\"902\" y=\"-14.3\" font-family=\"Times,serif\" font-size=\"14.00\">(...)</text>\n",
       "</g>\n",
       "<!-- 700&#45;&gt;701 -->\n",
       "<g id=\"edge23\" class=\"edge\"><title>700&#45;&gt;701</title>\n",
       "<path fill=\"none\" stroke=\"black\" d=\"M924.184,-71.9961C920.536,-63.2804 916.645,-53.9846 913.156,-45.6514\"/>\n",
       "<polygon fill=\"black\" stroke=\"black\" points=\"916.375,-44.2763 909.285,-36.4034 909.918,-46.9793 916.375,-44.2763\"/>\n",
       "</g>\n",
       "<!-- 738 -->\n",
       "<g id=\"node25\" class=\"node\"><title>738</title>\n",
       "<polygon fill=\"none\" stroke=\"black\" points=\"1001,-36 947,-36 947,-0 1001,-0 1001,-36\"/>\n",
       "<text text-anchor=\"middle\" x=\"974\" y=\"-14.3\" font-family=\"Times,serif\" font-size=\"14.00\">(...)</text>\n",
       "</g>\n",
       "<!-- 700&#45;&gt;738 -->\n",
       "<g id=\"edge24\" class=\"edge\"><title>700&#45;&gt;738</title>\n",
       "<path fill=\"none\" stroke=\"black\" d=\"M951.816,-71.9961C955.464,-63.2804 959.355,-53.9846 962.844,-45.6514\"/>\n",
       "<polygon fill=\"black\" stroke=\"black\" points=\"966.082,-46.9793 966.715,-36.4034 959.625,-44.2763 966.082,-46.9793\"/>\n",
       "</g>\n",
       "</g>\n",
       "</svg>\n"
      ],
      "text/plain": [
       "<graphviz.files.Source at 0x7f4d80145d90>"
      ]
     },
     "execution_count": 329,
     "metadata": {},
     "output_type": "execute_result"
    }
   ],
   "source": [
    "clf, perfTrain_part7, perfVali_part7, perfTest_part7 = part7a(90)\n",
    "dot_data = tree.export_graphviz(clf, max_depth=3, out_file=None, feature_names = wordList)\n",
    "graph = graphviz.Source(dot_data)\n",
    "graph"
   ]
  },
  {
   "cell_type": "markdown",
   "metadata": {},
   "source": [
    "### Part 7c"
   ]
  },
  {
   "cell_type": "markdown",
   "metadata": {},
   "source": [
    "to be conpleted ...."
   ]
  },
  {
   "cell_type": "markdown",
   "metadata": {},
   "source": [
    "# Part 8"
   ]
  },
  {
   "cell_type": "markdown",
   "metadata": {},
   "source": [
    "### Part 8a"
   ]
  },
  {
   "cell_type": "markdown",
   "metadata": {},
   "source": [
    "to be conpleted ...."
   ]
  },
  {
   "cell_type": "markdown",
   "metadata": {},
   "source": [
    "### Part 8b"
   ]
  },
  {
   "cell_type": "markdown",
   "metadata": {},
   "source": [
    "to be conpleted ...."
   ]
  }
 ],
 "metadata": {
  "kernelspec": {
   "display_name": "Python 2",
   "language": "python",
   "name": "python2"
  },
  "language_info": {
   "codemirror_mode": {
    "name": "ipython",
    "version": 2
   },
   "file_extension": ".py",
   "mimetype": "text/x-python",
   "name": "python",
   "nbconvert_exporter": "python",
   "pygments_lexer": "ipython2",
   "version": "2.7.14"
  }
 },
 "nbformat": 4,
 "nbformat_minor": 2
}
