{
 "cells": [
  {
   "cell_type": "markdown",
   "metadata": {},
   "source": [
    "# Import Libraries"
   ]
  },
  {
   "cell_type": "code",
   "execution_count": 49,
   "metadata": {
    "collapsed": true
   },
   "outputs": [],
   "source": [
    "from pylab import *\n",
    "import numpy as np\n",
    "import matplotlib.pyplot as plt\n",
    "import matplotlib.cbook as cbook\n",
    "import time\n",
    "from scipy.misc import imread\n",
    "from scipy.misc import imresize\n",
    "import matplotlib.image as mpimg\n",
    "from scipy.ndimage import filters\n",
    "import urllib\n",
    "from numpy import random\n",
    "import copy\n",
    "import math\n",
    "from __future__ import division\n",
    "\n",
    "import cPickle\n",
    "\n",
    "import os\n",
    "from scipy.io import loadmat"
   ]
  },
  {
   "cell_type": "code",
   "execution_count": 2,
   "metadata": {
    "collapsed": true
   },
   "outputs": [],
   "source": [
    "#plt.show() in jupyter notebook\n",
    "%matplotlib inline"
   ]
  },
  {
   "cell_type": "markdown",
   "metadata": {},
   "source": [
    "# Part 1"
   ]
  },
  {
   "cell_type": "markdown",
   "metadata": {},
   "source": [
    "#### Analysis Data"
   ]
  },
  {
   "cell_type": "code",
   "execution_count": 51,
   "metadata": {
    "collapsed": true
   },
   "outputs": [],
   "source": [
    "def Counts(d):\n",
    "    '''\n",
    "    input: a list of lists of strings that represents one new title\n",
    "    output: a dictionary that contains every word appeared and its count. To be precise, key is word and value is count.\n",
    "    '''\n",
    "    wordsCounts = {}\n",
    "    for i in d:\n",
    "        temp = []\n",
    "        for j in i:\n",
    "            if j in temp:\n",
    "                continue\n",
    "            else:\n",
    "                temp.append(j)\n",
    "                if j not in wordsCounts:\n",
    "                    wordsCounts[j] = 1.0\n",
    "                else:\n",
    "                    wordsCounts[j] += 1.0\n",
    "\n",
    "    return wordsCounts"
   ]
  },
  {
   "cell_type": "code",
   "execution_count": 52,
   "metadata": {
    "scrolled": false
   },
   "outputs": [
    {
     "name": "stdout",
     "output_type": "stream",
     "text": [
      "the 1-th most prevealing word in fake news is trump :1282\n",
      "the 2-th most prevealing word in fake news is to :366\n",
      "the 3-th most prevealing word in fake news is the :363\n",
      "the 4-th most prevealing word in fake news is donald :228\n",
      "the 5-th most prevealing word in fake news is in :218\n",
      "the 6-th most prevealing word in fake news is of :197\n",
      "the 7-th most prevealing word in fake news is for :196\n",
      "the 8-th most prevealing word in fake news is a :172\n",
      "the 9-th most prevealing word in fake news is and :166\n",
      "the 10-th most prevealing word in fake news is on :160\n",
      "\n",
      "\n",
      "the 1-th most prevealing word in real news is trump :1739\n",
      "the 2-th most prevealing word in real news is donald :828\n",
      "the 3-th most prevealing word in real news is to :380\n",
      "the 4-th most prevealing word in real news is us :230\n",
      "the 5-th most prevealing word in real news is trumps :219\n",
      "the 6-th most prevealing word in real news is in :213\n",
      "the 7-th most prevealing word in real news is on :204\n",
      "the 8-th most prevealing word in real news is of :181\n",
      "the 9-th most prevealing word in real news is says :178\n",
      "the 10-th most prevealing word in real news is for :171\n"
     ]
    },
    {
     "data": {
      "image/png": "[encoded data removed]",
      "text/plain": [
       "<matplotlib.figure.Figure at 0x7f4d88143d10>"
      ]
     },
     "metadata": {},
     "output_type": "display_data"
    }
   ],
   "source": [
    "#import fakeData and realData from text files\n",
    "fakeData = [line.rstrip('\\n').split(' ') for line in open('clean_fake.txt')]\n",
    "realData = [line.rstrip('\\n').split(' ') for line in open('clean_real.txt')]\n",
    "\n",
    "#count words in realData and fakeData\n",
    "fakeWordsCounts = Counts(fakeData)\n",
    "realWordsCounts = Counts(realData)\n",
    "            \n",
    "#sort words according to how often they appear\n",
    "fakeWordsInOrder = sorted(fakeWordsCounts, key = fakeWordsCounts.__getitem__, reverse=True)\n",
    "realWordsInOrder = sorted(realWordsCounts, key = realWordsCounts.__getitem__, reverse=True)\n",
    "\n",
    "#plot\n",
    "fig = plt.figure(11)\n",
    "plt.plot(range(20), [fakeWordsCounts[fakeWordsInOrder[i]] for i in range(20)], label = \"fake\")\n",
    "plt.plot(range(20), [realWordsCounts[realWordsInOrder[i]] for i in range(20)], label = \"real\")\n",
    "plt.ylabel(\"number of appearance\")\n",
    "plt.xlabel(\"the i-th most prevailing word\")\n",
    "plt.legend(loc = \"best\")\n",
    "\n",
    "#print the most prevailing words:\n",
    "for i in range(10):\n",
    "    print \"the %i-th most prevealing word in fake news is %s :%i\"%(i+1,fakeWordsInOrder[i],fakeWordsCounts[fakeWordsInOrder[i]])\n",
    "print('\\n')\n",
    "for i in range(10):\n",
    "    print \"the %i-th most prevealing word in real news is %s :%i\"%(i+1,realWordsInOrder[i],realWordsCounts[realWordsInOrder[i]])"
   ]
  },
  {
   "cell_type": "markdown",
   "metadata": {},
   "source": [
    "#### Spliting data\n"
   ]
  },
  {
   "cell_type": "code",
   "execution_count": 100,
   "metadata": {
    "collapsed": true
   },
   "outputs": [],
   "source": [
    "random.seed(0)\n",
    "fakeDataCopy = copy.deepcopy(fakeData)\n",
    "realDataCopy = copy.deepcopy(realData)\n",
    "random.shuffle(fakeDataCopy)\n",
    "random.shuffle(realDataCopy)\n",
    "\n",
    "fakeTrain = fakeDataCopy[:int(len(fakeDataCopy)*0.7)]\n",
    "fakeVali = fakeDataCopy[int(len(fakeDataCopy)*0.7):int(len(fakeDataCopy)*0.85)]\n",
    "fakeTest = fakeDataCopy[int(len(fakeDataCopy)*0.85):]\n",
    "\n",
    "realTrain = realDataCopy[:int(len(realDataCopy)*0.7)]\n",
    "realVali = realDataCopy[int(len(realDataCopy)*0.7):int(len(realDataCopy)*0.85)]\n",
    "realTest = realDataCopy[int(len(realDataCopy)*0.85):]"
   ]
  },
  {
   "cell_type": "markdown",
   "metadata": {},
   "source": [
    "# Part 2"
   ]
  },
  {
   "cell_type": "code",
   "execution_count": 104,
   "metadata": {
    "collapsed": true
   },
   "outputs": [],
   "source": [
    "#construct wordList that contains all the words appeared in training sets\n",
    "wordList = []\n",
    "for i in fakeTrain:\n",
    "    wordList.extend(i)\n",
    "for i in realTrain:\n",
    "    wordList.extend(i)\n",
    "wordList = sorted(set(wordList), key=wordList.index)\n",
    "\n",
    "#Getting parameter:\n",
    "fakeWordsCountsTrain = Counts(fakeTrain)\n",
    "realWordsCountsTrain = Counts(realTrain)"
   ]
  },
  {
   "cell_type": "code",
   "execution_count": 105,
   "metadata": {},
   "outputs": [],
   "source": [
    "def NaiveBayes(m, pHat):\n",
    "    print \"running NaiveBayes with m = %05.5f, pHat = %05.5f\"%(m, pHat)\n",
    "\n",
    "    wordsProb={} #a dictionary whose key is the word xi and value is a list: the first element in sublist is P(xi=1|fake), the second element is sublist is P(xi=1|real).\n",
    "    for i in wordList:\n",
    "        if i in fakeWordsCountsTrain:\n",
    "            p_x_fake = float(fakeWordsCountsTrain[i] + m*pHat)/float(len(fakeTrain) + m)\n",
    "        else:\n",
    "            p_x_fake = float(m*pHat)/float(len(fakeTrain) + m)\n",
    "        if i in realWordsCountsTrain:\n",
    "            p_x_real = float(realWordsCountsTrain[i] + m*pHat)/float(len(realTrain) + m)\n",
    "        else:\n",
    "            p_x_real = float(m*pHat)/float(len(realTrain) + m)\n",
    "        wordsProb[i] = [p_x_fake,p_x_real]\n",
    "\n",
    "    p_fake = float(len(fakeTrain))/float(len(realTrain) + len(fakeTrain))\n",
    "\n",
    "    #performance on validation set\n",
    "    correct = 0.0\n",
    "    for i in fakeVali:\n",
    "        fakeProb = 0.0\n",
    "        realProb = 0.0\n",
    "        for j in wordsProb:\n",
    "            if j in i:\n",
    "                fakeProb += math.log(wordsProb[j][0])\n",
    "                realProb += math.log(wordsProb[j][1])\n",
    "            else:\n",
    "                fakeProb += math.log(1-wordsProb[j][0])\n",
    "                realProb += math.log(1-wordsProb[j][1])\n",
    "        fakeProb = fakeProb*p_fake\n",
    "        realProb = realProb*(1-p_fake)\n",
    "\n",
    "        if fakeProb >= realProb:\n",
    "            correct += 1\n",
    "\n",
    "    for i in realVali:\n",
    "        fakeProb = 0.0\n",
    "        realProb = 0.0\n",
    "        for j in wordsProb:\n",
    "            if j in i:\n",
    "                fakeProb += math.log(wordsProb[j][0])\n",
    "                realProb += math.log(wordsProb[j][1])\n",
    "            else:\n",
    "                fakeProb += math.log(1-wordsProb[j][0])\n",
    "                realProb += math.log(1-wordsProb[j][1])\n",
    "        fakeProb = (fakeProb*p_fake\n",
    "        realProb = (realProb*(1-p_fake)\n",
    "\n",
    "        if fakeProb <= realProb:\n",
    "            correct += 1        \n",
    "\n",
    "    perfVali = float(correct)/float(len(fakeVali)+len(realVali))\n",
    "    print \"performance on validation set is %04.4f\"%(perfVali)\n",
    "    '''\n",
    "    #performance on test set\n",
    "    correct = 0.0\n",
    "    for i in fakeTest:\n",
    "        fakeProb = 0.0\n",
    "        realProb = 0.0\n",
    "        for j in wordsProb:\n",
    "            if j in i:\n",
    "                fakeProb += math.log(wordsProb[j][0])\n",
    "                realProb += math.log(wordsProb[j][1])\n",
    "            else:\n",
    "                fakeProb += math.log(1-wordsProb[j][0])\n",
    "                realProb += math.log(1-wordsProb[j][1])\n",
    "        fakeProb = math.exp(fakeProb)*p_fake\n",
    "        realProb = math.exp(realProb)*(1-p_fake)\n",
    "\n",
    "        if fakeProb >= realProb:\n",
    "            correct += 1\n",
    "\n",
    "    for i in realTest:\n",
    "        fakeProb = 0.0\n",
    "        realProb = 0.0\n",
    "        for j in wordsProb:\n",
    "            if j in i:\n",
    "                fakeProb += math.log(wordsProb[j][0])\n",
    "                realProb += math.log(wordsProb[j][1])\n",
    "            else:\n",
    "                fakeProb += math.log(1-wordsProb[j][0])\n",
    "                realProb += math.log(1-wordsProb[j][1])\n",
    "        fakeProb = math.exp(fakeProb)*p_fake\n",
    "        realProb = math.exp(realProb)*(1-p_fake)\n",
    "\n",
    "        if fakeProb <= realProb:\n",
    "            correct += 1       \n",
    "    \n",
    "    perfTest = float(correct)/float(len(fakeTest)+len(realTest))\n",
    "    print \"performance on test set is %04.4f\"%(perfTest)\n",
    "    '''\n",
    "    return perfVali"
   ]
  },
  {
   "cell_type": "code",
   "execution_count": 106,
   "metadata": {
    "scrolled": true
   },
   "outputs": [
    {
     "name": "stdout",
     "output_type": "stream",
     "text": [
      "running NaiveBayes with m = 100.00000, pHat = 0.10000\n",
      "performance on validation set is 0.3980\n",
      "running NaiveBayes with m = 200.00000, pHat = 0.10000\n",
      "performance on validation set is 0.3980\n",
      "running NaiveBayes with m = 300.00000, pHat = 0.10000\n",
      "performance on validation set is 0.3980\n",
      "running NaiveBayes with m = 400.00000, pHat = 0.10000\n",
      "performance on validation set is 0.3980\n",
      "running NaiveBayes with m = 500.00000, pHat = 0.10000\n",
      "performance on validation set is 0.3980\n",
      "running NaiveBayes with m = 600.00000, pHat = 0.10000\n",
      "performance on validation set is 0.3980\n",
      "running NaiveBayes with m = 700.00000, pHat = 0.10000\n",
      "performance on validation set is 0.3980\n"
     ]
    }
   ],
   "source": [
    "perfValiDict = {}\n",
    "for m in np.arange(100,800,100):\n",
    "    for pHat in np.arange(0.1,0.11,0.01):\n",
    "        temp = NaiveBayes(m,pHat)\n",
    "        perfValiDict[(m,pHat)] = temp"
   ]
  },
  {
   "cell_type": "code",
   "execution_count": 41,
   "metadata": {
    "collapsed": true
   },
   "outputs": [],
   "source": [
    "a = perfValiDict\n",
    "b = perfTestDict"
   ]
  }
 ],
 "metadata": {
  "kernelspec": {
   "display_name": "Python 2",
   "language": "python",
   "name": "python2"
  },
  "language_info": {
   "codemirror_mode": {
    "name": "ipython",
    "version": 2
   },
   "file_extension": ".py",
   "mimetype": "text/x-python",
   "name": "python",
   "nbconvert_exporter": "python",
   "pygments_lexer": "ipython2",
   "version": "2.7.14"
  }
 },
 "nbformat": 4,
 "nbformat_minor": 2
}
